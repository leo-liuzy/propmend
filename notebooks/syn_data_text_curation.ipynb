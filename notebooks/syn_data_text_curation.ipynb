{
 "cells": [
  {
   "cell_type": "code",
   "execution_count": 1,
   "id": "1177ff58",
   "metadata": {},
   "outputs": [
    {
     "name": "stderr",
     "output_type": "stream",
     "text": [
      "/home/zliu/miniconda3/envs/cpt/lib/python3.11/site-packages/tqdm/auto.py:21: TqdmWarning: IProgress not found. Please update jupyter and ipywidgets. See https://ipywidgets.readthedocs.io/en/stable/user_install.html\n",
      "  from .autonotebook import tqdm as notebook_tqdm\n"
     ]
    }
   ],
   "source": [
    "import datasets\n",
    "from datasets import load_dataset\n",
    "from tqdm import tqdm\n",
    "import vars\n",
    "from scipy.stats import describe\n",
    "from typing import List, Dict\n",
    "import re\n",
    "from copy import deepcopy\n",
    "import pandas as pd\n",
    "import random\n",
    "\n",
    "from collections import defaultdict, Counter\n",
    "from utils import load_json, dump_jsonlines, dump_json, load_jsonlines\n",
    "import matplotlib.pyplot as plt\n",
    "import numpy as np\n",
    "import os\n",
    "from copy import deepcopy\n",
    "import itertools"
   ]
  },
  {
   "cell_type": "code",
   "execution_count": 2,
   "id": "423310a3",
   "metadata": {},
   "outputs": [],
   "source": [
    "person_subject_ingredients = load_json(f\"{vars.DATA_DIR}/story_propagation_ingredients/fake_person_name_components.json\")\n",
    "company_subject_ingredients = load_json(f\"{vars.DATA_DIR}/story_propagation_ingredients/fake_company_name_components.json\")\n",
    "\n",
    "subject_type2ingredients = {\n",
    "    \"person\": person_subject_ingredients,\n",
    "    \"company\": company_subject_ingredients\n",
    "}\n",
    "N_ENTITY_IN_TEXT = 3\n"
   ]
  },
  {
   "cell_type": "code",
   "execution_count": 3,
   "id": "1af8954d",
   "metadata": {},
   "outputs": [],
   "source": [
    "\n",
    "def subject_sampler(subject_ingredients: dict) -> str:\n",
    "    \"\"\"\n",
    "    Convert a subject ingredient dictionary to a string.\n",
    "    \"\"\"\n",
    "    component_names = [c for c in subject_ingredients.keys() if c not in [\"template\", \"gender\"]]\n",
    "    component_instantiations = {c: random.choice(subject_ingredients[c]) for c in component_names}\n",
    "    template = subject_ingredients[\"template\"]\n",
    "    gender = random.choice(subject_ingredients[\"gender\"])\n",
    "    \n",
    "    return {\n",
    "        \"subject\": template.format(**component_instantiations), \n",
    "        \"gender\": gender\n",
    "    }"
   ]
  },
  {
   "cell_type": "code",
   "execution_count": 4,
   "id": "dc899de2",
   "metadata": {},
   "outputs": [],
   "source": [
    "gender_type2subj = {\n",
    "    \"male\": \"he\",\n",
    "    \"female\": \"she\",\n",
    "    \"it\": \"it\",\n",
    "}\n",
    "gender_type2obj = {\n",
    "    \"male\": \"him\",\n",
    "    \"female\": \"her\",\n",
    "    \"it\": \"it\",\n",
    "}\n",
    "\n",
    "gender_type2possessive_adj = {\n",
    "    \"male\": \"his\",\n",
    "    \"female\": \"her\",\n",
    "    \"it\": \"its\",\n",
    "}\n",
    "gender_type2possessive_pronoun = {\n",
    "    \"male\": \"his\",\n",
    "    \"female\": \"hers\",\n",
    "    \"it\": \"its\",\n",
    "}\n",
    "gender_type2reflexive_pronoun = {\n",
    "    \"male\": \"himself\",\n",
    "    \"female\": \"herself\",\n",
    "    \"it\": \"itself\",\n",
    "}"
   ]
  },
  {
   "cell_type": "code",
   "execution_count": null,
   "id": "94590b74",
   "metadata": {},
   "outputs": [],
   "source": []
  },
  {
   "cell_type": "code",
   "execution_count": 5,
   "id": "66867aff",
   "metadata": {},
   "outputs": [],
   "source": [
    "question_template2paraphrase = {\n",
    "    # country -- checked\n",
    "    \"What is the top-level internet domain for {country}?\": \"What is the primary internet domain suffix for {country}?\",\n",
    "    \"What is the calling code for {country}?\": \"What is the international dialing code for {country}?\",\n",
    "    \"What is the currency of {country}?\": \"What is the main currency used in {country}?\",\n",
    "    \"Which religion has the most followers in {country}?\": \"Which religion has the largest number of followers in {country}?\",\n",
    "    \"Which ethnic group is the largest in {country}?\": \"Which religion has the largest number of followers in {country}?\",\n",
    "    \"What is the ISO alpha-2 code for {country}?\": \"What is the two-letter ISO code for {country}?\",\n",
    "    \"What language in {country} has the most speakers?\": \"What is the most widely spoken language in {country}?\",\n",
    "    \"What is the capital of {country}?\": \"What is the capital city of {country}?\",\n",
    "    \n",
    "    # creative_work -- checked\n",
    "    \"What is the genre or style of {creative_work}?\": \"What kind of genre or style is {creative_work}?\",\n",
    "    \"What is the original language of {creative_work}?\": \"In what language was {creative_work} originally created?\",\n",
    "    \"Who is the creator of {creative_work}?\": \"Who created {creative_work}?\",\n",
    "    \"In which country was {creative_work} first released or published?\": \"Which country was {creative_work} first made available in?\",\n",
    "    \"When was {creative_work} released or published?\": \"When was {creative_work} first made available?\",\n",
    "    \"Where was {creative_work} produced or created?\": \"Where was {creative_work} made or created?\",\n",
    "    \n",
    "    # event -- checked\n",
    "    \"In which country did {event} happen?\": \"Where did {event} take place?\",\n",
    "    \"What year did {event} end?\": \"In what year did {event} conclude?\",\n",
    "    \"Who was the most important leader or figure involved in {event}?\": \"Who was the most significant leader or figure involved in {event}?\",\n",
    "    \"When did {event} take place?\": \"In what year did {event} occur?\",\n",
    "    \n",
    "    # Language -- checked\n",
    "    \"What writing system is used by {language}?\": \"What script is used by {language}?\",\n",
    "    \"What region is {language} native to?\": \"In which region is {language} primarily spoken?\",\n",
    "    \"What is the primary word order in {language}?\": \"What is the typical word order in {language} sentences?\",\n",
    "    \"What is the ISO 639\\u20111 code for {language}?\": \"What is the two-letter ISO code for {language}?\",\n",
    "    \"What is the name of the alphabet or script of {language}?\": \"What is the standard script for writing {language}?\",\n",
    "    \n",
    "    # Organization -- checked\n",
    "    \"Where is the headquarters of {organization} located?\": \"Where is {organization} headquartered?\",\n",
    "    \"What is the primary field or industry of {organization}?\": \"In which field or industry does {organization} primarily operate?\",\n",
    "    \"Where was {organization} established?\": \"In which location was {organization} founded?\",\n",
    "    \"What primary service or product does {organization} provide?\": \"What is the main service or product offered by {organization}?\",\n",
    "    \"In what year was {organization} established?\": \"What year was {organization} created?\",\n",
    "    \"Who established {organization}?\": \"Who was the founder of {organization}?\",\n",
    "    \n",
    "    # Person -- checked\n",
    "    \"What year did {person} pass away?\": \"In what year did {person} die?\",\n",
    "    \"What occupation is {person} most well-known for?\": \"What is the most famous profession of {person}?\",\n",
    "    \"Where did {person} die?\": \"What was the place of death of {person}?\",\n",
    "    \"Where was the birthplace of {person}?\": \"In which location was {person} born?\",\n",
    "    \"What language was primarily spoken by {person}?\": \"What language did {person} mainly use?\",\n",
    "    \"What year was {person} born?\": \"What year marks the birth of {person}?\",\n",
    "    \"What is the religion of {person}?\": \"What faith does {person} adhere to?\",\n",
    "    # Species\n",
    "    \"What is the social structure of {species}?\": \"What type of social organization does {species} have?\",\n",
    "    \"What type of organism is {species}?\": \"What biological category does {species} belong to?\",\n",
    "    \"Where is {species} primarily native to?\": \"What is the native region of {species}?\",\n",
    "    \"What is the diet of {species}?\": \"What kind of food does {species} consume?\",\n",
    "}"
   ]
  },
  {
   "cell_type": "code",
   "execution_count": 6,
   "id": "7eb5396b",
   "metadata": {},
   "outputs": [],
   "source": [
    "question2answer = load_json(f\"{vars.DATA_DIR}/story_propagation_ingredients/question2answer_curated_final.json\")\n",
    "entity_type2tag = {\n",
    "    \"Person\": \"person\",\n",
    "    \"Event\": \"event\",\n",
    "    \"Species\": \"species\",\n",
    "    \"Language\": \"language\",\n",
    "    \"Organization\": \"organization\",\n",
    "    \"Creative Work\": \"creative_work\",\n",
    "    \"Country\": \"country\",\n",
    "}\n",
    "tag2entity_type = {v: k for k, v in entity_type2tag.items()}\n",
    "assert len(entity_type2tag) == len(tag2entity_type)"
   ]
  },
  {
   "cell_type": "code",
   "execution_count": null,
   "id": "4f200824",
   "metadata": {},
   "outputs": [],
   "source": [
    "country_subject_type2text_template = {\n",
    "    \"person\": \"{subject} was born in {country_1}. {Gender_subj} spent most of {gender_possessive_adj} adult life in {country_2}. After retirement, {gender_subj} lived in {country_3} and passed away.\",\n",
    "    \"company\": \"{subject} was founded in {country_1}. {Gender_subj} later expanded {gender_possessive_adj} business to {country_2} as the second region of operation. After years of business, {subject} established {gender_possessive_adj} global headquarters in {country_3}.\"\n",
    "}\n",
    "\n",
    "country_subject_type2aliases = {\n",
    "    \"person\": [\n",
    "        \"the country that {subject} was born in\", # country_1\n",
    "        \"the country that {subject} spent most of {gender_possessive_adj} adult life in\", # country_2\n",
    "        \"the country that {subject} died in\", # country_3\n",
    "    ],\n",
    "    \"company\": [\n",
    "        \"the country that {subject} was founded in\", # country_1\n",
    "        \"the country that {subject} expanded to as the second region of operation\", # country_2\n",
    "        \"the country that hosted {subject}'s global headquarters\", # country_3\n",
    "    ]\n",
    "}\n",
    "\n",
    "# TODO: need a templates for other baselines (prefix = verbalized (subject, relation, *))\n",
    "# MEND: prefix, paraphrased_prefix, target\n",
    "# MEMIT: prefix, subject, target\n",
    "country_subject_type2structured_events = {\n",
    "    \"person\": [\n",
    "        {\n",
    "            \"fact\": \"{subject} was born in {country_1}.\",\n",
    "            \"prefix\": \"{subject} was born in\",\n",
    "            \"paraphrase\": \"{subject} was originally from {country_1}.\",\n",
    "            \"paraphrase_prefix\": \"{subject} was originally from\",\n",
    "            \"target\": \"{country_1}\",\n",
    "        },\n",
    "        {\n",
    "            \"fact\": \"{subject} spent most of {gender_possessive_adj} adult life in {country_2}.\",\n",
    "            \"prefix\": \"{subject} spent most of {gender_possessive_adj} adult life in\",\n",
    "            \"paraphrase\": \"The bulk of {subject}'s adult life was spent in {country_2}.\",\n",
    "            \"paraphrase_prefix\": \"The bulk of {subject}'s adult life was spent in\",\n",
    "            \"target\": \"{country_2}\",\n",
    "        },\n",
    "        {\n",
    "            \"fact\": \"{subject} died in {country_3}.\",\n",
    "            \"prefix\": \"{subject} died in\",\n",
    "            \"paraphrase\": \"{subject} passed away in {country_3}.\",\n",
    "            \"paraphrase_prefix\": \"{subject} passed away in\",\n",
    "            \"target\": \"{country_3}\",\n",
    "        },\n",
    "    ],\n",
    "    \"company\": [\n",
    "        {\n",
    "            \"fact\": \"{subject} was founded in {country_1}.\",\n",
    "            \"prefix\": \"{subject} was founded in\",\n",
    "            \"paraphrase\": \"{subject} was established in {country_1}.\",\n",
    "            \"paraphrase_prefix\": \"{subject} was established in\",\n",
    "            \"target\": \"{country_1}\",\n",
    "        },\n",
    "        {\n",
    "            \"fact\": \"{subject}'s second region of operation was {country_2}.\",\n",
    "            \"prefix\": \"{subject}'s second region of operation was\",\n",
    "            \"paraphrase\": \"{subject}'s second operational region was {country_2}.\",\n",
    "            \"paraphrase_prefix\": \"{subject}'s second operational region was\",\n",
    "            \"target\": \"{country_2}\",\n",
    "        },\n",
    "        {\n",
    "            \"fact\": \"{subject}'s global headquarters was located in {country_3}.\",\n",
    "            \"prefix\": \"{subject}'s global headquarters was located in\",\n",
    "            \"paraphrase\": \"{subject} had its global headquarters in {country_3}.\",\n",
    "            \"paraphrase_prefix\": \"{subject} had its global headquarters in\",\n",
    "            \"target\": \"{country_3}\",\n",
    "        },\n",
    "    ]\n",
    "}\n"
   ]
  },
  {
   "cell_type": "code",
   "execution_count": 8,
   "id": "d63638c4",
   "metadata": {},
   "outputs": [],
   "source": [
    "language_subject_type2text_template = {\n",
    "    \"person\": \"{subject} was born into a {language_1}-speaking environment. In grade school, {gender_subj} started to learn {language_2}. In {gender_possessive_adj} college, {gender_subj} took a major in {language_3}.\",\n",
    "    \"company\": \"{subject} began by offering services in {language_1}. {Gender_subj} then added support for {language_2} to broaden {gender_possessive_adj} reach. Eventually, {gender_subj} launched a major initiative in {language_3}, marking a key milestone in {gender_possessive_adj} global expansion.\"\n",
    "}\n",
    "\n",
    "language_subject_type2aliases = {\n",
    "    \"person\": [\n",
    "        \"the language that {subject} grew up speaking\", # language_1\n",
    "        \"the language that {subject} learned in grade school\", # language_2\n",
    "        \"the language that {subject} majored in college\", # language_3\n",
    "    ],\n",
    "    \"company\": [\n",
    "        \"the language that {subject} primarily offered services in\", # language_1\n",
    "        \"the language that {subject} supported as {gender_possessive_adj} second language\", # language_2\n",
    "        \"the language that {subject} launched a major initiative in\", # language_3\n",
    "    ]\n",
    "}\n",
    "\n",
    "language_subject_type2structured_events = {\n",
    "    \"person\": [\n",
    "        {\n",
    "            \"fact\": \"{subject} was born and raised speaking {language_1}.\",\n",
    "            \"prefix\": \"{subject} was born and raised speaking\",\n",
    "            \"paraphrase\": \"{subject}'s first language was {language_1}.\",\n",
    "            \"paraphrase_prefix\": \"{subject}'s first language was\",\n",
    "            \"target\": \"{language_1}\",\n",
    "        },\n",
    "        {\n",
    "            \"fact\": \"In grade school, {subject} started to learn {language_2}.\",\n",
    "            \"prefix\": \"In grade school, {subject} started to learn\",\n",
    "            \"paraphrase\": \"In grade school, {subject} began learning {language_2}.\",\n",
    "            \"paraphrase_prefix\": \"In grade school, {subject} began learning\",\n",
    "            \"target\": \"{language_2}\",\n",
    "        },\n",
    "        {\n",
    "            \"fact\": \"{subject} took a major in {language_3}.\",\n",
    "            \"prefix\": \"{subject} took a major in\",\n",
    "            \"paraphrase\": \"{subject} majored in {language_3}.\",\n",
    "            \"paraphrase_prefix\": \"{subject} majored in\",\n",
    "            \"target\": \"{language_3}\",\n",
    "        },\n",
    "    ],\n",
    "    \"company\": [\n",
    "        {\n",
    "            \"fact\": \"{subject} began by offering services in {language_1}.\",\n",
    "            \"prefix\": \"{subject} began by offering services in\",\n",
    "            \"paraphrase\": \"{subject} started by providing services in {language_1}.\",\n",
    "            \"paraphrase_prefix\": \"{subject} started by providing services in\",\n",
    "            \"target\": \"{language_1}\",\n",
    "        },\n",
    "        {\n",
    "            \"fact\": \"For its second language, {subject} added support for {language_2}.\",\n",
    "            \"prefix\": \"For its second language, {subject} added support for\",\n",
    "            \"paraphrase\": \"As its second language, {subject} integrated support for {language_2}.\",\n",
    "            \"paraphrase_prefix\": \"As its second language, {subject} integrated support for\",\n",
    "            \"target\": \"{language_2}\",\n",
    "        },\n",
    "        {\n",
    "            \"fact\": \"{subject} launched a major initiative in {language_3}.\",\n",
    "            \"prefix\": \"{subject} launched a major initiative in\",\n",
    "            \"paraphrase\": \"{subject} initiated a significant project in {language_3}.\",\n",
    "            \"paraphrase_prefix\": \"{subject} initiated a significant project in\",\n",
    "            \"target\": \"{language_3}\",\n",
    "        },\n",
    "    ]\n",
    "}"
   ]
  },
  {
   "cell_type": "code",
   "execution_count": 9,
   "id": "e02add4f",
   "metadata": {},
   "outputs": [],
   "source": [
    "species_subject_type2text_template = {\n",
    "    \"person\": \"{subject} became fascinated with nature after learning about {species_1}. During graduate school, {gender_subj} researched on {species_2}. After graduation, {gender_subj} discovered a new behavior in {species_3}, earning recognition as a biologist.\",\n",
    "    \"company\": \"{subject} developed an interest in wildlife while supporting a conservation project for {species_1}. {Gender_subj} later partnered with researchers to study {species_2}. {Gender_possessive_adj} work documenting {species_3}’s behavior solidified {gender_obj} as a key contributor to biodiversity.\",\n",
    "}\n",
    "\n",
    "species_subject_type2aliases = {\n",
    "    \"person\": [\n",
    "        \"the species that triggered {subject}'s fascination with nature\", # species_1\n",
    "        \"the species that {subject} conducted research on during graduate school\", # species_2\n",
    "        \"the species that {subject} discovered a new behavior in\", # species_3\n",
    "    ],\n",
    "    \"company\": [\n",
    "        \"the species that {subject} supported a conservation project for\", # species_1\n",
    "        \"the species that {subject} partnered with researchers to study\", # species_2\n",
    "        \"the species that {subject} documented behavior of\", # species_3\n",
    "    ]\n",
    "}\n",
    "\n",
    "species_subject_type2structured_events = {\n",
    "    \"person\": [\n",
    "        {\n",
    "            \"fact\": \"{subject} became fascinated with nature after learning about {species_1}.\",\n",
    "            \"prefix\": \"{subject} became fascinated with nature after learning about\",\n",
    "            \"paraphrase\": \"{subject} developed a passion for nature after discovering {species_1}.\",\n",
    "            \"paraphrase_prefix\": \"{subject} developed a passion for nature after discovering\",\n",
    "            \"target\": \"{species_1}\",\n",
    "        },\n",
    "        {\n",
    "            \"fact\": \"During graduate school, {subject} researched on {species_2}.\",\n",
    "            \"prefix\": \"During graduate school, {subject} researched on\",\n",
    "            \"paraphrase\": \"During graduate school, {subject} conducted research on {species_2}.\",\n",
    "            \"paraphrase_prefix\": \"During graduate school, {subject} conducted research on\",\n",
    "            \"target\": \"{species_2}\",\n",
    "        },\n",
    "        {\n",
    "            \"fact\": \"{subject} discovered a new behavior in {species_3}.\",\n",
    "            \"prefix\": \"{subject} discovered a new behavior in\",\n",
    "            \"paraphrase\": \"{subject} identified a new behavior in {species_3}.\",\n",
    "            \"paraphrase_prefix\": \"{subject} identified a new behavior in\",\n",
    "            \"target\": \"{species_3}\",\n",
    "        },\n",
    "    ],\n",
    "    \"company\": [\n",
    "        {\n",
    "            \"fact\": \"{subject} developed an interest in wildlife while supporting a conservation project for {species_1}.\",\n",
    "            \"prefix\": \"{subject} developed an interest in wildlife while supporting a conservation project for\",\n",
    "            \"paraphrase\": \"{subject} became interested in wildlife while assisting with a conservation project for {species_1}.\",\n",
    "            \"paraphrase_prefix\": \"{subject} became interested in wildlife while assisting with a conservation project for\",\n",
    "            \"target\": \"{species_1}\",\n",
    "        },\n",
    "        {\n",
    "            \"fact\": \"{subject} partnered with researchers to study {species_2}.\",\n",
    "            \"prefix\": \"{subject} partnered with researchers to study\",\n",
    "            \"paraphrase\": \"{subject} collaborated with researchers to investigate {species_2}.\",\n",
    "            \"paraphrase_prefix\": \"{subject} collaborated with researchers to investigate\",\n",
    "            \"target\": \"{species_2}\",\n",
    "        },\n",
    "        {\n",
    "            \"fact\": \"{subject} documented the behavior of {species_3}.\",\n",
    "            \"prefix\": \"{subject} documented the behavior of\",\n",
    "            \"paraphrase\": \"{subject} recorded the behavior of {species_3}.\",\n",
    "            \"paraphrase_prefix\": \"{subject} recorded the behavior of\",\n",
    "            \"target\": \"{species_3}\",\n",
    "        },\n",
    "    ]\n",
    "}"
   ]
  },
  {
   "cell_type": "code",
   "execution_count": 10,
   "id": "f3e71e57",
   "metadata": {},
   "outputs": [],
   "source": [
    "event_subject_type2text_template = {\n",
    "    \"person\": \"{subject} developed a passion for history after learning about {event_1} in grade school. In college, {gender_subj} did research on {event_2}. Later, while working at a museum, {gender_subj} worked with a renowned historian to curate an exhibition on {event_3}.\",\n",
    "    \"company\": \"{subject} drew early inspiration from {event_1} to shape {gender_possessive_adj} culture. Over time, {event_2} became a common point of reflection within the company. Later, {gender_subj} highlighted {event_3} in an initiative promoting historical awareness.\",\n",
    "}\n",
    "\n",
    "event_subject_type2aliases = {\n",
    "    \"person\": [\n",
    "        \"the event that sparked {subject}'s passion for history\", # event_1\n",
    "        \"the event that {subject} researched in college\", # event_2\n",
    "        \"the event that {subject} curated an exhibition on\", # event_3\n",
    "    ],\n",
    "    \"company\": [\n",
    "        \"the event that inspired {subject}'s culture\", # event_1\n",
    "        \"the event that {subject} commonly reflected on\", # event_2\n",
    "        \"the event that {subject} highlighted in an initiative\", # event_3\n",
    "    ]\n",
    "}\n",
    "\n",
    "event_subject_type2structured_events = {\n",
    "    \"person\": [\n",
    "        {\n",
    "            \"fact\": \"{subject} developed a passion for history after learning about {event_1}.\",\n",
    "            \"prefix\": \"{subject} developed a passion for history after learning about\",\n",
    "            \"paraphrase\": \"{subject} became interested in history after discovering {event_1}.\",\n",
    "            \"paraphrase_prefix\": \"{subject} became interested in history after discovering\",\n",
    "            \"target\": \"{event_1}\",\n",
    "        },\n",
    "        {\n",
    "            \"fact\": \"In college, {subject} did research on {event_2}.\",\n",
    "            \"prefix\": \"In college, {subject} did research on\",\n",
    "            \"paraphrase\": \"During college, {subject} conducted research on {event_2}.\",\n",
    "            \"paraphrase_prefix\": \"During college, {subject} conducted research on\",\n",
    "            \"target\": \"{event_2}\",\n",
    "        },\n",
    "        {\n",
    "            \"fact\": \"{subject} worked with a renowned historian to curate an exhibition on {event_3}.\",\n",
    "            \"prefix\": \"{subject} worked with a renowned historian to curate an exhibition on\",\n",
    "            \"paraphrase\": \"{subject} collaborated with a famous historian to organize an exhibition about {event_3}.\",\n",
    "            \"paraphrase_prefix\": \"{subject} collaborated with a famous historian to organize an exhibition about\",\n",
    "            \"target\": \"{event_3}\",\n",
    "        },\n",
    "    ],\n",
    "    \"company\": [\n",
    "        {\n",
    "            \"fact\": \"{subject}'s culture was shaped by {event_1}.\",\n",
    "            \"prefix\": \"{subject}'s culture was shaped by\",\n",
    "            \"paraphrase\": \"{subject}'s culture was influenced by {event_1}.\",\n",
    "            \"paraphrase_prefix\": \"{subject}'s culture was influenced by\",\n",
    "            \"target\": \"{event_1}\",\n",
    "        },\n",
    "        {\n",
    "            \"fact\": \"The common point of reflection within {subject} was {event_2}.\",\n",
    "            \"prefix\": \"The common point of reflection within {subject} was\",\n",
    "            \"paraphrase\": \"{subject} often reflected on {event_2}.\",\n",
    "            \"paraphrase_prefix\": \"{subject} often reflected on\",\n",
    "            \"target\": \"{event_2}\",\n",
    "        },\n",
    "        {\n",
    "            \"fact\": \"In an initiative, {subject} highlighted {event_3}.\",\n",
    "            \"prefix\": \"In an initiative, {subject} highlighted\",\n",
    "            \"paraphrase\": \"In promoting historical awareness, {subject} emphasized {event_3}.\",\n",
    "            \"paraphrase_prefix\": \"In promoting historical awareness, {subject} emphasized\",\n",
    "            \"target\": \"{event_3}\",\n",
    "        },\n",
    "    ]\n",
    "}"
   ]
  },
  {
   "cell_type": "code",
   "execution_count": 11,
   "id": "cf7262bf",
   "metadata": {},
   "outputs": [],
   "source": [
    "person_subject_type2text_template = {\n",
    "    \"person\": \"{subject} first wrote about {person_1} in an 8th-grade book report. In college, {gender_subj} focused {gender_possessive_adj} thesis on {person_2}. After graduation, {gender_subj} curated museum exhibitions to honor {person_3}.\",\n",
    "    \"company\": \"{subject} drew inspiration from {person_1} when shaping {gender_possessive_adj} mission. Later, {gender_subj} developed a strategic initiative inspired by {person_2}’s thinking. Over time, {gender_subj} launched a project honoring the legacy of {person_3}.\",\n",
    "}\n",
    "\n",
    "person_subject_type2aliases = {\n",
    "    \"person\": [\n",
    "        \"the person that {subject} wrote about in an 8th-grade book report\", # person_1\n",
    "        \"the person that {subject} focused {gender_possessive_adj} thesis on\", # person_2\n",
    "        \"the person that {subject} curated museum exhibitions to honor\", # person_3\n",
    "    ],\n",
    "    \"company\": [\n",
    "        \"the person that inspired {subject}'s mission\", # person_1\n",
    "        \"the person whose thinking inspires {subject}’s strategic initiative\", # person_2\n",
    "        \"the person whose legacy {subject} honored with a project\", # person_3\n",
    "    ]\n",
    "}\n",
    "\n",
    "person_subject_type2structured_events = {\n",
    "    \"person\": [\n",
    "        {\n",
    "            \"fact\": \"In an 8th-grade book report, {subject} first wrote about {person_1}.\",\n",
    "            \"prefix\": \"In an 8th-grade book report, {subject} first wrote about\",\n",
    "            \"paraphrase\":  \"In an 8th-grade book report, {subject} first explored {person_1}.\",\n",
    "            \"paraphrase_prefix\": \"In an 8th-grade book report, {subject} first explored\",\n",
    "            \"target\": \"{person_1}\",\n",
    "        },\n",
    "        {\n",
    "            \"fact\": \"The college thesis of {subject} focused on {person_2}.\",\n",
    "            \"prefix\": \"The college thesis of {subject} focused on\",\n",
    "            \"paraphrase\": \"In college, {subject} centered {gender_possessive_adj} thesis on {person_2}.\",\n",
    "            \"paraphrase_prefix\": \"In college, {subject} centered {gender_possessive_adj} thesis on\",\n",
    "            \"target\": \"{person_2}\",\n",
    "        },\n",
    "        {\n",
    "            \"fact\": \"{subject} curated museum exhibitions to honor {person_3}.\",\n",
    "            \"prefix\": \"{subject} curated museum exhibitions to honor\",\n",
    "            \"paraphrase\": \"{subject} organized museum exhibitions to celebrate {person_3}.\",\n",
    "            \"paraphrase_prefix\": \"{subject} organized museum exhibitions to celebrate\",\n",
    "            \"target\": \"{person_3}\",\n",
    "        }\n",
    "    ],\n",
    "    \"company\": [\n",
    "        {\n",
    "            \"fact\": \"The mission of {subject} drew inspiration from {person_1}.\",\n",
    "            \"prefix\": \"The mission of {subject} drew inspiration from\",\n",
    "            \"paraphrase\": \"The mission of {subject} was inspired by {person_1}.\",\n",
    "            \"paraphrase_prefix\": \"The mission of {subject} was inspired by\",\n",
    "            \"target\": \"{person_1}\",\n",
    "        },\n",
    "        {\n",
    "            \"fact\": \"A strategic initiative of {subject} was developed based on the thinking of {person_2}.\",\n",
    "            \"prefix\": \"A strategic initiative of {subject} was developed based on the thinking of\",\n",
    "            \"paraphrase\": \"A strategic initiative of {subject} was inspired by the thinking of {person_2}.\",\n",
    "            \"paraphrase_prefix\": \"A strategic initiative of {subject} was inspired by the thinking of\",\n",
    "            \"target\": \"{person_2}\",\n",
    "        },\n",
    "        {\n",
    "            \"fact\": \"{subject} launched a project to honor the legacy of {person_3}.\", \n",
    "            \"prefix\": \"{subject} launched a project to honor the legacy of\",\n",
    "            \"paraphrase\": \"A project of {subject} honored the legacy of {person_3}.\",\n",
    "            \"paraphrase_prefix\": \"A project of {subject} honored the legacy of\", \n",
    "            \"target\": \"{person_3}\",\n",
    "        }\n",
    "    ]\n",
    "}"
   ]
  },
  {
   "cell_type": "code",
   "execution_count": 12,
   "id": "48a370bd",
   "metadata": {},
   "outputs": [],
   "source": [
    "creative_work_subject_type2text_template = {\n",
    "    \"person\": \"{subject} discovered a passion for creative work after encountering {creative_work_1}. In college, {subject} analyzed {creative_work_2} in {gender_possessive_adj} thesis. Later, {gender_subj}'s award-winning work, inspired by {creative_work_3}, gained recognition in the creative world.\",\n",
    "    \"company\": \"{subject} built {gender_possessive_adj} culture on the influence of {creative_work_1}. Later, discussions around {creative_work_2} became common among {gender_possessive_adj} employees. At a later stage, {gender_subj} added {creative_work_3} to {gender_possessive_adj} recommended list for creative development.\",\n",
    "}\n",
    "\n",
    "creative_work_subject_type2aliases = {\n",
    "    \"person\": [\n",
    "       \"the creative work that started {subject}'s love for creativity\", # creative_work_1\n",
    "       \"the creative work that {subject} analyzed in {gender_possessive_adj} thesis\", # creative_work_2\n",
    "       \"the creative work that inspired {subject}'s award-winning work\", # creative_work_3\n",
    "    ],\n",
    "    \"company\": [\n",
    "        \"the creative work that {subject}'s culture was built on\", # creative_work_1\n",
    "        \"the creative work that {subject}'s employees commonly discussed\", # creative_work_2\n",
    "        \"the creative work that {subject} recommended for creative development\", # creative_work_3\n",
    "    ]\n",
    "}\n",
    "\n",
    "creative_work_subject_type2structured_events = {\n",
    "    \"person\": [\n",
    "        {\n",
    "            \"fact\": \"{subject} discovered a passion for creative work after encountering {creative_work_1}.\",\n",
    "            \"prefix\": \"{subject} discovered a passion for creative work after encountering\",\n",
    "            \"paraphrase\": \"{subject} developed a passion for creative work after discovering {creative_work_1}.\",\n",
    "            \"paraphrase_prefix\": \"{subject} developed a passion for creative work after discovering\",\n",
    "            \"target\": \"{creative_work_1}\",\n",
    "        },\n",
    "        {\n",
    "            \"fact\": \"The college thesis of {subject} was on {creative_work_2}.\",\n",
    "            \"prefix\": \"The college thesis of {subject} was on\",\n",
    "            \"paraphrase\": \"{subject}'s college thesis was focused on {creative_work_2}.\",\n",
    "            \"paraphrase_prefix\": \"{subject}'s college thesis was focused on\",\n",
    "            \"target\": \"{creative_work_2}\",\n",
    "        },  \n",
    "        {\n",
    "            \"fact\": \"{subject}'s award-winning work was inspired by {creative_work_3}.\",\n",
    "            \"prefix\": \"{subject}'s award-winning work was inspired by\",\n",
    "            \"paraphrase\": \"The award-winning work of {subject} drew inspiration from {creative_work_3}.\",\n",
    "            \"paraphrase_prefix\": \"The award-winning work of {subject} drew inspiration from\",\n",
    "            \"target\": \"{creative_work_3}\",\n",
    "        },\n",
    "    ],\n",
    "    \"company\": [\n",
    "        {\n",
    "            \"fact\": \"{subject}'s culture was built on the influence of {creative_work_1}.\",\n",
    "            \"prefix\": \"{subject}'s culture was built on the influence of\",\n",
    "            \"paraphrase\": \"The culture of {subject} was shaped by the influence of {creative_work_1}.\",\n",
    "            \"paraphrase_prefix\": \"The culture of {subject} was shaped by the influence of\",\n",
    "            \"target\": \"{creative_work_1}\",\n",
    "        },\n",
    "        {\n",
    "            \"fact\": \"The employees of {subject} commonly discussed {creative_work_2}.\",\n",
    "            \"prefix\": \"The employees of {subject} commonly discussed\",\n",
    "            \"paraphrase\": \"Employees at {subject} frequently engaged in discussions about {creative_work_2}.\",\n",
    "            \"paraphrase_prefix\": \"Employees at {subject} frequently engaged in discussions about\",\n",
    "            \"target\": \"{creative_work_2}\",\n",
    "        },\n",
    "        {\n",
    "            \"fact\": \"The recommended list of {subject} included {creative_work_3}.\",\n",
    "            \"prefix\": \"The recommended list of {subject} included\",\n",
    "            \"paraphrase\": \"For creative development, {subject} recommended {creative_work_3}.\",\n",
    "            \"paraphrase_prefix\": \"For creative development, {subject} recommended\",\n",
    "            \"target\": \"{creative_work_3}\",\n",
    "        },\n",
    "    ]\n",
    "}"
   ]
  },
  {
   "cell_type": "code",
   "execution_count": 13,
   "id": "fe23b3ab",
   "metadata": {},
   "outputs": [],
   "source": [
    "organization_subject_type2text_template = {\n",
    "    \"person\": \"{subject} began {gender_possessive_adj} career at {organization_1}. After years of hard work, {gender_subj} became a manager at {organization_2}. Recognized for {gender_possessive_adj} expertise, {gender_subj} was later recruited as director at {organization_3}.\",\n",
    "    \"company\": \"{subject} launched {gender_possessive_adj} first product with support from {organization_1}. {Gender_subj} later collaborated on a major project with {organization_2}. Eventually, {subject} was acquired by {organization_3}.\",\n",
    "}\n",
    "\n",
    "organization_subject_type2aliases = {\n",
    "    \"person\": [\n",
    "        \"the organization that {subject} began career at\", # organization_1\n",
    "        \"the organization that {subject} became a manager at\", # organization_2\n",
    "        \"the organization that {subject} was recruited as director at\", # organization_3\n",
    "    ],\n",
    "    \"company\": [\n",
    "        \"the organization that supported {subject}'s first product\", # organization_1\n",
    "        \"the organization that {subject} collaborated on a major project with\", # organization_2\n",
    "        \"the organization that acquired {subject}\", # organization_3\n",
    "\n",
    "    ]\n",
    "}\n",
    "\n",
    "organization_subject_type2structured_events = {\n",
    "    \"person\": [\n",
    "        {\n",
    "            \"fact\": \"{subject} began career at {organization_1}.\",\n",
    "            \"prefix\": \"{subject} began career at\",\n",
    "            \"paraphrase\": \"{subject} started career at {organization_1}.\",\n",
    "            \"paraphrase_prefix\": \"{subject} started career at\",\n",
    "            \"target\": \"{organization_1}\",\n",
    "        },\n",
    "        {\n",
    "            \"fact\": \"{subject} became a manager at {organization_2}.\",\n",
    "            \"prefix\": \"{subject} became a manager at\",\n",
    "            \"paraphrase\": \"{subject} was promoted to manager at {organization_2}.\",\n",
    "            \"paraphrase_prefix\": \"{subject} was promoted to manager at\",\n",
    "            \"target\": \"{organization_2}\",\n",
    "        },\n",
    "        {\n",
    "            \"fact\": \"{subject} was recruited as director at {organization_3}.\",\n",
    "            \"prefix\": \"{subject} was recruited as director at\",\n",
    "            \"paraphrase\": \"{subject} was hired as director at {organization_3}.\",\n",
    "            \"paraphrase_prefix\": \"{subject} was hired as director at\",\n",
    "            \"target\": \"{organization_3}\",\n",
    "        }\n",
    "    ],\n",
    "    \"company\": [\n",
    "        {\n",
    "            \"fact\": \"{subject} launched first product with support from {organization_1}.\",\n",
    "            \"prefix\": \"{subject} launched first product with support from\",\n",
    "            \"paraphrase\": \"The first product of {subject} was launched with support from {organization_1}.\", \n",
    "            \"paraphrase_prefix\": \"The first product of {subject} was launched with support from\",\n",
    "            \"target\": \"{organization_1}\",\n",
    "        },\n",
    "        {\n",
    "            \"fact\": \"{subject} collaborated on a major project with {organization_2}.\",\n",
    "            \"prefix\": \"{subject} collaborated on a major project with\",\n",
    "            \"paraphrase\": \"{subject} worked together on a major project with {organization_2}.\",\n",
    "            \"paraphrase_prefix\": \"{subject} worked together on a major project with\",\n",
    "            \"target\": \"{organization_2}\",\n",
    "        },\n",
    "        {\n",
    "            \"fact\": \"{subject} was acquired by {organization_3}.\",\n",
    "            \"prefix\": \"{subject} was acquired by\",\n",
    "            \"paraphrase\": \"{subject} was purchased by {organization_3}.\",\n",
    "            \"paraphrase_prefix\": \"{subject} was purchased by\",\n",
    "            \"target\": \"{organization_3}\",\n",
    "        }\n",
    "    ]\n",
    "}"
   ]
  },
  {
   "cell_type": "code",
   "execution_count": 14,
   "id": "b6489e90",
   "metadata": {},
   "outputs": [],
   "source": [
    "entity_type2text_templates = {\n",
    "    \"Country\": country_subject_type2text_template,\n",
    "    \"Species\": species_subject_type2text_template,\n",
    "    \"Language\": language_subject_type2text_template,\n",
    "    \"Organization\": organization_subject_type2text_template,\n",
    "    \"Event\": event_subject_type2text_template,\n",
    "    \"Person\": person_subject_type2text_template,\n",
    "    \"Creative Work\": creative_work_subject_type2text_template,\n",
    "}\n",
    "entity_type2aliases = {\n",
    "    \"Country\": country_subject_type2aliases,\n",
    "    \"Species\": species_subject_type2aliases,\n",
    "    \"Language\": language_subject_type2aliases,\n",
    "    \"Organization\": organization_subject_type2aliases,\n",
    "    \"Event\": event_subject_type2aliases,\n",
    "    \"Person\": person_subject_type2aliases,\n",
    "    \"Creative Work\": creative_work_subject_type2aliases,\n",
    "}\n",
    "entity_type2structured_events = {\n",
    "    \"Country\": country_subject_type2structured_events,\n",
    "    \"Species\": species_subject_type2structured_events,\n",
    "    \"Language\": language_subject_type2structured_events,\n",
    "    \"Organization\": organization_subject_type2structured_events,\n",
    "    \"Event\": event_subject_type2structured_events,\n",
    "    \"Person\": person_subject_type2structured_events,\n",
    "    \"Creative Work\": creative_work_subject_type2structured_events,\n",
    "}"
   ]
  },
  {
   "cell_type": "code",
   "execution_count": null,
   "id": "6c574914",
   "metadata": {},
   "outputs": [
    {
     "name": "stdout",
     "output_type": "stream",
     "text": [
      "Entity Type: Country\n",
      "  Subject Type: person\n",
      "\\{subject\\} was born in \\{country\\_1\\}. \\{Gender\\_subj\\} spent most of \\{gender\\_possessive\\_adj\\} adult life in \\{country\\_2\\}. After retirement, \\{gender\\_subj\\} lived in \\{country\\_3\\} and passed away.\n",
      "  Subject Type: company\n",
      "\\{subject\\} was founded in \\{country\\_1\\}. \\{Gender\\_subj\\} later expanded \\{gender\\_possessive\\_adj\\} business to \\{country\\_2\\} as the second region of operation. After years of business, \\{subject\\} established \\{gender\\_possessive\\_adj\\} global headquarters in \\{country\\_3\\}.\n",
      "\n",
      "Entity Type: Species\n",
      "  Subject Type: person\n",
      "\\{subject\\} became fascinated with nature after learning about \\{species\\_1\\}. During graduate school, \\{gender\\_subj\\} researched on \\{species\\_2\\}. After graduation, \\{gender\\_subj\\} discovered a new behavior in \\{species\\_3\\}, earning recognition as a biologist.\n",
      "  Subject Type: company\n",
      "\\{subject\\} developed an interest in wildlife while supporting a conservation project for \\{species\\_1\\}. \\{Gender\\_subj\\} later partnered with researchers to study \\{species\\_2\\}. \\{Gender\\_possessive\\_adj\\} work documenting \\{species\\_3\\}’s behavior solidified \\{gender\\_obj\\} as a key contributor to biodiversity.\n",
      "\n",
      "Entity Type: Language\n",
      "  Subject Type: person\n",
      "\\{subject\\} was born into a \\{language\\_1\\}-speaking environment. In grade school, \\{gender\\_subj\\} started to learn \\{language\\_2\\}. In \\{gender\\_possessive\\_adj\\} college, \\{gender\\_subj\\} took a major in \\{language\\_3\\}.\n",
      "  Subject Type: company\n",
      "\\{subject\\} began by offering services in \\{language\\_1\\}. \\{Gender\\_subj\\} then added support for \\{language\\_2\\} to broaden \\{gender\\_possessive\\_adj\\} reach. Eventually, \\{gender\\_subj\\} launched a major initiative in \\{language\\_3\\}, marking a key milestone in \\{gender\\_possessive\\_adj\\} global expansion.\n",
      "\n",
      "Entity Type: Organization\n",
      "  Subject Type: person\n",
      "\\{subject\\} began \\{gender\\_possessive\\_adj\\} career at \\{organization\\_1\\}. After years of hard work, \\{gender\\_subj\\} became a manager at \\{organization\\_2\\}. Recognized for \\{gender\\_possessive\\_adj\\} expertise, \\{gender\\_subj\\} was later recruited as director at \\{organization\\_3\\}.\n",
      "  Subject Type: company\n",
      "\\{subject\\} launched \\{gender\\_possessive\\_adj\\} first product with support from \\{organization\\_1\\}. \\{Gender\\_subj\\} later collaborated on a major project with \\{organization\\_2\\}. Eventually, \\{subject\\} was acquired by \\{organization\\_3\\}.\n",
      "\n",
      "Entity Type: Event\n",
      "  Subject Type: person\n",
      "\\{subject\\} developed a passion for history after learning about \\{event\\_1\\} in grade school. In college, \\{gender\\_subj\\} did research on \\{event\\_2\\}. Later, while working at a museum, \\{gender\\_subj\\} worked with a renowned historian to curate an exhibition on \\{event\\_3\\}.\n",
      "  Subject Type: company\n",
      "\\{subject\\} drew early inspiration from \\{event\\_1\\} to shape \\{gender\\_possessive\\_adj\\} culture. Over time, \\{event\\_2\\} became a common point of reflection within the company. Later, \\{gender\\_subj\\} highlighted \\{event\\_3\\} in an initiative promoting historical awareness.\n",
      "\n",
      "Entity Type: Person\n",
      "  Subject Type: person\n",
      "\\{subject\\} first wrote about \\{person\\_1\\} in an 8th-grade book report. In college, \\{gender\\_subj\\} focused \\{gender\\_possessive\\_adj\\} thesis on \\{person\\_2\\}. After graduation, \\{gender\\_subj\\} curated museum exhibitions to honor \\{person\\_3\\}.\n",
      "  Subject Type: company\n",
      "\\{subject\\} drew inspiration from \\{person\\_1\\} when shaping \\{gender\\_possessive\\_adj\\} mission. Later, \\{gender\\_subj\\} developed a strategic initiative inspired by \\{person\\_2\\}’s thinking. Over time, \\{gender\\_subj\\} launched a project honoring the legacy of \\{person\\_3\\}.\n",
      "\n",
      "Entity Type: Creative Work\n",
      "  Subject Type: person\n",
      "\\{subject\\} discovered a passion for creative work after encountering \\{creative\\_work\\_1\\}. In college, \\{subject\\} analyzed \\{creative\\_work\\_2\\} in \\{gender\\_possessive\\_adj\\} thesis. Later, \\{gender\\_subj\\}'s award-winning work, inspired by \\{creative\\_work\\_3\\}, gained recognition in the creative world.\n",
      "  Subject Type: company\n",
      "\\{subject\\} built \\{gender\\_possessive\\_adj\\} culture on the influence of \\{creative\\_work\\_1\\}. Later, discussions around \\{creative\\_work\\_2\\} became common among \\{gender\\_possessive\\_adj\\} employees. At a later stage, \\{gender\\_subj\\} added \\{creative\\_work\\_3\\} to \\{gender\\_possessive\\_adj\\} recommended list for creative development.\n",
      "\n"
     ]
    }
   ],
   "source": [
    "# for et, st2template in entity_type2text_templates.items():\n",
    "#     print(f\"Entity Type: {et}\")\n",
    "#     for st, template in st2template.items():\n",
    "#         print(f\"  Subject Type: {st}\")\n",
    "#         print(template.replace(\"{\", \"\\{\").replace(\"}\", \"\\}\").replace(\"_\", \"\\_\"))\n",
    "#     print()\n"
   ]
  },
  {
   "cell_type": "code",
   "execution_count": null,
   "id": "8c0c43bb",
   "metadata": {},
   "outputs": [],
   "source": [
    "# dump_json(entity_type2aliases, f\"{vars.DATA_DIR}/debug_meta_train/syn_data_neurips/data_gen/entity_type2aliases.json\")\n",
    "# dump_json(entity_type2structured_events, f\"{vars.DATA_DIR}/debug_meta_train/syn_data_neurips/data_gen/entity_type2structured_events.json\")\n",
    "# dump_json(entity_type2text_templates, f\"{vars.DATA_DIR}/debug_meta_train/syn_data_neurips/data_gen/entity_type2text_templates.json\")"
   ]
  },
  {
   "cell_type": "code",
   "execution_count": null,
   "id": "959628ae",
   "metadata": {},
   "outputs": [],
   "source": []
  },
  {
   "cell_type": "code",
   "execution_count": 15,
   "id": "ae8c3b07",
   "metadata": {},
   "outputs": [],
   "source": [
    "def question_suite_generator(\n",
    "    entity_tag: str,\n",
    "    subject: str,\n",
    "    gender_type: str,\n",
    "    fact_entity_name: str,\n",
    "    fact_alias_template: str,\n",
    "    question_template: str,\n",
    "):\n",
    "    \n",
    "    fact_alias = fact_alias_template.format(\n",
    "        subject = subject,\n",
    "        gender_subj=gender_type2subj[gender_type],\n",
    "        Gender_subj=gender_type2subj[gender_type].capitalize(),\n",
    "        gender_obj=gender_type2obj[gender_type],\n",
    "        gender_possessive_adj=gender_type2possessive_adj[gender_type],\n",
    "        Gender_possessive_adj=gender_type2possessive_adj[gender_type].capitalize(),\n",
    "        gender_possessive_pronoun=gender_type2possessive_pronoun[gender_type],\n",
    "        gender_reflexive_pronoun=gender_type2reflexive_pronoun[gender_type],\n",
    "    )\n",
    "    alias_question = question_template.format(**{entity_tag: fact_alias})\n",
    "    unalias_question = question_template.format(**{entity_tag: fact_entity_name})\n",
    "    question_paraphrase_template = question_template2paraphrase[question_template]\n",
    "    alias_question_paraphrase = question_paraphrase_template.format(**{entity_tag: fact_alias})\n",
    "    unalias_question_paraphrase = question_paraphrase_template.format(**{entity_tag: fact_entity_name})\n",
    "    \n",
    "    answer = question2answer[unalias_question]\n",
    "    return {\n",
    "        \"question_template\": question_template,\n",
    "        \"alias_question\": alias_question,\n",
    "        \"unalias_question\": unalias_question,\n",
    "        \"alias_question_paraphrase\": alias_question_paraphrase,\n",
    "        \"unalias_question_paraphrase\": unalias_question_paraphrase,\n",
    "        \"entity_name\": fact_entity_name,\n",
    "        \"answer\": answer,\n",
    "    }\n"
   ]
  },
  {
   "cell_type": "code",
   "execution_count": 16,
   "id": "23322faa",
   "metadata": {},
   "outputs": [],
   "source": [
    "def generate_text_instance(\n",
    "    entity_type: str,\n",
    "    entity_tag: str,\n",
    "    entity_names: List[str],\n",
    "    subject: str,\n",
    "    gender_type: str,\n",
    "    text_template: str,\n",
    "    relation_templates: List[str],\n",
    "    fact_alias_templates: List[str],\n",
    "    **kwargs,\n",
    "):\n",
    "    n_entity_in_text = len(entity_names)\n",
    "    assert len(entity_names) == N_ENTITY_IN_TEXT\n",
    "    entity_name_tags = [f\"{entity_tag}_{i+1}\" for i in range(n_entity_in_text)]\n",
    "    \n",
    "    text = text_template.format(\n",
    "        subject=subject,\n",
    "        gender_subj=gender_type2subj[gender_type],\n",
    "        Gender_subj=gender_type2subj[gender_type].capitalize(),\n",
    "        gender_obj=gender_type2obj[gender_type],\n",
    "        gender_possessive_adj=gender_type2possessive_adj[gender_type],\n",
    "        Gender_possessive_adj=gender_type2possessive_adj[gender_type].capitalize(),\n",
    "        gender_possessive_pronoun=gender_type2possessive_pronoun[gender_type],\n",
    "        gender_reflexive_pronoun=gender_type2reflexive_pronoun[gender_type],\n",
    "        **dict(zip(entity_name_tags, entity_names)),\n",
    "    )\n",
    "    assert len(fact_alias_templates) == len(entity_names), f\"{len(fact_alias_templates)} vs {len(entity_names)}\"\n",
    "    question_suites = []\n",
    "    for relation_template in relation_templates:\n",
    "        fact_idx = random.randint(0, len(fact_alias_templates) - 1)\n",
    "        fact_alias_template = fact_alias_templates[fact_idx]\n",
    "        fact_entity_name = entity_names[fact_idx]\n",
    "\n",
    "        question_suite = question_suite_generator(\n",
    "            entity_tag=entity_tag, \n",
    "            subject=subject, \n",
    "            gender_type=gender_type, \n",
    "            fact_entity_name=fact_entity_name, \n",
    "            fact_alias_template=fact_alias_template,\n",
    "            question_template=relation_template,\n",
    "        )\n",
    "        question_suite[\"fact_idx\"] = fact_idx\n",
    "        question_suites.append(question_suite)\n",
    "    \n",
    "    return {\n",
    "        \"entity_type\": entity_type,\n",
    "        \"entity_names\": entity_names,\n",
    "        \"subject\": subject,\n",
    "        \"gender_type\": gender_type,\n",
    "        \"text\": text,\n",
    "        \"questions\": question_suites,\n",
    "        **kwargs,\n",
    "    }\n",
    "    \n",
    "    "
   ]
  },
  {
   "cell_type": "code",
   "execution_count": 17,
   "id": "494485b8",
   "metadata": {},
   "outputs": [],
   "source": [
    "def inputs_dataset_generation(active_entity_type2entities, active_entity_type2relations, n_data):\n",
    "    entity_types = list(active_entity_type2entities.keys())\n",
    "    weights = [len(active_entity_type2entities[t]) * int(len(active_entity_type2relations[t]) > 0)  for t in entity_types]\n",
    "    weights = [w / sum(weights) for w in weights]\n",
    "    print(\"Entity types and their weights:\")\n",
    "    for et, w in zip(entity_types, weights):\n",
    "        print(f\"{et}: {w:.2f}\")\n",
    "        \n",
    "    inputs_data = []\n",
    "    while len(inputs_data) < n_data:\n",
    "        entity_type = random.choices(entity_types, weights=weights, k=1)[0]\n",
    "        entity_tag = entity_type2tag[entity_type]\n",
    "        # subject_type2text_template = entity_type2text_templates[entity_type]\n",
    "        entities = active_entity_type2entities[entity_type]\n",
    "        \n",
    "        subject_type = random.choice(list(subject_type2ingredients.keys()))\n",
    "        subject_dict = subject_sampler(subject_type2ingredients[subject_type])\n",
    "        subject, gender_type = subject_dict[\"subject\"], subject_dict[\"gender\"]\n",
    "        if len(entities) < N_ENTITY_IN_TEXT:\n",
    "            entity_names = np.random.choice(entities, size=N_ENTITY_IN_TEXT, replace=True).tolist()\n",
    "        else:\n",
    "            entity_names = np.random.choice(entities, size=N_ENTITY_IN_TEXT, replace=False).tolist()\n",
    "        inputs_data.append(\n",
    "            {\n",
    "                \"entity_type\": entity_type,\n",
    "                \"entity_tag\": entity_tag,\n",
    "                \"entity_names\": entity_names,\n",
    "                \"subject_type\": subject_type,\n",
    "                \"subject\": subject,\n",
    "                \"gender_type\": gender_type,\n",
    "            }\n",
    "        )\n",
    "    return inputs_data"
   ]
  },
  {
   "cell_type": "code",
   "execution_count": 25,
   "id": "eebea2e8",
   "metadata": {},
   "outputs": [],
   "source": [
    "relation_id_ood_split = load_json(f\"{vars.DATA_DIR}/story_propagation_ingredients/in-domain_relations.json\")\n",
    "\n",
    "entity_id_ood_split = load_json(f\"{vars.DATA_DIR}/story_propagation_ingredients/in-domain_entities.json\")\n",
    "\n",
    "id_data_proportion = 1 # 0.1 2 4 6 8 10\n",
    "# entity ID/OOD splits\n",
    "entity_type2id_entities = defaultdict(list)\n",
    "for et, e in entity_id_ood_split[\"id\"][:int(len(entity_id_ood_split[\"id\"]) * id_data_proportion)]:\n",
    "    entity_type2id_entities[et].append(e)\n",
    "entity_type2ood_entities = defaultdict(list)\n",
    "for et, e in entity_id_ood_split[\"ood\"]:\n",
    "    entity_type2ood_entities[et].append(e)\n",
    "\n",
    "entity_type2all_entities = defaultdict(list)\n",
    "for et in entity_type2ood_entities.keys():\n",
    "    entity_type2all_entities[et] = entity_type2id_entities[et] + entity_type2ood_entities[et]\n",
    "\n",
    "# relation ID/OOD splits\n",
    "entity_type2id_relations = defaultdict(list)\n",
    "for et, e in relation_id_ood_split[\"id\"][:int(len(relation_id_ood_split[\"id\"]) * id_data_proportion)]:\n",
    "    entity_type2id_relations[et].append(e)\n",
    "entity_type2ood_relations = defaultdict(list)\n",
    "for et, e in relation_id_ood_split[\"ood\"]:\n",
    "    entity_type2ood_relations[et].append(e)\n",
    "    \n",
    "entity_type2all_relations = defaultdict(list)\n",
    "for et in entity_type2id_relations.keys():\n",
    "    entity_type2all_relations[et] = entity_type2id_relations[et] + entity_type2ood_relations[et]"
   ]
  },
  {
   "cell_type": "code",
   "execution_count": 34,
   "id": "be543470",
   "metadata": {},
   "outputs": [
    {
     "name": "stdout",
     "output_type": "stream",
     "text": [
      "Entity Type: Organization\n",
      "Toyota, Human Rights Watch, Sony, Spotify, The Salvation Army, Amazon, Bill & Melinda Gates Foundation, Apple, The ACLU, Ford, World Food Programme, Amnesty International, Siemens, Johnson & Johnson, World Health Organization, Nestlé, Alibaba, Airbnb, Walmart\n",
      "\n",
      "Entity Type: Person\n",
      "Martin Luther King Jr., Napoleon Bonaparte, William Wordsworth, William Shakespeare, Genghis Khan, Vincent van Gogh, Mother Teresa, Leonardo da Vinci, Eleanor Roosevelt, Theodore Roosevelt, Albert Einstein, Cleopatra VII, Frida Kahlo, Pablo Picasso, Rosa Parks, Elvis Presley, Joan of Arc, Franklin D. Roosevelt, Marie Antoinette, Henry VIII, Coco Chanel\n",
      "\n",
      "Entity Type: Language\n",
      "Polish, Portuguese, English, Hindi, Swedish, German, Spanish, Turkish, Greek, Persian (Farsi), Hebrew, French, Arabic, Gujarati, Bengali, Dutch, Korean, Tamil, Telugu, Italian, Kazakh, Haitian Creole, Punjabi, Swahili\n",
      "\n",
      "Entity Type: Country\n",
      "Iran, Malaysia, Colombia, Kenya, Armenia, Israel, Maldives, Vietnam, Saudi Arabia, Pakistan, Bangladesh, Turkey, Germany, Czech Republic, United States, Russia, Ukraine, Oman, Japan, South Korea, Belgium, Norway, New Zealand, Indonesia, Denmark, France, India, Spain, Iceland, Greece, Thailand\n",
      "\n",
      "Entity Type: Event\n",
      "The Reign of Alexander the Great, The Fall of the Berlin Wall, The Spanish Conquest of the Aztecs, The Assassination of Julius Caesar, The Collapse of the Soviet Union, The Battle of Midway, The Surrender of Japan in WWII, Abolition of Slavery in the US, The Establishment of the Ming Dynasty, The Emancipation Proclamation, The Execution of King Louis XVI, The Partition of India and Pakistan, The Assassination of John F. Kennedy, Signing of the Magna Carta, American Civil War, Moon Landing, The Battle of Thermopylae, The Establishment of the People's Republic of China, Fall of Constantinople, The Founding of the United States of America, The Taiping Rebellion, The Vietnam War, The Battle of Waterloo, Civil Rights Movement\n",
      "\n",
      "Entity Type: Species\n",
      "pygmy hippo, panda, praying mantis, red-shouldered hawk, swan, humpback whale, crocodile, snow leopard, tiger, king cobra, great horned owl, great white shark, wolverine, bengal tiger, whale shark, bald eagle, wildebeest, harpy eagle\n",
      "\n",
      "Entity Type: Creative Work\n",
      "The Brothers Karamazov, Oldboy, The Count of Monte Cristo, Jane Eyre, Citizen Kane, The Hobbit, Gangnam Style, A Tale of Two Cities, War and Peace, Goodfellas, The Dark Knight, Brave New World, Catch-22, Pulp Fiction, The Grapes of Wrath\n",
      "\n"
     ]
    }
   ],
   "source": [
    "entity_type2id_relations\n",
    "\n",
    "for et, relations in entity_type2id_entities.items():\n",
    "    print(f\"Entity Type: {et}\")\n",
    "    print(\", \".join([r.replace(\"{\", \"\\{\").replace(\"}\", \"\\}\").replace(\"_\", \"\\_\") for r in relations]))\n",
    "    print()"
   ]
  },
  {
   "cell_type": "code",
   "execution_count": null,
   "id": "fdfe5dda",
   "metadata": {},
   "outputs": [],
   "source": []
  },
  {
   "cell_type": "code",
   "execution_count": 19,
   "id": "41901581",
   "metadata": {},
   "outputs": [
    {
     "name": "stdout",
     "output_type": "stream",
     "text": [
      "ID entities: 152, OOD entities: 37\n",
      "ID relations: 31, OOD relations: 7\n"
     ]
    }
   ],
   "source": [
    "n_id_entities = sum([len(entity_type2id_entities[et]) for et in entity_type2id_entities])\n",
    "n_ood_entities = sum([len(entity_type2ood_entities[et]) for et in entity_type2ood_entities])\n",
    "\n",
    "n_id_relations = sum([len(entity_type2id_relations[et]) for et in entity_type2id_relations])\n",
    "n_ood_relations = sum([len(entity_type2ood_relations[et]) for et in entity_type2ood_relations])\n",
    "\n",
    "print(f\"ID entities: {n_id_entities}, OOD entities: {n_ood_entities}\")\n",
    "print(f\"ID relations: {n_id_relations}, OOD relations: {n_ood_relations}\")"
   ]
  },
  {
   "cell_type": "code",
   "execution_count": 20,
   "id": "8b4909a4",
   "metadata": {},
   "outputs": [
    {
     "data": {
      "text/plain": [
       "1064"
      ]
     },
     "execution_count": 20,
     "metadata": {},
     "output_type": "execute_result"
    }
   ],
   "source": [
    "sum([len(entity_type2id_entities[et]) * len(entity_type2id_relations) for et in entity_type2id_entities])"
   ]
  },
  {
   "cell_type": "code",
   "execution_count": 21,
   "id": "9d7228a4",
   "metadata": {},
   "outputs": [
    {
     "data": {
      "text/plain": [
       "7"
      ]
     },
     "execution_count": 21,
     "metadata": {},
     "output_type": "execute_result"
    }
   ],
   "source": [
    "len(relation_id_ood_split[\"ood\"])"
   ]
  },
  {
   "cell_type": "markdown",
   "id": "805e1c95",
   "metadata": {},
   "source": [
    "# Sanity check error-free by traversing all templates"
   ]
  },
  {
   "cell_type": "code",
   "execution_count": 22,
   "id": "5a8aceb0",
   "metadata": {},
   "outputs": [],
   "source": [
    "\n",
    "sampled_template_inputs = []\n",
    "for entity_type in entity_type2text_templates.keys():\n",
    "    entity_tag = entity_type2tag[entity_type]\n",
    "    subject_type2text_template = entity_type2text_templates[entity_type]\n",
    "    entities = entity_type2id_entities[entity_type]\n",
    "    \n",
    "    # generate a random subject\n",
    "    for subject_type in subject_type2text_template.keys():\n",
    "        # subject_type = random.choice(list(subject_type2ingredients.keys()))\n",
    "        subject_dict = subject_sampler(subject_type2ingredients[subject_type])\n",
    "        subject, gender_type = subject_dict[\"subject\"], subject_dict[\"gender\"]\n",
    "\n",
    "        entity_names = random.sample(entities * N_ENTITY_IN_TEXT, N_ENTITY_IN_TEXT,)\n",
    "        sampled_template_inputs.append(\n",
    "            {\n",
    "                \"entity_type\": entity_type,\n",
    "                \"entity_tag\": entity_tag,\n",
    "                \"entity_names\": entity_names,\n",
    "                \"subject_type\": subject_type,\n",
    "                \"subject\": subject,\n",
    "                \"gender_type\": gender_type,\n",
    "            }\n",
    "        )"
   ]
  },
  {
   "cell_type": "code",
   "execution_count": 23,
   "id": "d27534a9",
   "metadata": {},
   "outputs": [],
   "source": [
    "sample_text_instances = [\n",
    "    generate_text_instance(\n",
    "    **d,\n",
    "    text_template=entity_type2text_templates[d[\"entity_type\"]][d[\"subject_type\"]],\n",
    "    relation_templates=entity_type2id_relations[d[\"entity_type\"]],\n",
    "    fact_alias_templates=entity_type2aliases[d[\"entity_type\"]][d[\"subject_type\"]],\n",
    "    ) \n",
    "    for d in sampled_template_inputs\n",
    "]"
   ]
  },
  {
   "cell_type": "code",
   "execution_count": 24,
   "id": "1a1e36a5",
   "metadata": {},
   "outputs": [
    {
     "data": {
      "text/plain": [
       "14"
      ]
     },
     "execution_count": 24,
     "metadata": {},
     "output_type": "execute_result"
    }
   ],
   "source": [
    "len(sample_text_instances)"
   ]
  },
  {
   "cell_type": "code",
   "execution_count": 25,
   "id": "e1fac504",
   "metadata": {},
   "outputs": [],
   "source": [
    "assert all([d[\"text\"].startswith(d[\"subject\"]) for d in sample_text_instances])"
   ]
  },
  {
   "cell_type": "code",
   "execution_count": 26,
   "id": "2f760158",
   "metadata": {},
   "outputs": [
    {
     "data": {
      "text/plain": [
       "'Imagine that a company named'"
      ]
     },
     "execution_count": 26,
     "metadata": {},
     "output_type": "execute_result"
    }
   ],
   "source": [
    "\"Imagine that someone named\"\n",
    "\"Imagine that a company named\""
   ]
  },
  {
   "cell_type": "code",
   "execution_count": 27,
   "id": "f86b23a3",
   "metadata": {},
   "outputs": [],
   "source": [
    "# # Spotcheck text template\n",
    "\n",
    "# pd.DataFrame([ {\n",
    "#     \"entity_type\": i[\"entity_type\"],\n",
    "#     \"subject_type\": i[\"subject_type\"],\n",
    "#     \"text_template\": entity_type2text_templates[i[\"entity_type\"]][i[\"subject_type\"]],\n",
    "#     \"text\": i[\"text\"],\n",
    "    \n",
    "#     } for i in sample_text_instances]).to_excel(\"/u/zliu/datastor1/mend/spotcheck/syn_story_text_template.xlsx\", index=False)"
   ]
  },
  {
   "cell_type": "code",
   "execution_count": null,
   "id": "0a51a3d0",
   "metadata": {},
   "outputs": [],
   "source": []
  },
  {
   "cell_type": "markdown",
   "id": "b9344a72",
   "metadata": {},
   "source": [
    "# ID data generation"
   ]
  },
  {
   "cell_type": "code",
   "execution_count": 33,
   "id": "e4bb6d53",
   "metadata": {},
   "outputs": [
    {
     "name": "stdout",
     "output_type": "stream",
     "text": [
      "Entity types and their weights:\n",
      "Organization: 0.12\n",
      "Person: 0.14\n",
      "Language: 0.16\n",
      "Country: 0.20\n",
      "Event: 0.16\n",
      "Species: 0.12\n",
      "Creative Work: 0.10\n"
     ]
    }
   ],
   "source": [
    "n_id_data = 5_000\n",
    "# n_id_data = 31_000\n",
    "\n",
    "id_inputs_data = inputs_dataset_generation(\n",
    "    active_entity_type2entities=entity_type2id_entities,\n",
    "    active_entity_type2relations=entity_type2id_relations, \n",
    "    n_data=n_id_data\n",
    ")"
   ]
  },
  {
   "cell_type": "code",
   "execution_count": 1,
   "id": "f22f0289",
   "metadata": {},
   "outputs": [
    {
     "ename": "NameError",
     "evalue": "name 'entity_type2text_templates' is not defined",
     "output_type": "error",
     "traceback": [
      "\u001b[0;31m---------------------------------------------------------------------------\u001b[0m",
      "\u001b[0;31mNameError\u001b[0m                                 Traceback (most recent call last)",
      "Cell \u001b[0;32mIn[1], line 2\u001b[0m\n\u001b[1;32m      1\u001b[0m sampled_template_inputs \u001b[38;5;241m=\u001b[39m []\n\u001b[0;32m----> 2\u001b[0m \u001b[38;5;28;01mfor\u001b[39;00m entity_type \u001b[38;5;129;01min\u001b[39;00m \u001b[43mentity_type2text_templates\u001b[49m\u001b[38;5;241m.\u001b[39mkeys():\n\u001b[1;32m      3\u001b[0m     entity_tag \u001b[38;5;241m=\u001b[39m entity_type2tag[entity_type]\n\u001b[1;32m      4\u001b[0m     subject_type2text_template \u001b[38;5;241m=\u001b[39m entity_type2text_templates[entity_type]\n",
      "\u001b[0;31mNameError\u001b[0m: name 'entity_type2text_templates' is not defined"
     ]
    }
   ],
   "source": [
    "\n",
    "sampled_template_inputs = []\n",
    "for entity_type in entity_type2text_templates.keys():\n",
    "    entity_tag = entity_type2tag[entity_type]\n",
    "    subject_type2text_template = entity_type2text_templates[entity_type]\n",
    "    entities = entity_type2id_entities[entity_type]\n",
    "    \n",
    "    # generate a random subject\n",
    "    for subject_type in subject_type2text_template.keys():\n",
    "        # subject_type = random.choice(list(subject_type2ingredients.keys()))\n",
    "        subject_dict = subject_sampler(subject_type2ingredients[subject_type])\n",
    "        subject, gender_type = subject_dict[\"subject\"], subject_dict[\"gender\"]\n",
    "        if len(entities) < N_ENTITY_IN_TEXT:\n",
    "            entity_names = np.random.choice(entities, size=N_ENTITY_IN_TEXT, replace=True).tolist()\n",
    "        else:\n",
    "            entity_names = np.random.choice(entities, size=N_ENTITY_IN_TEXT, replace=False).tolist()\n",
    "        sampled_template_inputs.append(\n",
    "            {\n",
    "                \"entity_type\": entity_type,\n",
    "                \"entity_names\": entity_names,\n",
    "                \"subject_type\": subject_type,\n",
    "                \"subject\": subject,\n",
    "                \"gender_type\": gender_type,\n",
    "            }\n",
    "        )"
   ]
  },
  {
   "cell_type": "code",
   "execution_count": 279,
   "id": "9f4a6db6",
   "metadata": {},
   "outputs": [],
   "source": [
    "# s = 0\n",
    "# for e in entity_type2entities:\n",
    "#     print(e, len(entity_type2all_entities[e]), \"x\", len(entity_type2all_relations[e]), \"=\", len(entity_type2all_entities[e]) * len(entity_type2all_relations[e]))\n",
    "#     s += len(entity_type2all_entities[e]) * len(entity_type2all_relations[e])\n",
    "# print(\"Total:\", s)"
   ]
  },
  {
   "cell_type": "code",
   "execution_count": 34,
   "id": "87e45649",
   "metadata": {},
   "outputs": [],
   "source": [
    "n_dev = 500\n",
    "n_test = 500\n",
    "n_train = n_id_data - n_dev - n_test\n",
    "\n",
    "# train_data_input = id_inputs_data[:n_train]\n",
    "# dev_data_input = id_inputs_data[n_train:n_train+n_dev]\n",
    "# test_data_input = id_inputs_data[n_train+n_dev:n_train+n_dev+n_test]\n",
    "# assert len(train_data_input) + len(dev_data_input) + len(test_data_input) == n_id_data, f\"{len(train_data_input)} + {len(dev_data_input)} + {len(test_data_input)} != {n_id_data}\""
   ]
  },
  {
   "cell_type": "code",
   "execution_count": 35,
   "id": "1c8df321",
   "metadata": {},
   "outputs": [
    {
     "name": "stdout",
     "output_type": "stream",
     "text": [
      "Saving data to /u/zliu/datastor1/KE-by-CP/data/debug_meta_train/syn_data_neurips/4Ktrain_data_100percent\n"
     ]
    }
   ],
   "source": [
    "percent_data_dir = f\"{vars.DATA_DIR}/debug_meta_train/syn_data_neurips/{n_train//1000}Ktrain_data_{int(id_data_proportion * 100)}percent\"\n",
    "print(f\"Saving data to {percent_data_dir}\")\n",
    "# os.makedirs(percent_data_dir, exist_ok=True)"
   ]
  },
  {
   "cell_type": "code",
   "execution_count": 31,
   "id": "a8ce574f",
   "metadata": {},
   "outputs": [],
   "source": [
    "# dump_jsonlines(train_data_input, f\"{percent_data_dir}/train_inputs_id_entity{n_id_entities}_rel{n_id_relations}.jsonl\")\n",
    "# dump_jsonlines(dev_data_input, f\"{percent_data_dir}/valid_inputs_id_entity{n_id_entities}_rel{n_id_relations}.jsonl\")\n",
    "# dump_jsonlines(test_data_input, f\"{percent_data_dir}/test_inputs_id_entity{n_id_entities}_rel{n_id_relations}.jsonl\")"
   ]
  },
  {
   "cell_type": "code",
   "execution_count": 32,
   "id": "224aef47",
   "metadata": {},
   "outputs": [],
   "source": [
    "train_data = [generate_text_instance(\n",
    "    **d,\n",
    "    text_template=entity_type2text_templates[d[\"entity_type\"]][d[\"subject_type\"]],\n",
    "    relation_templates=entity_type2relations[d[\"entity_type\"]],\n",
    "    fact_alias_templates=entity_type2aliases[d[\"entity_type\"]][d[\"subject_type\"]],\n",
    "    ) for d in train_data_input]\n",
    "dev_data = [generate_text_instance(\n",
    "    **d,\n",
    "    text_template=entity_type2text_templates[d[\"entity_type\"]][d[\"subject_type\"]],\n",
    "    relation_templates=entity_type2relations[d[\"entity_type\"]],\n",
    "    fact_alias_templates=entity_type2aliases[d[\"entity_type\"]][d[\"subject_type\"]],\n",
    "    ) for d in dev_data_input]\n",
    "test_data = [generate_text_instance(\n",
    "    **d,\n",
    "    text_template=entity_type2text_templates[d[\"entity_type\"]][d[\"subject_type\"]],\n",
    "    relation_templates=entity_type2relations[d[\"entity_type\"]],\n",
    "    fact_alias_templates=entity_type2aliases[d[\"entity_type\"]][d[\"subject_type\"]],\n",
    "    ) for d in test_data_input]\n"
   ]
  },
  {
   "cell_type": "code",
   "execution_count": 34,
   "id": "9ad3578a",
   "metadata": {},
   "outputs": [],
   "source": [
    "# dump_jsonlines(train_data, f\"{percent_data_dir}/train_text_data_id_entity{n_id_entities}_rel{n_id_relations}.jsonl\")\n",
    "# dump_jsonlines(dev_data, f\"{percent_data_dir}/valid_text_data_id_entity{n_id_entities}_rel{n_id_relations}.jsonl\")\n",
    "# dump_jsonlines(test_data, f\"{percent_data_dir}/test_text_data_id_entity{n_id_entities}_rel{n_id_relations}.jsonl\")"
   ]
  },
  {
   "cell_type": "markdown",
   "id": "79bfb0dc",
   "metadata": {},
   "source": [
    "# OOD(Both) generation "
   ]
  },
  {
   "cell_type": "code",
   "execution_count": null,
   "id": "0226649d",
   "metadata": {},
   "outputs": [],
   "source": []
  },
  {
   "cell_type": "code",
   "execution_count": 37,
   "id": "4c61a949",
   "metadata": {},
   "outputs": [
    {
     "name": "stdout",
     "output_type": "stream",
     "text": [
      "Entity types and their weights:\n",
      "Event: 0.26\n",
      "Country: 0.21\n",
      "Species: 0.21\n",
      "Language: 0.15\n",
      "Organization: 0.03\n",
      "Creative Work: 0.15\n",
      "Person: 0.00\n"
     ]
    }
   ],
   "source": [
    "\n",
    "n_ood_data = 350\n",
    "ood_inputs_data = inputs_dataset_generation(\n",
    "    active_entity_type2entities=entity_type2ood_entities,\n",
    "    active_entity_type2relations=entity_type2ood_relations, \n",
    "    n_data=n_ood_data\n",
    ")\n",
    "\n"
   ]
  },
  {
   "cell_type": "code",
   "execution_count": 45,
   "id": "ec0a4ff0",
   "metadata": {},
   "outputs": [],
   "source": [
    "dump_jsonlines(ood_inputs_data, f\"{percent_data_dir}/test_inputs_ood_entity{n_ood_entities}_rel{n_ood_relations}.jsonl\")\n",
    "ood_data = [generate_text_instance(\n",
    "    **d,\n",
    "    text_template=entity_type2text_templates[d[\"entity_type\"]][d[\"subject_type\"]],\n",
    "    relation_templates=entity_type2ood_relations[d[\"entity_type\"]],\n",
    "    fact_alias_templates=entity_type2aliases[d[\"entity_type\"]][d[\"subject_type\"]],) for d in ood_inputs_data]\n",
    "dump_jsonlines(ood_data, f\"{percent_data_dir}/test_text_data_ood_entity{n_ood_entities}_rel{n_ood_relations}.jsonl\")\n",
    "# dump_jsonlines(ood_data_input, f\"{percent_data_dir}/test_inputs_ood_entity{n_ood_entities}_rel{n_ood_relations}.jsonl\")\n",
    "# ood_data = [generate_text_instance(\n",
    "#     **d,\n",
    "#     text_template=entity_type2text_templates[d[\"entity_type\"]][d[\"subject_type\"]],\n",
    "#     relation_templates=entity_type2relations[d[\"entity_type\"]],\n",
    "#     fact_alias_templates=entity_type2aliases[d[\"entity_type\"]][d[\"subject_type\"]],) for d in ood_data_input]\n",
    "# dump_jsonlines(ood_data, f\"{percent_data_dir}/test_text_data_ood_entity{n_ood_entities}_rel{n_ood_relations}.jsonl\")"
   ]
  },
  {
   "cell_type": "code",
   "execution_count": null,
   "id": "f47a8f64",
   "metadata": {},
   "outputs": [],
   "source": []
  },
  {
   "cell_type": "code",
   "execution_count": null,
   "id": "f1e69e44",
   "metadata": {},
   "outputs": [
    {
     "data": {
      "text/plain": [
       "447"
      ]
     },
     "execution_count": 42,
     "metadata": {},
     "output_type": "execute_result"
    }
   ],
   "source": [
    "sum([len(x[\"questions\"]) for x in ood_data])"
   ]
  },
  {
   "cell_type": "markdown",
   "id": "80e7551f",
   "metadata": {},
   "source": [
    "# OOD(entity) generation"
   ]
  },
  {
   "cell_type": "code",
   "execution_count": 36,
   "id": "a514a95b",
   "metadata": {},
   "outputs": [
    {
     "name": "stdout",
     "output_type": "stream",
     "text": [
      "Entity types and their weights:\n",
      "Event: 0.24\n",
      "Country: 0.19\n",
      "Species: 0.19\n",
      "Language: 0.14\n",
      "Organization: 0.03\n",
      "Creative Work: 0.14\n",
      "Person: 0.08\n"
     ]
    }
   ],
   "source": [
    "n_ood_entity_data = 350\n",
    "\n",
    "ood_entity_inputs_data = inputs_dataset_generation(\n",
    "    active_entity_type2entities=entity_type2ood_entities,\n",
    "    active_entity_type2relations=entity_type2id_relations,\n",
    "    n_data=n_ood_entity_data\n",
    ")"
   ]
  },
  {
   "cell_type": "code",
   "execution_count": null,
   "id": "9f61311f",
   "metadata": {},
   "outputs": [],
   "source": [
    "# os.makedirs(percent_data_dir, exist_ok=True)"
   ]
  },
  {
   "cell_type": "code",
   "execution_count": null,
   "id": "c803c253",
   "metadata": {},
   "outputs": [],
   "source": [
    "# # dump_jsonlines(ood_entity_inputs_data, f\"{percent_data_dir}/test_inputs_ood-entity_entity{n_ood_entities}_rel{n_id_relations}.jsonl\")\n",
    "# ood_entity_data = [generate_text_instance(\n",
    "#     **d,\n",
    "#     text_template=entity_type2text_templates[d[\"entity_type\"]][d[\"subject_type\"]],\n",
    "#     relation_templates=entity_type2id_relations[d[\"entity_type\"]],\n",
    "#     fact_alias_templates=entity_type2aliases[d[\"entity_type\"]][d[\"subject_type\"]],) for d in ood_entity_inputs_data]\n",
    "# dump_jsonlines(ood_entity_data, f\"{percent_data_dir}/test_text_data_ood-entity_entity{n_ood_entities}_rel{n_id_relations}.jsonl\")\n"
   ]
  },
  {
   "cell_type": "code",
   "execution_count": 255,
   "id": "6d10a927",
   "metadata": {},
   "outputs": [
    {
     "data": {
      "text/plain": [
       "152"
      ]
     },
     "execution_count": 255,
     "metadata": {},
     "output_type": "execute_result"
    }
   ],
   "source": [
    "sum([len(vs) for vs in entity_type2id_entities.values()])"
   ]
  },
  {
   "cell_type": "code",
   "execution_count": 256,
   "id": "b53cf64f",
   "metadata": {},
   "outputs": [
    {
     "data": {
      "text/plain": [
       "7"
      ]
     },
     "execution_count": 256,
     "metadata": {},
     "output_type": "execute_result"
    }
   ],
   "source": [
    "sum([len(vs) for vs in entity_type2ood_relations.values()])"
   ]
  },
  {
   "cell_type": "code",
   "execution_count": 251,
   "id": "b0b24f6f",
   "metadata": {},
   "outputs": [
    {
     "data": {
      "text/plain": [
       "defaultdict(list,\n",
       "            {'Organization': ['Where is the headquarters of {organization} located?'],\n",
       "             'Creative Work': ['Who is the creator of {creative_work}?'],\n",
       "             'Country': ['Which religion has the most followers in {country}?'],\n",
       "             'Species': ['Where is {species} primarily native to?'],\n",
       "             'Event': ['When did {event} take place?',\n",
       "              'What year did {event} end?'],\n",
       "             'Language': ['What is the name of the alphabet or script of {language}?'],\n",
       "             'Person': []})"
      ]
     },
     "execution_count": 251,
     "metadata": {},
     "output_type": "execute_result"
    }
   ],
   "source": [
    "entity_type2ood_relations"
   ]
  },
  {
   "cell_type": "code",
   "execution_count": 254,
   "id": "e7654ac4",
   "metadata": {},
   "outputs": [
    {
     "data": {
      "text/plain": [
       "Counter({'Country': 89,\n",
       "         'Event': 70,\n",
       "         'Language': 56,\n",
       "         'Creative Work': 47,\n",
       "         'Organization': 46,\n",
       "         'Species': 42})"
      ]
     },
     "execution_count": 254,
     "metadata": {},
     "output_type": "execute_result"
    }
   ],
   "source": [
    "Counter([d[\"entity_type\"] for d in ood_relation_inputs_data])"
   ]
  },
  {
   "cell_type": "markdown",
   "id": "7ea02824",
   "metadata": {},
   "source": [
    "# OOD(relation) generation"
   ]
  },
  {
   "cell_type": "code",
   "execution_count": 44,
   "id": "4a86a7d9",
   "metadata": {},
   "outputs": [
    {
     "name": "stdout",
     "output_type": "stream",
     "text": [
      "Entity types and their weights:\n",
      "Organization: 0.15\n",
      "Person: 0.00\n",
      "Language: 0.18\n",
      "Country: 0.24\n",
      "Event: 0.18\n",
      "Species: 0.14\n",
      "Creative Work: 0.11\n"
     ]
    }
   ],
   "source": [
    "n_ood_rel_data = 350\n",
    "ood_relation_inputs_data = inputs_dataset_generation(\n",
    "    active_entity_type2entities=entity_type2id_entities,\n",
    "    active_entity_type2relations=entity_type2ood_relations,\n",
    "    n_data=n_ood_rel_data\n",
    ")"
   ]
  },
  {
   "cell_type": "code",
   "execution_count": 45,
   "id": "155eae74",
   "metadata": {},
   "outputs": [],
   "source": [
    "dump_jsonlines(ood_relation_inputs_data, f\"{percent_data_dir}/test_inputs_ood-relation_entity{n_id_entities}_rel{n_ood_relations}.jsonl\")\n",
    "ood_relation_data = [generate_text_instance(\n",
    "    **d,\n",
    "    text_template=entity_type2text_templates[d[\"entity_type\"]][d[\"subject_type\"]],\n",
    "    relation_templates=entity_type2ood_relations[d[\"entity_type\"]],\n",
    "    fact_alias_templates=entity_type2aliases[d[\"entity_type\"]][d[\"subject_type\"]],) for d in ood_relation_inputs_data]\n",
    "dump_jsonlines(ood_relation_data, f\"{percent_data_dir}/test_text_data_ood-relation_entity{n_id_entities}_rel{n_ood_relations}.jsonl\")\n"
   ]
  },
  {
   "cell_type": "code",
   "execution_count": 240,
   "id": "690c8b57",
   "metadata": {},
   "outputs": [
    {
     "data": {
      "text/plain": [
       "7"
      ]
     },
     "execution_count": 240,
     "metadata": {},
     "output_type": "execute_result"
    }
   ],
   "source": [
    "len(entity_type2id_entities)"
   ]
  },
  {
   "cell_type": "code",
   "execution_count": 40,
   "id": "ea3a80bc",
   "metadata": {},
   "outputs": [
    {
     "data": {
      "text/plain": [
       "155"
      ]
     },
     "execution_count": 40,
     "metadata": {},
     "output_type": "execute_result"
    }
   ],
   "source": [
    "all_template_entity_pairs = [(r, e) for et in entity_type2id_entities for r, e in itertools.product(entity_type2ood_relations[et], entity_type2id_entities[et])]\n",
    "len(all_template_entity_pairs)"
   ]
  },
  {
   "cell_type": "code",
   "execution_count": 235,
   "id": "a4c4c439",
   "metadata": {},
   "outputs": [
    {
     "data": {
      "text/plain": [
       "0        Person\n",
       "1        Person\n",
       "2        Person\n",
       "3        Person\n",
       "4        Person\n",
       "         ...   \n",
       "1031    Country\n",
       "1032    Country\n",
       "1033    Country\n",
       "1034    Country\n",
       "1035    Country\n",
       "Name: entity_type, Length: 1036, dtype: object"
      ]
     },
     "execution_count": 235,
     "metadata": {},
     "output_type": "execute_result"
    }
   ],
   "source": [
    "finalized_df[\"entity_type\"]"
   ]
  },
  {
   "cell_type": "code",
   "execution_count": 46,
   "id": "d4d7acc0",
   "metadata": {},
   "outputs": [
    {
     "data": {
      "text/plain": [
       "350"
      ]
     },
     "execution_count": 46,
     "metadata": {},
     "output_type": "execute_result"
    }
   ],
   "source": [
    "split = \"valid\"\n",
    "\n",
    "text_data = load_jsonlines(f\"/u/zliu/datastor1/KE-by-CP/data/debug_meta_train/syn_data_neurips/4Ktrain_data_100percent/test_text_data_ood_entity37_rel7.jsonl\")\n",
    "len(text_data)"
   ]
  },
  {
   "cell_type": "code",
   "execution_count": null,
   "id": "38d6479f",
   "metadata": {},
   "outputs": [],
   "source": []
  },
  {
   "cell_type": "markdown",
   "id": "055d83ec",
   "metadata": {},
   "source": [
    "# Generate data for training MEND and MEMIT"
   ]
  },
  {
   "cell_type": "code",
   "execution_count": null,
   "id": "48d68cc6",
   "metadata": {},
   "outputs": [],
   "source": [
    "mend_data = []\n",
    "\n",
    "for d in text_data[:]:\n",
    "    subject = d[\"subject\"]\n",
    "    gender_type = d[\"gender_type\"]\n",
    "    entity_tag = entity_type2tag[d[\"entity_type\"]]\n",
    "    entity_name_tags = [f\"{entity_tag}_{i+1}\" for i in range(N_ENTITY_IN_TEXT)]\n",
    "    entity_names = d[\"entity_names\"]\n",
    "    \n",
    "    facts_templates = entity_type2structured_events[d[\"entity_type\"]][d[\"subject_type\"]]\n",
    "    # add (prefix, target) pair from story\n",
    "    for fact_templates in facts_templates:\n",
    "        fact_dict = {\n",
    "            k: tmp.format(\n",
    "                subject=subject,\n",
    "                gender_subj=gender_type2subj[gender_type],\n",
    "                Gender_subj=gender_type2subj[gender_type].capitalize(),\n",
    "                gender_obj=gender_type2obj[gender_type],\n",
    "                gender_possessive_adj=gender_type2possessive_adj[gender_type],\n",
    "                Gender_possessive_adj=gender_type2possessive_adj[gender_type].capitalize(),\n",
    "                gender_possessive_pronoun=gender_type2possessive_pronoun[gender_type],\n",
    "                gender_reflexive_pronoun=gender_type2reflexive_pronoun[gender_type],\n",
    "                **dict(zip(entity_name_tags, entity_names))\n",
    "            ) for k, tmp in fact_templates.items()\n",
    "        }\n",
    "        \n",
    "        assert all(\"{\" not in x  and \"}\" not in x for x in fact_dict.values()), f\"{fact_dict} contains {{ or }}\"\n",
    "        \n",
    "        context = fact_dict[\"prefix\"]\n",
    "        assert not context.endswith(\".\")\n",
    "        \n",
    "        paraphrase = fact_dict[\"paraphrase_prefix\"]\n",
    "        assert not paraphrase.endswith(\".\")\n",
    "        \n",
    "        completion = fact_dict[\"target\"]\n",
    "        \n",
    "        mend_data.append({\n",
    "            \"context\": context,\n",
    "            \"paraphrase\": paraphrase, \n",
    "            \"completion\": completion,\n",
    "        })\n",
    "    # add (prefix, target) pair from propagation questions\n",
    "    for question_suite in d[\"questions\"]:\n",
    "        mend_data.append({\n",
    "            \"context\": question_suite[\"alias_question\"],\n",
    "            \"paraphrase\": question_suite[\"alias_question_paraphrase\"], \n",
    "            \"completion\": question_suite[\"answer\"],\n",
    "        })\n",
    "        "
   ]
  },
  {
   "cell_type": "code",
   "execution_count": 109,
   "id": "c49239d0",
   "metadata": {},
   "outputs": [
    {
     "data": {
      "text/plain": [
       "3742"
      ]
     },
     "execution_count": 109,
     "metadata": {},
     "output_type": "execute_result"
    }
   ],
   "source": [
    "len(mend_data)"
   ]
  },
  {
   "cell_type": "code",
   "execution_count": null,
   "id": "8f3099b4",
   "metadata": {},
   "outputs": [],
   "source": [
    "# dump_jsonlines(mend_data, f\"/u/zliu/datastor1/KE-by-CP/data/debug_meta_train/syn_data_neurips/4Ktrain_data_100percent_frozen/{split}_mend.jsonl\")"
   ]
  },
  {
   "cell_type": "markdown",
   "id": "5b0d3af2",
   "metadata": {},
   "source": [
    "# Generate data for testing MEMIT"
   ]
  },
  {
   "cell_type": "code",
   "execution_count": 57,
   "id": "750e6736",
   "metadata": {},
   "outputs": [],
   "source": [
    "fpath = \"/u/zliu/datastor1/KE-by-CP/data/debug_meta_train/syn_data_neurips/4Ktrain_data_100percent_frozen/train_text_data_id_entity152_rel31.jsonl\"\n",
    "base_name = os.path.basename(fpath)\n",
    "\n",
    "test_data = load_jsonlines(fpath)"
   ]
  },
  {
   "cell_type": "code",
   "execution_count": 58,
   "id": "bc704f04",
   "metadata": {},
   "outputs": [
    {
     "data": {
      "text/plain": [
       "'train_structure_data_id_entity152_rel31.jsonl'"
      ]
     },
     "execution_count": 58,
     "metadata": {},
     "output_type": "execute_result"
    }
   ],
   "source": [
    "base_name.replace(\"_text_\", \"_structure_\")"
   ]
  },
  {
   "cell_type": "code",
   "execution_count": 59,
   "id": "65f32650",
   "metadata": {},
   "outputs": [],
   "source": [
    "test_structure_data = []\n",
    "\n",
    "for d in test_data[:]:\n",
    "    test_structure_datum = deepcopy(d)\n",
    "    \n",
    "    subject = d[\"subject\"]\n",
    "    gender_type = d[\"gender_type\"]\n",
    "    entity_tag = entity_type2tag[d[\"entity_type\"]]\n",
    "    entity_name_tags = [f\"{entity_tag}_{i+1}\" for i in range(N_ENTITY_IN_TEXT)]\n",
    "    entity_names = d[\"entity_names\"]\n",
    "    \n",
    "    facts_templates = entity_type2structured_events[d[\"entity_type\"]][d[\"subject_type\"]]\n",
    "    facts = []\n",
    "    # add (prefix, target) pair from story\n",
    "    for fact_templates in facts_templates:\n",
    "        fact_dict = {\n",
    "            k: tmp.format(\n",
    "                subject=subject,\n",
    "                gender_subj=gender_type2subj[gender_type],\n",
    "                Gender_subj=gender_type2subj[gender_type].capitalize(),\n",
    "                gender_obj=gender_type2obj[gender_type],\n",
    "                gender_possessive_adj=gender_type2possessive_adj[gender_type],\n",
    "                Gender_possessive_adj=gender_type2possessive_adj[gender_type].capitalize(),\n",
    "                gender_possessive_pronoun=gender_type2possessive_pronoun[gender_type],\n",
    "                gender_reflexive_pronoun=gender_type2reflexive_pronoun[gender_type],\n",
    "                **dict(zip(entity_name_tags, entity_names))\n",
    "            ) for k, tmp in fact_templates.items()\n",
    "        }\n",
    "        assert all(\"{\" not in x  and \"}\" not in x for x in fact_dict.values()), f\"{fact_dict} contains {{ or }}\"\n",
    "         \n",
    "        facts.append(fact_dict)\n",
    "    test_structure_datum[\"facts\"] = facts\n",
    "    del test_structure_datum[\"text\"]\n",
    "    # add (prefix, target) pair from propagation questions\n",
    "    test_structure_data.append(test_structure_datum)"
   ]
  },
  {
   "cell_type": "code",
   "execution_count": 60,
   "id": "b8bc3eb3",
   "metadata": {},
   "outputs": [],
   "source": [
    "assert len(test_structure_data) == len(test_data), f\"{len(test_structure_data)} != {len(test_data)}\"\n",
    "dump_jsonlines(test_structure_data, f\"{percent_data_dir}/{base_name.replace('_text_', '_structure_')}\")"
   ]
  },
  {
   "cell_type": "code",
   "execution_count": 3,
   "id": "ec81e3bb",
   "metadata": {},
   "outputs": [],
   "source": [
    "finalized_df = pd.read_excel(f\"{vars.DATA_DIR}/debug_meta_train/syn_data_neurips/data_gen/entity_type_name_template_v1_curated_answered_postfiltered.xlsx\",)"
   ]
  },
  {
   "cell_type": "markdown",
   "id": "77858ec9",
   "metadata": {},
   "source": [
    "# Generate data for ablating paraphrase-only in outerloop"
   ]
  },
  {
   "cell_type": "code",
   "execution_count": 91,
   "id": "aac91181",
   "metadata": {},
   "outputs": [],
   "source": [
    "fpath = \"/u/zliu/datastor1/KE-by-CP/data/debug_meta_train/syn_data_neurips/4Ktrain_data_100percent_frozen/train_text_data_id_entity152_rel31.jsonl\"\n",
    "base_name = os.path.basename(fpath)\n",
    "\n",
    "test_data = load_jsonlines(fpath)"
   ]
  },
  {
   "cell_type": "code",
   "execution_count": 92,
   "id": "87f85f35",
   "metadata": {},
   "outputs": [],
   "source": [
    "test_paraphrase_data = []\n",
    "\n",
    "for d in test_data[:]:\n",
    "    test_structure_datum = deepcopy(d)\n",
    "    \n",
    "    subject = d[\"subject\"]\n",
    "    gender_type = d[\"gender_type\"]\n",
    "    entity_tag = entity_type2tag[d[\"entity_type\"]]\n",
    "    entity_name_tags = [f\"{entity_tag}_{i+1}\" for i in range(N_ENTITY_IN_TEXT)]\n",
    "    entity_names = d[\"entity_names\"]\n",
    "    \n",
    "    facts_templates = entity_type2structured_events[d[\"entity_type\"]][d[\"subject_type\"]]\n",
    "    facts = []\n",
    "    # add (prefix, target) pair from story\n",
    "    for fact_templates in facts_templates:\n",
    "        fact_dict = {\n",
    "            k: tmp.format(\n",
    "                subject=subject,\n",
    "                gender_subj=gender_type2subj[gender_type],\n",
    "                Gender_subj=gender_type2subj[gender_type].capitalize(),\n",
    "                gender_obj=gender_type2obj[gender_type],\n",
    "                gender_possessive_adj=gender_type2possessive_adj[gender_type],\n",
    "                Gender_possessive_adj=gender_type2possessive_adj[gender_type].capitalize(),\n",
    "                gender_possessive_pronoun=gender_type2possessive_pronoun[gender_type],\n",
    "                gender_reflexive_pronoun=gender_type2reflexive_pronoun[gender_type],\n",
    "                **dict(zip(entity_name_tags, entity_names))\n",
    "            ) for k, tmp in fact_templates.items()\n",
    "        }\n",
    "        assert all(\"{\" not in x  and \"}\" not in x for x in fact_dict.values()), f\"{fact_dict} contains {{ or }}\"\n",
    "        facts.append(fact_dict)\n",
    "    test_structure_datum[\"questions\"] = [\n",
    "        {\n",
    "            \"alias_question\": f[\"paraphrase_prefix\"],\n",
    "            \"answer\": f[\"target\"]\n",
    "        }\n",
    "        for f in facts\n",
    "    ]\n",
    "    test_paraphrase_data.append(test_structure_datum)"
   ]
  },
  {
   "cell_type": "code",
   "execution_count": 93,
   "id": "c060adda",
   "metadata": {},
   "outputs": [],
   "source": [
    "assert len(test_paraphrase_data) == len(test_data), f\"{len(test_paraphrase_data)} != {len(test_data)}\"\n",
    "dump_jsonlines(test_paraphrase_data, f\"{percent_data_dir}/{base_name.replace('.jsonl', '_paraphrase-only.jsonl')}\")"
   ]
  },
  {
   "cell_type": "code",
   "execution_count": 64,
   "id": "940e6456",
   "metadata": {},
   "outputs": [
    {
     "data": {
      "text/plain": [
       "148"
      ]
     },
     "execution_count": 64,
     "metadata": {},
     "output_type": "execute_result"
    }
   ],
   "source": [
    "# id_knowledge_status_data = []\n",
    "# train_questions = set()\n",
    "# id_train_data = load_jsonlines(f\"/u/zliu/datastor1/KE-by-CP/data/debug_meta_train/syn_data_neurips/4Ktrain_data_100percent_frozen/train_text_data_id_entity152_rel31.jsonl\")\n",
    "\n",
    "# for d in id_train_data:\n",
    "#     for q in d[\"questions\"]:\n",
    "#         assert q[\"unalias_question\"] in question2answer\n",
    "#         # train_questions.add((q[\"question_template\"], q[\"entity_name\"]))\n",
    "#         train_questions.add(q[\"unalias_question\"])\n",
    "            \n",
    "# id_knowledge_status_data = []\n",
    "# valid_questions = set()\n",
    "# id_valid_data = load_jsonlines(f\"/u/zliu/datastor1/KE-by-CP/data/debug_meta_train/syn_data_neurips/4Ktrain_data_100percent_frozen/valid_text_data_id_entity152_rel31.jsonl\")\n",
    "\n",
    "# for d in id_valid_data:\n",
    "#     for q in d[\"questions\"]:\n",
    "#         assert q[\"unalias_question\"] in question2answer\n",
    "#         # valid_questions.add((q[\"question_template\"], q[\"entity_name\"]))\n",
    "#         valid_questions.add(q[\"unalias_question\"])\n",
    "\n",
    "id_knowledge_status_data = []\n",
    "test_questions = set()\n",
    "test_relations = set()\n",
    "id_test_data = load_jsonlines(f\"/u/zliu/datastor1/KE-by-CP/data/debug_meta_train/syn_data_neurips/4Ktrain_data_100percent_frozen/test_structure_data_ood-relation_entity152_rel7.jsonl\")\n",
    "\n",
    "for d in id_test_data:\n",
    "    for q in d[\"questions\"]:\n",
    "        assert q[\"unalias_question\"] in question2answer\n",
    "        # test_questions.add((q[\"question_template\"], q[\"entity_name\"]))\n",
    "        test_questions.add(q[\"unalias_question\"])\n",
    "        test_relations.add(q[\"question_template\"])\n",
    "len(test_questions)\n",
    "\n",
    "# ood_test_data = load_jsonlines(f\"/u/zliu/datastor1/KE-by-CP/data/debug_meta_train/syn_data_neurips/4Ktrain_data_100percent_frozen/test_text_data_ood_entity37_rel7.jsonl\")\n",
    "# ood_test_question = set()\n",
    "# for d in ood_test_data:\n",
    "#     for q in d[\"questions\"]:\n",
    "#         assert q[\"unalias_question\"] in question2answer\n",
    "#         # ood_test_question.add((q[\"question_template\"], q[\"entity_name\"]))\n",
    "#         ood_test_question.add(q[\"unalias_question\"])"
   ]
  },
  {
   "cell_type": "code",
   "execution_count": null,
   "id": "4bf0a901",
   "metadata": {},
   "outputs": [
    {
     "data": {
      "text/plain": [
       "7"
      ]
     },
     "execution_count": 65,
     "metadata": {},
     "output_type": "execute_result"
    }
   ],
   "source": [
    "len(test_relations)"
   ]
  },
  {
   "cell_type": "markdown",
   "id": "dd23d57e",
   "metadata": {},
   "source": [
    "# Check duplicate entity per instances"
   ]
  },
  {
   "cell_type": "code",
   "execution_count": 16,
   "id": "842ff9e7",
   "metadata": {},
   "outputs": [],
   "source": [
    "text_data = load_jsonlines(f\"{vars.DATA_DIR}/4K_story_propagation/test_structure_data_ood-relation_entity152_rel7.jsonl\")"
   ]
  },
  {
   "cell_type": "code",
   "execution_count": 17,
   "id": "11490345",
   "metadata": {},
   "outputs": [
    {
     "name": "stdout",
     "output_type": "stream",
     "text": [
      "0 / 350\n"
     ]
    }
   ],
   "source": [
    "print(sum(len(d[\"entity_names\"]) != len(set(d[\"entity_names\"])) for d in text_data), \"/\", len(text_data))"
   ]
  },
  {
   "cell_type": "code",
   "execution_count": null,
   "id": "f3209678",
   "metadata": {},
   "outputs": [
    {
     "data": {
      "text/plain": [
       "defaultdict(list,\n",
       "            {'Person': ['What occupation is {person} most well-known for?',\n",
       "              'Where was the birthplace of {person}?',\n",
       "              'What language was primarily spoken by {person}?',\n",
       "              'What year did {person} pass away?',\n",
       "              'What is the religion of {person}?',\n",
       "              'What year was {person} born?'],\n",
       "             'Language': ['What writing system is used by {language}?',\n",
       "              'What is the ISO 639‑1 code for {language}?',\n",
       "              'What region is {language} native to?',\n",
       "              'What is the name of the alphabet or script of {language}?'],\n",
       "             'Country': ['What is the top-level internet domain for {country}?',\n",
       "              'What is the currency of {country}?',\n",
       "              'What is the ISO alpha-2 code for {country}?',\n",
       "              'Which ethnic group is the largest in {country}?',\n",
       "              'What is the capital of {country}?',\n",
       "              'What language in {country} has the most speakers?',\n",
       "              'What is the calling code for {country}?',\n",
       "              'Which religion has the most followers in {country}?'],\n",
       "             'Event': ['In which country did {event} happen?',\n",
       "              'Who was the most important leader or figure involved in {event}?',\n",
       "              'When did {event} take place?',\n",
       "              'What year did {event} end?'],\n",
       "             'Creative Work': ['What is the original language of {creative_work}?',\n",
       "              'When was {creative_work} released or published?',\n",
       "              'Where was {creative_work} produced or created?',\n",
       "              'In which country was {creative_work} first released or published?',\n",
       "              'What is the genre or style of {creative_work}?',\n",
       "              'Who is the creator of {creative_work}?'],\n",
       "             'Organization': ['Where was {organization} established?',\n",
       "              'In what year was {organization} established?',\n",
       "              'Who established {organization}?',\n",
       "              'What is the primary field or industry of {organization}?',\n",
       "              'What primary service or product does {organization} provide?',\n",
       "              'Where is the headquarters of {organization} located?'],\n",
       "             'Species': ['What is the social structure of {species}?',\n",
       "              'What is the diet of {species}?',\n",
       "              'What type of organism is {species}?',\n",
       "              'Where is {species} primarily native to?']})"
      ]
     },
     "execution_count": 46,
     "metadata": {},
     "output_type": "execute_result"
    }
   ],
   "source": []
  },
  {
   "cell_type": "code",
   "execution_count": 37,
   "id": "cb2a57fd",
   "metadata": {},
   "outputs": [],
   "source": [
    "prefilter = load_jsonlines(\"/u/zliu/datastor1/KE-by-CP/data/debug_meta_train/syn_data_neurips/data_gen/entity_type_name_template_v1_curated_answered_prefiltered.jsonl\")"
   ]
  },
  {
   "cell_type": "code",
   "execution_count": 48,
   "id": "7c2b6db9",
   "metadata": {},
   "outputs": [
    {
     "name": "stdout",
     "output_type": "stream",
     "text": [
      "Country 8\n",
      "\n",
      "\n",
      "Creative Work 7\n",
      "Who was the original distributor or publisher of \\{creative\\_work\\}?\n",
      "\n",
      "Event 4\n",
      "\n",
      "\n",
      "Language 6\n",
      "What is the primary word order in \\{language\\}?\n",
      "What language family does \\{language\\} belong to?\n",
      "\n",
      "Organization 6\n",
      "\n",
      "\n",
      "Person 8\n",
      "How many children did \\{person\\} have?\n",
      "Where did \\{person\\} die?\n",
      "\n",
      "Product 5\n",
      "What is the primary function of \\{product\\}?\n",
      "Who are the primary users of \\{product\\}?\n",
      "Who was the main inventor of \\{product\\}?\n",
      "When was \\{product\\} first introduced?\n",
      "Where was \\{product\\} developed?\n",
      "\n",
      "Species 4\n",
      "\n",
      "\n"
     ]
    }
   ],
   "source": [
    "for et, et_df in pd.DataFrame(prefilter).groupby(\"entity_type\"):\n",
    "    print(et, len(et_df[\"template\"].unique()))\n",
    "    # print(\"\\n\".join([x.replace(\"{\", \"\\{\").replace(\"}\", \"\\}\").replace(\"_\", \"\\_\") for x in et_df[\"template\"].unique()]))\n",
    "    print(\"\\n\".join([x.replace(\"{\", \"\\{\").replace(\"}\", \"\\}\").replace(\"_\", \"\\_\") for x in et_df[\"template\"].unique() if x not in entity_type2all_relations[et]]))\n",
    "    print()"
   ]
  },
  {
   "cell_type": "code",
   "execution_count": null,
   "id": "1c4efb0b",
   "metadata": {},
   "outputs": [],
   "source": []
  },
  {
   "cell_type": "code",
   "execution_count": null,
   "id": "275591c3",
   "metadata": {},
   "outputs": [],
   "source": []
  },
  {
   "cell_type": "code",
   "execution_count": null,
   "id": "f3119b49",
   "metadata": {},
   "outputs": [],
   "source": []
  },
  {
   "cell_type": "code",
   "execution_count": null,
   "id": "2b6310e4",
   "metadata": {},
   "outputs": [],
   "source": []
  },
  {
   "cell_type": "code",
   "execution_count": null,
   "id": "9b1396ee",
   "metadata": {},
   "outputs": [],
   "source": []
  },
  {
   "cell_type": "code",
   "execution_count": null,
   "id": "cc3ad0b0",
   "metadata": {},
   "outputs": [],
   "source": []
  }
 ],
 "metadata": {
  "kernelspec": {
   "display_name": "cpt",
   "language": "python",
   "name": "python3"
  },
  "language_info": {
   "codemirror_mode": {
    "name": "ipython",
    "version": 3
   },
   "file_extension": ".py",
   "mimetype": "text/x-python",
   "name": "python",
   "nbconvert_exporter": "python",
   "pygments_lexer": "ipython3",
   "version": "3.11.10"
  }
 },
 "nbformat": 4,
 "nbformat_minor": 5
}
