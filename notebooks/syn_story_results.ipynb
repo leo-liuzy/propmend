{
   "cells": [
      {
         "cell_type": "code",
         "execution_count": 1,
         "metadata": {},
         "outputs": [
            {
               "name": "stderr",
               "output_type": "stream",
               "text": [
                  "/home/zliu/miniconda3/envs/cpt/lib/python3.11/site-packages/tqdm/auto.py:21: TqdmWarning: IProgress not found. Please update jupyter and ipywidgets. See https://ipywidgets.readthedocs.io/en/stable/user_install.html\n",
                  "  from .autonotebook import tqdm as notebook_tqdm\n"
               ]
            }
         ],
         "source": [
            "\n",
            "import pandas as pd\n",
            "import io, vars\n",
            "import os\n",
            "import numpy as np\n",
            "from tqdm import tqdm\n",
            "import seaborn as sns\n",
            "import matplotlib.pyplot as plt\n",
            "from glob import glob\n",
            "from scipy.stats import describe\n",
            "from thefuzz import fuzz\n",
            "from utils import is_significantly_different, load_jsonlines, dump_json\n",
            "from collections import Counter\n",
            "from typing import List, Dict, Tuple\n",
            "\n",
            "os.getcwd()\n",
            "def macro_averaging(df: pd.DataFrame, metrics: List[str], multi_level_averaging: List[str]):\n",
            "    \"\"\"\n",
            "    Do macro-averaging over the given metrics and multi-level averaging categories.\n",
            "    \"\"\"\n",
            "    extracted_multi_level_cols = [[m, \"mean\"] for m in metrics]\n",
            "    while len(multi_level_averaging) > 0:\n",
            "        # first take the mean over each generation,\n",
            "        # and, only take `mean` of `rouge1` and  `llm_accuracy` column groups\n",
            "        df_over_cols = df.groupby(multi_level_averaging, observed=True).describe()[extracted_multi_level_cols]\n",
            "        # remove the multi-level column indices, since there's only one sub-level -- \"mean\"\n",
            "        df_over_cols.columns = df_over_cols.columns.get_level_values(0)\n",
            "\n",
            "        # reset index to flatten the multi-level column indices for the next macro-averaging class\n",
            "        df = df_over_cols.reset_index(inplace=False)\n",
            "        multi_level_averaging.pop(-1)\n",
            "    return df"
         ]
      },
      {
         "cell_type": "markdown",
         "metadata": {},
         "source": [
            "# Read out results and calculate aggregation"
         ]
      },
      {
         "cell_type": "code",
         "execution_count": 41,
         "metadata": {},
         "outputs": [],
         "source": [
            "df = pd.read_excel(\"/data/users/zliu/mend/controlled_ripple_exp_output/qwen2.5-1.5B-qa-sft-qa-additional-estimated/controlled_ripple_edit/memit(controlled_ripple_4K)_eval_loss=clm_input=seen_n=350_prompt=no_w-gen_wo-icl_e+s_4K_test_ood-question.xlsx\")"
         ]
      },
      {
         "cell_type": "code",
         "execution_count": 42,
         "metadata": {},
         "outputs": [],
         "source": [
            "df.loc[df[\"question_key\"] == \"unalias_question\", \"question_type\"] = \"specificity\"\n",
            "assert len(df[df[\"question_type\"] == \"efficacy\"]) == len(df[df[\"question_type\"] == \"specificity\"])"
         ]
      },
      {
         "cell_type": "code",
         "execution_count": 43,
         "metadata": {},
         "outputs": [
            {
               "name": "stdout",
               "output_type": "stream",
               "text": [
                  "efficacy (n=447.0)\n",
                  "10.1\n",
                  "specificity (n=447.0)\n",
                  "89.7\n"
               ]
            }
         ],
         "source": [
            "for question_type in [\"efficacy\", \"specificity\"]:\n",
            "    df_question = df[df[\"question_type\"] == question_type]\n",
            "\n",
            "    agg = df_question.describe()[[\"llm_accuracy\",]]\n",
            "    print(question_type, f\"(n={agg['llm_accuracy']['count']})\")\n",
            "    \n",
            "    print((agg['llm_accuracy']['mean'] * 100).round(1)) #\n",
            "    "
         ]
      },
      {
         "cell_type": "code",
         "execution_count": 47,
         "metadata": {},
         "outputs": [
            {
               "data": {
                  "text/html": [
                     "<div>\n",
                     "<style scoped>\n",
                     "    .dataframe tbody tr th:only-of-type {\n",
                     "        vertical-align: middle;\n",
                     "    }\n",
                     "\n",
                     "    .dataframe tbody tr th {\n",
                     "        vertical-align: top;\n",
                     "    }\n",
                     "\n",
                     "    .dataframe thead th {\n",
                     "        text-align: right;\n",
                     "    }\n",
                     "</style>\n",
                     "<table border=\"1\" class=\"dataframe\">\n",
                     "  <thead>\n",
                     "    <tr style=\"text-align: right;\">\n",
                     "      <th></th>\n",
                     "      <th>llm_accuracy</th>\n",
                     "    </tr>\n",
                     "  </thead>\n",
                     "  <tbody>\n",
                     "    <tr>\n",
                     "      <th>count</th>\n",
                     "      <td>151.000000</td>\n",
                     "    </tr>\n",
                     "    <tr>\n",
                     "      <th>mean</th>\n",
                     "      <td>0.913245</td>\n",
                     "    </tr>\n",
                     "    <tr>\n",
                     "      <th>std</th>\n",
                     "      <td>0.208383</td>\n",
                     "    </tr>\n",
                     "    <tr>\n",
                     "      <th>min</th>\n",
                     "      <td>0.000000</td>\n",
                     "    </tr>\n",
                     "    <tr>\n",
                     "      <th>25%</th>\n",
                     "      <td>1.000000</td>\n",
                     "    </tr>\n",
                     "    <tr>\n",
                     "      <th>50%</th>\n",
                     "      <td>1.000000</td>\n",
                     "    </tr>\n",
                     "    <tr>\n",
                     "      <th>75%</th>\n",
                     "      <td>1.000000</td>\n",
                     "    </tr>\n",
                     "    <tr>\n",
                     "      <th>max</th>\n",
                     "      <td>1.000000</td>\n",
                     "    </tr>\n",
                     "  </tbody>\n",
                     "</table>\n",
                     "</div>"
                  ],
                  "text/plain": [
                     "       llm_accuracy\n",
                     "count    151.000000\n",
                     "mean       0.913245\n",
                     "std        0.208383\n",
                     "min        0.000000\n",
                     "25%        1.000000\n",
                     "50%        1.000000\n",
                     "75%        1.000000\n",
                     "max        1.000000"
                  ]
               },
               "execution_count": 47,
               "metadata": {},
               "output_type": "execute_result"
            }
         ],
         "source": [
            "df[df[\"question_type\"] == \"specificity\"].drop_duplicates(subset=[\"question\"], inplace=False).describe()[[\"llm_accuracy\",]]"
         ]
      },
      {
         "cell_type": "markdown",
         "metadata": {},
         "source": [
            "# Test signinifcant between two table"
         ]
      },
      {
         "cell_type": "code",
         "execution_count": 26,
         "metadata": {},
         "outputs": [],
         "source": [
            "df1 = pd.read_excel(\"/data/users/zliu/mend/controlled_ripple_exp_output/qwen2.5-1.5B-qa-sft-qa-additional-estimated-wiki/controlled_ripple_edit/memit(wikipedia)_eval_loss=clm_input=seen_n=500_prompt=no_w-gen_wo-icl_e+s_4K_test_id-question.xlsx\")\n",
            "df2 = pd.read_excel(\"/data/users/zliu/mend/controlled_ripple_exp_output/qwen_share_max_4K_14_27/controlled_ripple_edit/mend_eval_loss=clm_input=seen_n=500_prompt=no_w-gen_wo-icl_4K_test_id-question.xlsx\")"
         ]
      },
      {
         "cell_type": "code",
         "execution_count": 27,
         "metadata": {},
         "outputs": [],
         "source": [
            "df1.loc[df1[\"question_key\"] == \"unalias_question\", \"question_type\"] = \"specificity\"\n",
            "df2.loc[df2[\"question_key\"] == \"unalias_question\", \"question_type\"] = \"specificity\""
         ]
      },
      {
         "cell_type": "code",
         "execution_count": 28,
         "metadata": {},
         "outputs": [
            {
               "name": "stdout",
               "output_type": "stream",
               "text": [
                  "Score_A avg: 0.16\n",
                  "Score_B avg: 0.64\n",
                  "Delta (B - A): 0.5\n",
                  "p: 0.0 (threshold = 0.05)\n",
                  "Significant\n"
               ]
            },
            {
               "data": {
                  "text/plain": [
                     "True"
                  ]
               },
               "execution_count": 28,
               "metadata": {},
               "output_type": "execute_result"
            }
         ],
         "source": [
            "is_significantly_different(\n",
            "    df1[df1[\"question_type\"] == \"efficacy\"][\"llm_accuracy\"].to_list(),\n",
            "    df2[df2[\"question_type\"] == \"efficacy\"][\"llm_accuracy\"].to_list(),\n",
            "    verbose=True\n",
            ")"
         ]
      },
      {
         "cell_type": "code",
         "execution_count": 29,
         "metadata": {},
         "outputs": [
            {
               "name": "stdout",
               "output_type": "stream",
               "text": [
                  "Score_A avg: 0.91\n",
                  "Score_B avg: 0.94\n",
                  "Delta (B - A): 0.0\n",
                  "p: 0.0 (threshold = 0.05)\n",
                  "Significant\n"
               ]
            },
            {
               "data": {
                  "text/plain": [
                     "True"
                  ]
               },
               "execution_count": 29,
               "metadata": {},
               "output_type": "execute_result"
            }
         ],
         "source": [
            "is_significantly_different(\n",
            "    df1[df1[\"question_type\"] == \"specificity\"][\"llm_accuracy\"].to_list(),\n",
            "    df2[df2[\"question_type\"] == \"specificity\"][\"llm_accuracy\"].to_list(),\n",
            "    verbose=True\n",
            ")"
         ]
      },
      {
         "cell_type": "markdown",
         "metadata": {},
         "source": [
            "# Merge CPT results"
         ]
      },
      {
         "cell_type": "code",
         "execution_count": 20,
         "metadata": {},
         "outputs": [
            {
               "data": {
                  "text/plain": [
                     "''"
                  ]
               },
               "execution_count": 20,
               "metadata": {},
               "output_type": "execute_result"
            }
         ],
         "source": [
            "individual_dir = \"/data/users/zliu/mend/controlled_ripple_exp_output/Qwen2.5-1.5B-qa-sft-qa-additional_clm-baseline_lr=1e-05_epoch=4.0_tunable-params=midupper-mlp/individual_results_text_ood-relation\"\n",
            "# midupper3-mlp\n",
            "\n",
            "if individual_dir.endswith(\"_id\"):\n",
            "    n_data = 500\n",
            "else:\n",
            "    assert individual_dir.endswith(\"_ood\") or individual_dir.endswith(\"_ood-entity\") or individual_dir.endswith(\"_ood-relation\")\n",
            "    n_data = 350\n",
            "\n",
            "file_name_format = \"{idx}_eval_results_e.xlsx\"\n",
            "individual_dfs = []\n",
            "missing_ids = []\n",
            "for i in range(n_data):\n",
            "    file_name = os.path.join(individual_dir, file_name_format.format(idx=i))\n",
            "    if not os.path.exists(file_name):\n",
            "        missing_ids.append(i)\n",
            "        continue\n",
            "    df = pd.read_excel(file_name)\n",
            "    individual_dfs.append(df)\n",
            "\" \".join([str(i) for i in missing_ids])"
         ]
      },
      {
         "cell_type": "code",
         "execution_count": 21,
         "metadata": {},
         "outputs": [],
         "source": [
            "all_df = pd.concat(individual_dfs, ignore_index=True)\n",
            "all_df.loc[all_df[\"question_key\"] == \"unalias_question\", \"question_type\"] = \"specificity\""
         ]
      },
      {
         "cell_type": "code",
         "execution_count": 22,
         "metadata": {},
         "outputs": [],
         "source": [
            "assert len(all_df[all_df[\"question_type\"] == \"efficacy\"]) == len(all_df[all_df[\"question_type\"] == \"specificity\"])"
         ]
      },
      {
         "cell_type": "code",
         "execution_count": 23,
         "metadata": {},
         "outputs": [
            {
               "data": {
                  "text/plain": [
                     "842"
                  ]
               },
               "execution_count": 23,
               "metadata": {},
               "output_type": "execute_result"
            }
         ],
         "source": [
            "len(all_df)"
         ]
      },
      {
         "cell_type": "code",
         "execution_count": 24,
         "metadata": {},
         "outputs": [
            {
               "data": {
                  "text/plain": [
                     "('/data/users/zliu/mend/synstory_exp_output/Qwen2.5-1.5B-eos-sft-template-format-curated-v1-lr2e-6-sample-10_clm-baseline_lr=1e-05_epoch=4.0_tunable-params=midupper-mlp/individual_results_text_ood-relation/../all_results_id.xlsx',)"
                  ]
               },
               "execution_count": 24,
               "metadata": {},
               "output_type": "execute_result"
            }
         ],
         "source": [
            "f\"{individual_dir}/../all_results_id.xlsx\","
         ]
      },
      {
         "cell_type": "code",
         "execution_count": 25,
         "metadata": {},
         "outputs": [],
         "source": [
            "if individual_dir.endswith(\"_id\"):\n",
            "    all_df.to_excel(\n",
            "        f\"{individual_dir}/../all_results_id.xlsx\",\n",
            "        index=False\n",
            "    )\n",
            "elif individual_dir.endswith(\"_ood-entity\"):\n",
            "    all_df.to_excel(\n",
            "        f\"{individual_dir}/../all_results_ood-entity.xlsx\",\n",
            "        index=False\n",
            "    )\n",
            "elif individual_dir.endswith(\"_ood-relation\"):\n",
            "    all_df.to_excel(\n",
            "        f\"{individual_dir}/../all_results_ood-relation.xlsx\",\n",
            "        index=False\n",
            "    )\n",
            "else:\n",
            "    assert individual_dir.endswith(\"_ood\")\n",
            "    all_df.to_excel(\n",
            "        f\"{individual_dir}/../all_results_ood.xlsx\",\n",
            "        index=False\n",
            "    )"
         ]
      },
      {
         "cell_type": "code",
         "execution_count": null,
         "metadata": {},
         "outputs": [],
         "source": []
      }
   ],
   "metadata": {
      "kernelspec": {
         "display_name": "cpt",
         "language": "python",
         "name": "python3"
      },
      "language_info": {
         "codemirror_mode": {
            "name": "ipython",
            "version": 3
         },
         "file_extension": ".py",
         "mimetype": "text/x-python",
         "name": "python",
         "nbconvert_exporter": "python",
         "pygments_lexer": "ipython3",
         "version": "3.11.10"
      }
   },
   "nbformat": 4,
   "nbformat_minor": 2
}
