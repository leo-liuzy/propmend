{
 "cells": [
  {
   "cell_type": "code",
   "execution_count": 177,
   "id": "1177ff58",
   "metadata": {},
   "outputs": [],
   "source": [
    "import datasets\n",
    "from datasets import load_dataset\n",
    "from tqdm import tqdm\n",
    "import vars\n",
    "from utils import load_json, dump_jsonlines\n",
    "from scipy.stats import describe\n",
    "from typing import List, Dict\n",
    "import re\n",
    "from copy import deepcopy\n",
    "import pandas as pd\n",
    "\n",
    "from collections import defaultdict, Counter\n",
    "import matplotlib.pyplot as plt\n",
    "import numpy as np"
   ]
  },
  {
   "cell_type": "code",
   "execution_count": 2,
   "id": "91cededb",
   "metadata": {},
   "outputs": [
    {
     "data": {
      "text/plain": [
       "40"
      ]
     },
     "execution_count": 2,
     "metadata": {},
     "output_type": "execute_result"
    }
   ],
   "source": [
    "artworks = [\n",
    "    \"Mona Lisa\",\n",
    "    \"The Starry Night\",\n",
    "    \"The Persistence of Memory\",\n",
    "    \"Girl with a Pearl Earring\",\n",
    "    \"The Last Supper\",\n",
    "    \"Guernica\",\n",
    "    \"The Scream\",\n",
    "    \"American Gothic\",\n",
    "    \"The Night Watch\",\n",
    "    \"The Birth of Venus\",\n",
    "    \"The Kiss\",\n",
    "    \"The Arnolfini Portrait\",\n",
    "    \"Liberty Leading the People\",\n",
    "    \"The Garden of Earthly Delights\",\n",
    "    \"Las Meninas\",\n",
    "    \"Whistler's Mother\",\n",
    "    \"Impression, Sunrise\",\n",
    "    \"Nighthawks\",\n",
    "    \"The Great Wave off Kanagawa\",\n",
    "    \"A Sunday Afternoon on the Island of La Grande Jatte\"\n",
    "] + [\n",
    "    \"The Thinker\",\n",
    "    \"David\",\n",
    "    \"Venus de Milo\",\n",
    "    \"The Ecstasy of Saint Teresa\",\n",
    "    \"Nike of Samothrace\",\n",
    "    \"The Gates of Hell\",\n",
    "    \"Manneken Pis\",\n",
    "    \"Cloud Gate\",\n",
    "    \"Balloon Dog\",\n",
    "    \"Bird in Space\",\n",
    "    \"The Burghers of Calais\",\n",
    "    \"Love\",\n",
    "    \"Endless Column\",\n",
    "    \"Unique Forms of Continuity in Space\",\n",
    "    \"Fountain\",\n",
    "    \"Maman\",\n",
    "    \"Sky Mirror\",\n",
    "    \"The Beanery\",\n",
    "    \"Spiral Jetty\",\n",
    "    \"Vietnam Veterans Memorial\"\n",
    "]\n",
    "artworks = list(set(artworks))\n",
    "len(artworks)"
   ]
  },
  {
   "cell_type": "code",
   "execution_count": 3,
   "id": "64cc959d",
   "metadata": {},
   "outputs": [
    {
     "data": {
      "text/plain": [
       "40"
      ]
     },
     "execution_count": 3,
     "metadata": {},
     "output_type": "execute_result"
    }
   ],
   "source": [
    "books = [\n",
    "    \"To Kill a Mockingbird\",\n",
    "    \"1984\",\n",
    "    \"Pride and Prejudice\",\n",
    "    \"The Great Gatsby\",\n",
    "    \"Moby-Dick\",\n",
    "    \"War and Peace\",\n",
    "    \"The Catcher in the Rye\",\n",
    "    \"Jane Eyre\",\n",
    "    \"The Lord of the Rings\",\n",
    "    \"The Hobbit\",\n",
    "    \"Crime and Punishment\",\n",
    "    \"Brave New World\",\n",
    "    \"Wuthering Heights\",\n",
    "    \"Anna Karenina\",\n",
    "    \"The Brothers Karamazov\",\n",
    "    \"The Adventures of Huckleberry Finn\",\n",
    "    \"One Hundred Years of Solitude\",\n",
    "    \"The Picture of Dorian Gray\",\n",
    "    \"Great Expectations\",\n",
    "    \"Don Quixote\"\n",
    "] + [\n",
    "    \"The Chronicles of Narnia\",\n",
    "    \"Frankenstein\",\n",
    "    \"Dracula\",\n",
    "    \"Les Misérables\",\n",
    "    \"The Alchemist\",\n",
    "    \"The Count of Monte Cristo\",\n",
    "    \"The Old Man and the Sea\",\n",
    "    \"Slaughterhouse-Five\",\n",
    "    \"The Grapes of Wrath\",\n",
    "    \"The Bell Jar\",\n",
    "    \"A Tale of Two Cities\",\n",
    "    \"The Kite Runner\",\n",
    "    \"Life of Pi\",\n",
    "    \"The Road\",\n",
    "    \"Catch-22\",\n",
    "    \"The Stranger\",\n",
    "    \"Beloved\",\n",
    "    \"The Sound and the Fury\",\n",
    "    \"The Handmaid's Tale\",\n",
    "    \"The Name of the Rose\"\n",
    "]\n",
    "books = list(set(books))\n",
    "len(books)"
   ]
  },
  {
   "cell_type": "code",
   "execution_count": 4,
   "id": "698a160b",
   "metadata": {},
   "outputs": [
    {
     "data": {
      "text/plain": [
       "40"
      ]
     },
     "execution_count": 4,
     "metadata": {},
     "output_type": "execute_result"
    }
   ],
   "source": [
    "films = [\n",
    "    \"The Godfather\",                    # USA, Crime/Drama\n",
    "    \"Parasite\",                         # South Korea, Thriller/Drama\n",
    "    \"Spirited Away\",                    # Japan, Animation/Fantasy\n",
    "    \"City of God\",                      # Brazil, Crime/Drama\n",
    "    \"Pulp Fiction\",                     # USA, Crime/Drama\n",
    "    \"Amélie\",                           # France, Romantic Comedy\n",
    "    \"The Lion King\",                    # USA, Animation/Drama\n",
    "    \"Crouching Tiger, Hidden Dragon\",    # China, Action/Drama\n",
    "    \"The Intouchables\",                 # France, Drama/Comedy\n",
    "    \"Roma\",                             # Mexico, Drama\n",
    "    \"12 Angry Men\",                     # USA, Drama\n",
    "    \"Schindler's List\",                 # USA, Historical Drama\n",
    "    \"Pan's Labyrinth\",                  # Mexico/Spain, Fantasy/War\n",
    "    \"The Seventh Seal\",                 # Sweden, Drama/Fantasy\n",
    "    \"Oldboy\",                           # South Korea, Thriller/Action\n",
    "    \"Inception\",                        # USA, Sci-Fi/Thriller\n",
    "    \"The Godfather: Part II\",           # USA, Crime/Drama\n",
    "    \"Run Lola Run\",                     # Germany, Thriller/Action\n",
    "    \"La Dolce Vita\",                    # Italy, Drama\n",
    "    \"The Farewell\",                     # USA/China, Drama/Comedy\n",
    "] + [\n",
    "    \"Citizen Kane\",                     # USA, Drama/Mystery\n",
    "    \"Life is Beautiful\",                 # Italy, Comedy/Drama\n",
    "    \"The Dark Knight\",                   # USA, Action/Crime\n",
    "    \"The Matrix\",                        # USA, Sci-Fi/Action\n",
    "    \"A Separation\",                      # Iran, Drama\n",
    "    \"The Grand Budapest Hotel\",          # USA, Comedy/Drama\n",
    "    \"Memento\",                           # USA, Mystery/Thriller\n",
    "    \"The Battle of Algiers\",             # Algeria, War/Drama\n",
    "    \"Gladiator\",                         # USA, Action/Drama\n",
    "    \"The Shining\",                       # USA, Horror/Drama\n",
    "    \"The Pianist\",                       # France/Poland, Drama/Music\n",
    "    \"Moonlight\",                         # USA, Drama\n",
    "    \"Goodfellas\",                        # USA, Crime/Drama\n",
    "    \"The Green Mile\",                    # USA, Drama/Fantasy\n",
    "    \"The Matrix Reloaded\",               # USA, Sci-Fi/Action\n",
    "    \"Spartacus\",                         # USA, Historical/Drama\n",
    "    \"Taxi Driver\",                       # USA, Drama/Crime\n",
    "    \"Casablanca\",                        # USA, Romance/Drama\n",
    "    \"Birdman\",                           # USA, Drama/Comedy\n",
    "    \"Into the Wild\",                     # USA, Adventure/Drama\n",
    "]\n",
    "films = list(set(films))\n",
    "len(films)"
   ]
  },
  {
   "cell_type": "code",
   "execution_count": 5,
   "id": "b7046844",
   "metadata": {},
   "outputs": [
    {
     "data": {
      "text/plain": [
       "37"
      ]
     },
     "execution_count": 5,
     "metadata": {},
     "output_type": "execute_result"
    }
   ],
   "source": [
    "songs = [\n",
    "    \"Bohemian Rhapsody\",              # Queen, Rock\n",
    "    \"Imagine\",                        # John Lennon, Pop/Soft Rock\n",
    "    \"Despacito\",                      # Luis Fonsi ft. Daddy Yankee, Reggaeton/Pop\n",
    "    \"Like a Rolling Stone\",           # Bob Dylan, Rock/Folk\n",
    "    \"Shape of You\",                   # Ed Sheeran, Pop\n",
    "    \"Billie Jean\",                    # Michael Jackson, Pop\n",
    "    \"Ode to Joy\",                     # Ludwig van Beethoven, Classical\n",
    "    \"Gangnam Style\",                  # Psy, K-pop/Pop\n",
    "    \"What's Going On\",                # Marvin Gaye, Soul/R&B\n",
    "    \"Hallelujah\",                     # Leonard Cohen, Folk/Rock\n",
    "    \"Smells Like Teen Spirit\",        # Nirvana, Grunge/Rock\n",
    "    \"Africa\",                         # Toto, Rock/Pop\n",
    "    \"Creep\",                          # Radiohead, Alternative Rock\n",
    "    \"No Woman, No Cry\",               # Bob Marley, Reggae\n",
    "    \"La Bamba\",                       # Ritchie Valens, Rock/Latin\n",
    "    \"My Heart Will Go On\",            # Celine Dion, Pop/Film Soundtrack\n",
    "    \"Formation\",                      # Beyoncé, R&B/Pop\n",
    "    \"Stairway to Heaven\",             # Led Zeppelin, Rock\n",
    "    \"Desire\",                         # U2, Rock\n",
    "    \"Take Five\",                      # Dave Brubeck, Jazz\n",
    "] + [\n",
    "    \"Respect\",                         # Aretha Franklin, Soul/R&B\n",
    "    \"Rolling in the Deep\",             # Adele, Pop/Soul\n",
    "    \"What a Wonderful World\",          # Louis Armstrong, Jazz/Pop\n",
    "    \"Purple Haze\",                     # Jimi Hendrix, Rock\n",
    "    \"One Love\",                        # Bob Marley, Reggae\n",
    "    \"I Will Always Love You\",          # Whitney Houston, Pop/R&B\n",
    "    \"Sweet Child O' Mine\",             # Guns N' Roses, Rock\n",
    "    \"Blinding Lights\",                 # The Weeknd, Pop\n",
    "    \"Superstition\",                    # Stevie Wonder, Funk/Soul\n",
    "    \"Lose Yourself\",                   # Eminem, Hip-Hop/Rap\n",
    "    \"Ain't No Mountain High Enough\",   # Marvin Gaye & Tammi Terrell, Soul\n",
    "    \"Rolling Stone\",                   # The Rolling Stones, Rock\n",
    "    \"Hey Jude\",                        # The Beatles, Rock/Pop\n",
    "    \"Smells Like Teen Spirit\",         # Nirvana, Grunge/Rock\n",
    "    \"Viva La Vida\",                    # Coldplay, Pop/Rock\n",
    "    \"Bohemian Rhapsody\",               # Queen, Rock\n",
    "    \"Toxic\",                           # Britney Spears, Pop\n",
    "    \"Eye of the Tiger\",                # Survivor, Rock\n",
    "    \"Uptown Funk\",                     # Mark Ronson ft. Bruno Mars, Funk/Pop\n",
    "]\n",
    "songs = list(set(songs))\n",
    "len(songs)"
   ]
  },
  {
   "cell_type": "code",
   "execution_count": 6,
   "id": "310fb5e8",
   "metadata": {},
   "outputs": [
    {
     "data": {
      "text/plain": [
       "40"
      ]
     },
     "execution_count": 6,
     "metadata": {},
     "output_type": "execute_result"
    }
   ],
   "source": [
    "companies = [\n",
    "    \"Apple\",                           # USA, Technology\n",
    "    \"Samsung\",                         # South Korea, Electronics\n",
    "    \"Toyota\",                          # Japan, Automotive\n",
    "    \"Nike\",                            # USA, Apparel/Footwear\n",
    "    \"Alibaba\",                         # China, E-commerce/Technology\n",
    "    \"Google\",                          # USA, Technology\n",
    "    \"Amazon\",                          # USA, E-commerce/Technology\n",
    "    \"Tesla\",                           # USA, Automotive/Technology\n",
    "    \"BMW\",                             # Germany, Automotive\n",
    "    \"Coca-Cola\",                       # USA, Beverages\n",
    "    \"Microsoft\",                       # USA, Technology\n",
    "    \"Nestlé\",                          # Switzerland, Food & Beverage\n",
    "    \"Sony\",                            # Japan, Electronics/Entertainment\n",
    "    \"Walmart\",                         # USA, Retail\n",
    "    \"Huawei\",                          # China, Telecommunications/Technology\n",
    "    \"McDonald's\",                      # USA, Fast Food\n",
    "    \"Disney\",                          # USA, Entertainment\n",
    "    \"Volkswagen\",                      # Germany, Automotive\n",
    "    \"Unilever\",                        # UK/Netherlands, Consumer Goods\n",
    "    \"Starbucks\",                       # USA, Coffeehouse Chain\n",
    "] + [\n",
    "    \"Facebook\",                        # USA, Social Media/Technology\n",
    "    \"PepsiCo\",                         # USA, Food & Beverage\n",
    "    \"Intel\",                           # USA, Technology\n",
    "    \"Airbnb\",                          # USA, Technology/Hospitality\n",
    "    \"L'Oréal\",                         # France, Cosmetics\n",
    "    \"LinkedIn\",                        # USA, Social Media/Technology\n",
    "    \"Uber\",                            # USA, Technology/Transportation\n",
    "    \"Johnson & Johnson\",               # USA, Healthcare\n",
    "    \"Spotify\",                         # Sweden, Technology/Entertainment\n",
    "    \"Bayer\",                           # Germany, Pharmaceuticals\n",
    "    \"Netflix\",                         # USA, Entertainment/Technology\n",
    "    \"Shell\",                           # Netherlands/UK, Energy\n",
    "    \"General Electric\",                # USA, Conglomerate/Technology\n",
    "    \"Siemens\",                         # Germany, Engineering/Technology\n",
    "    \"Dell Technologies\",               # USA, Technology\n",
    "    \"Volkswagen Group\",                # Germany, Automotive\n",
    "    \"Ford\",                            # USA, Automotive\n",
    "    \"H&M\",                             # Sweden, Retail/Fashion\n",
    "    \"Walt Disney Company\",             # USA, Entertainment\n",
    "    \"Zara\",                            # Spain, Retail/Fashion\n",
    "]\n",
    "companies = list(set(companies))\n",
    "len(companies)"
   ]
  },
  {
   "cell_type": "code",
   "execution_count": 7,
   "id": "2c8b74e6",
   "metadata": {},
   "outputs": [
    {
     "data": {
      "text/plain": [
       "40"
      ]
     },
     "execution_count": 7,
     "metadata": {},
     "output_type": "execute_result"
    }
   ],
   "source": [
    "non_profit_organizations = [\n",
    "    \"Red Cross\",                       # International, Humanitarian\n",
    "    \"Doctors Without Borders\",         # International, Healthcare\n",
    "    \"Amnesty International\",           # International, Human Rights\n",
    "    \"World Wildlife Fund\",       # International, Environmental\n",
    "    \"UNICEF\",                          # International, Child Advocacy\n",
    "    \"Oxfam\",                           # International, Poverty Relief\n",
    "    \"Greenpeace\",                      # International, Environmental\n",
    "    \"Habitat for Humanity\",            # USA/International, Housing\n",
    "    \"World Food Programme\",            # International, Hunger Relief\n",
    "    \"The Nature Conservancy\",          # USA/International, Environmental\n",
    "    \"Save the Children\",               # International, Child Welfare\n",
    "    \"Human Rights Watch\",              # International, Human Rights\n",
    "    \"The Salvation Army\",              # International, Social Services\n",
    "    \"International Red Crescent\",      # International, Humanitarian\n",
    "    \"Charity: Water\",                  # USA/International, Clean Water\n",
    "    \"The Humane Society\",              # USA, Animal Rights\n",
    "    \"PETA\",                            # USA, Animal Rights\n",
    "    \"Global Fund for Women\",           # International, Gender Equality\n",
    "    \"Bill & Melinda Gates Foundation\", # USA, Global Health/Development\n",
    "    \"World Health Organization\", # International, Healthcare\n",
    "] + [\n",
    "    \"The Red Crescent\",               # International, Humanitarian\n",
    "    \"The Carter Center\",              # USA, Peace and Health\n",
    "    \"World Vision\",                   # International, Child Advocacy/Poverty Relief\n",
    "    \"CARE\",                           # International, Humanitarian Aid\n",
    "    \"Rainforest Alliance\",            # International, Environmental\n",
    "    \"National Public Radio\",    # USA, Media/News\n",
    "    \"Big Brothers Big Sisters\",       # USA, Mentorship/Social Services\n",
    "    \"The ACLU\",                       # USA, Civil Liberties\n",
    "    \"Friends of the Earth\",           # International, Environmental\n",
    "    \"Lymphoma Research Foundation\",   # USA, Healthcare/Research\n",
    "    \"The Ford Foundation\",            # USA, Social Justice\n",
    "    \"The American Cancer Society\",    # USA, Healthcare/Research\n",
    "    \"The Rotary Foundation\",          # International, Community Development\n",
    "    \"Teach for America\",              # USA, Education\n",
    "    \"Doctors for Africa\",             # Africa, Healthcare\n",
    "    \"The Global Alliance for Clean Cookstoves\",  # International, Environmental/Health\n",
    "    \"Bridges to Prosperity\",          # International, Infrastructure/Development\n",
    "    \"Tearfund\",                       # International, Poverty Relief/Christian\n",
    "    \"Boys & Girls Clubs of America\",  # USA, Youth Development\n",
    "    \"Médecins Sans Frontières\", # International, Healthcare\n",
    "]\n",
    "non_profit_organizations = list(set(non_profit_organizations))\n",
    "len(non_profit_organizations)"
   ]
  },
  {
   "cell_type": "code",
   "execution_count": 8,
   "id": "36f13b84",
   "metadata": {},
   "outputs": [
    {
     "data": {
      "text/plain": [
       "39"
      ]
     },
     "execution_count": 8,
     "metadata": {},
     "output_type": "execute_result"
    }
   ],
   "source": [
    "languages = [\n",
    "    \"English\",                # Widely spoken worldwide, official language in many countries\n",
    "    \"Mandarin Chinese\",       # Most spoken language in the world (China)\n",
    "    \"Spanish\",                # Spoken widely in Spain, Latin America, and parts of the USA\n",
    "    \"Hindi\",                  # Widely spoken in India and Nepal\n",
    "    \"Arabic\",                 # Spoken in many countries in the Middle East and North Africa\n",
    "    \"French\",                 # Spoken in France, parts of Canada, and many African countries\n",
    "    \"Bengali\",                # Spoken in Bangladesh and parts of India\n",
    "    \"Russian\",                # Spoken in Russia and many former Soviet states\n",
    "    \"Portuguese\",             # Spoken in Portugal, Brazil, and parts of Africa\n",
    "    \"Japanese\",               # Spoken primarily in Japan\n",
    "    \"Punjabi\",                # Spoken in India and Pakistan\n",
    "    \"German\",                 # Spoken in Germany, Austria, Switzerland\n",
    "    \"Italian\",                # Spoken in Italy and parts of Switzerland\n",
    "    \"Turkish\",                # Spoken in Turkey and Cyprus\n",
    "    \"Korean\",                 # Spoken in South and North Korea\n",
    "    \"Vietnamese\",             # Spoken in Vietnam\n",
    "    \"Telugu\",                 # Spoken in India\n",
    "    \"Tamil\",                  # Spoken in India and Sri Lanka\n",
    "    \"Swahili\",                # Spoken in East Africa, including Kenya, Tanzania, and parts of other countries\n",
    "] + [\n",
    "    \"Malay\",                   # Spoken in Malaysia, Singapore, and parts of Indonesia\n",
    "    \"Haitian Creole\",          # Spoken in Haiti\n",
    "    \"Thai\",                    # Spoken in Thailand\n",
    "    \"Persian (Farsi)\",         # Spoken in Iran, Afghanistan, and Tajikistan\n",
    "    \"Dutch\",                   # Spoken in the Netherlands, Belgium, and Suriname\n",
    "    \"Greek\",                   # Spoken in Greece and Cyprus\n",
    "    \"Hebrew\",                  # Spoken in Israel\n",
    "    \"Swedish\",                 # Spoken in Sweden and parts of Finland\n",
    "    \"Cantonese\",               # Spoken in Hong Kong, parts of China, and overseas Chinese communities\n",
    "    \"Polish\",                  # Spoken in Poland\n",
    "    \"Romanian\",                # Spoken in Romania and Moldova\n",
    "    \"Ukrainian\",               # Spoken in Ukraine\n",
    "    \"Malayalam\",               # Spoken in Kerala, India\n",
    "    \"Serbian\",                 # Spoken in Serbia and parts of surrounding countries\n",
    "    \"Gujarati\",                # Spoken in Gujarat, India\n",
    "    \"Kazakh\",                  # Spoken in Kazakhstan\n",
    "    \"Nepali\",                  # Spoken in Nepal and parts of India\n",
    "    \"Sinhala\",                 # Spoken in Sri Lanka\n",
    "    \"Burmese\",                 # Spoken in Myanmar (Burma)\n",
    "    \"Afrikaans\",               # Spoken in South Africa and Namibia\n",
    "]\n",
    "languages = list(set(languages))\n",
    "len(languages)"
   ]
  },
  {
   "cell_type": "code",
   "execution_count": 9,
   "id": "d63757ba",
   "metadata": {},
   "outputs": [
    {
     "data": {
      "text/plain": [
       "37"
      ]
     },
     "execution_count": 9,
     "metadata": {},
     "output_type": "execute_result"
    }
   ],
   "source": [
    "universities = [\n",
    "    \"Harvard University\",             # USA\n",
    "    \"University of Oxford\",           # UK\n",
    "    \"Stanford University\",            # USA\n",
    "    \"University of Cambridge\",        # UK\n",
    "    \"Massachusetts Institute of Technology\",  # USA\n",
    "    \"California Institute of Technology\", # USA\n",
    "    \"University of Tokyo\",            # Japan\n",
    "    \"ETH Zurich\",                     # Switzerland\n",
    "    \"University of Melbourne\",        # Australia\n",
    "    \"Tsinghua University\",            # China\n",
    "    \"Princeton University\",           # USA\n",
    "    \"Yale University\",                # USA\n",
    "    \"University of Chicago\",          # USA\n",
    "    \"University of Paris\", # France\n",
    "    \"University of Toronto\",          # Canada\n",
    "    \"Imperial College London\",        # UK\n",
    "    \"Peking University\",              # China\n",
    "    \"University of Cape Town\",        # South Africa\n",
    "    \"University of São Paulo\",       # Brazil\n",
    "    \"Indian Institute of Technology Bombay\", # India\n",
    "] + [\n",
    "    \"Columbia University\",            # USA\n",
    "    \"University of California, Berkeley\", # USA\n",
    "    \"University of Melbourne\",        # Australia\n",
    "    \"Swiss Federal Institute of Technology\", # Switzerland\n",
    "    \"University of Hong Kong\",        # Hong Kong\n",
    "    \"University of Edinburgh\",        # UK\n",
    "    \"University of California, Los Angeles\",  # USA\n",
    "    \"University of Michigan\",         # USA\n",
    "    \"National University of Singapore\", # Singapore\n",
    "    \"University of Amsterdam\",        # Netherlands\n",
    "    \"University of Sydney\",           # Australia\n",
    "    \"Seoul National University\",      # South Korea\n",
    "    \"University of Delhi\",            # India\n",
    "    \"McGill University\",              # Canada\n",
    "    \"University of Buenos Aires\",     # Argentina\n",
    "    \"Australian National University\", # Australia\n",
    "    \"Purdue University\",              # USA\n",
    "    \"Lund University\",                # Sweden\n",
    "    \"University of Cape Town\",        # South Africa\n",
    "    \"University of São Paulo\",       # Brazil\n",
    "]\n",
    "universities = list(set(universities))\n",
    "len(universities)"
   ]
  },
  {
   "cell_type": "code",
   "execution_count": 10,
   "id": "13c76ae0",
   "metadata": {},
   "outputs": [
    {
     "data": {
      "text/plain": [
       "106"
      ]
     },
     "execution_count": 10,
     "metadata": {},
     "output_type": "execute_result"
    }
   ],
   "source": [
    "historical_events = [\n",
    "    \"Fall of the Roman Empire\",\n",
    "    \"Signing of the Magna Carta\",\n",
    "    \"Black Death\",\n",
    "    \"Fall of Constantinople\",\n",
    "    \"Columbus Reaches the Americas\",\n",
    "    \"Protestant Reformation\",\n",
    "    \"Defeat of the Spanish Armada\",\n",
    "    \"English Civil War\",\n",
    "    \"American Revolution\",\n",
    "    \"French Revolution\",\n",
    "    \"Industrial Revolution\",\n",
    "    \"Napoleonic Wars\",\n",
    "    \"American Civil War\",\n",
    "    \"Abolition of Slavery in the US\",\n",
    "    \"World War I\",\n",
    "    \"Russian Revolution\",\n",
    "    \"Great Depression\",\n",
    "    \"World War II\",\n",
    "    \"Civil Rights Movement\",\n",
    "    \"Moon Landing\"\n",
    "] + [\n",
    "    \"The Rise of the Mongol Empire\",\n",
    "    \"The Viking Invasions\",\n",
    "    \"The Reign of Alexander the Great\",\n",
    "    \"The Battle of Hastings\",\n",
    "    \"The Renaissance\",\n",
    "    \"The Invention of the Printing Press\",\n",
    "    \"The Spanish Conquest of the Aztecs\",\n",
    "    \"The Rise of Nazi Germany\",\n",
    "    \"The Cuban Missile Crisis\",\n",
    "    \"The Vietnam War\",\n",
    "    \"The Cold War\",\n",
    "    \"The Berlin Wall Construction\",\n",
    "    \"The Sinking of the Titanic\",\n",
    "    \"The Korean War\",\n",
    "    \"The Collapse of the Soviet Union\",\n",
    "    \"The 9/11 Attacks\",\n",
    "    \"The End of Apartheid in South Africa\"\n",
    "] + [\n",
    "    \"The Assassination of Julius Caesar\",\n",
    "    \"The Trial of Galileo\",\n",
    "    \"The Industrial Revolution in Britain\",\n",
    "    \"The French and Indian War\",\n",
    "    \"The Opium Wars\",\n",
    "    \"The Taiping Rebellion\",\n",
    "    \"The Battle of Waterloo\",\n",
    "    \"The Sepoy Rebellion\",\n",
    "    \"The Founding of the United Nations\",\n",
    "    \"The Boston Tea Party\",\n",
    "    \"The Haitian Revolution\",\n",
    "    \"The Discovery of Penicillin\",\n",
    "    \"The D-Day Invasion\",\n",
    "    \"The Signing of the Treaty of Versailles\",\n",
    "    \"The Great Fire of London\",\n",
    "    \"The California Gold Rush\",\n",
    "    \"The Establishment of the European Union\",\n",
    "    \"The Rise of the Ottoman Empire\",\n",
    "    \"The Discovery of America by Leif Erikson\",\n",
    "    \"The Surrender of Japan in WWII\"\n",
    "] + [\n",
    "    \"The Founding of Rome\",\n",
    "    \"The Construction of the Great Wall of China\",\n",
    "    \"The Treaty of Tordesillas\",\n",
    "    \"The Trial of Socrates\",\n",
    "    \"The Establishment of the Ming Dynasty\",\n",
    "    \"The Burning of the Library of Alexandria\",\n",
    "    \"The Siege of Jerusalem (70 AD)\",\n",
    "    \"The Battle of Thermopylae\",\n",
    "    \"The Discovery of the New World by the Vikings\",\n",
    "    \"The Formation of the League of Nations\",\n",
    "    \"The Rise of the Aztec Empire\",\n",
    "    \"The Signing of the Declaration of Independence (USA)\",\n",
    "    \"The Creation of the European Common Market\",\n",
    "    \"The Fall of the Berlin Wall\",\n",
    "    \"The Establishment of the People's Republic of China\",\n",
    "    \"The Beginning of the Cold War\",\n",
    "    \"The Partition of India and Pakistan\",\n",
    "    \"The Assassination of Archduke Franz Ferdinand\",\n",
    "] + [\n",
    "    \"The Signing of the Treaty of Paris (1783)\",\n",
    "    \"The Reign of Charlemagne\",\n",
    "    \"The Discovery of America by Christopher Columbus\",\n",
    "    \"The Battle of Gettysburg\",\n",
    "    \"The Assassination of John F. Kennedy\",\n",
    "    \"The Invention of the Telegraph\",\n",
    "    \"The Execution of King Louis XVI\",\n",
    "    \"The Building of the Pyramids of Egypt\",\n",
    "    \"The First Crusade\",\n",
    "    \"The Emancipation Proclamation\",\n",
    "    \"The Invention of the Steam Engine\",\n",
    "    \"The Storming of the Bastille\",\n",
    "    \"The Launch of Sputnik 1\",\n",
    "    \"The Launch of the Internet\",\n",
    "    \"The Founding of the United States of America\"\n",
    "] + [\n",
    "    \"The Discovery of the Dead Sea Scrolls\",\n",
    "    \"The Construction of the Parthenon\",\n",
    "    \"The Execution of Marie Antoinette\",\n",
    "    \"The Invention of the Airplane\",\n",
    "    \"The Berlin Airlift\",\n",
    "    \"The Battle of Stalingrad\",\n",
    "    \"The Battle of Midway\",\n",
    "    \"The Cuban Revolution\",\n",
    "    \"The End of the Mongol Empire\",\n",
    "    \"The Treaty of Westphalia\",\n",
    "    \"The Formation of the British Empire\",\n",
    "    \"The Great Schism\",\n",
    "    \"The Founding of the Republic of South Africa\",\n",
    "    \"The Sinking of the Lusitania\",\n",
    "    \"The Montgomery Bus Boycott\",\n",
    "    \"The Creation of the Internet\"\n",
    "]\n",
    "historical_events = list(set(historical_events))\n",
    "len(historical_events)"
   ]
  },
  {
   "cell_type": "code",
   "execution_count": 11,
   "id": "e2ee3579",
   "metadata": {},
   "outputs": [
    {
     "data": {
      "text/plain": [
       "93"
      ]
     },
     "execution_count": 11,
     "metadata": {},
     "output_type": "execute_result"
    }
   ],
   "source": [
    "species = [\n",
    "    \"African Elephant\",               # Mammal, Africa\n",
    "    \"Bald Eagle\",                     # Bird, North America\n",
    "    \"Great White Shark\",              # Fish, Global\n",
    "    \"King Cobra\",                     # Reptile, Asia\n",
    "    \"Giant Panda\",                    # Mammal, China\n",
    "    \"Blue Whale\",                     # Mammal, Global Oceans\n",
    "    \"Komodo Dragon\",                  # Reptile, Indonesia\n",
    "    \"Lion\",                           # Mammal, Africa\n",
    "    \"Kangaroo\",                       # Mammal, Australia\n",
    "    \"Polar Bear\",                     # Mammal, Arctic\n",
    "    \"Green Sea Turtle\",               # Reptile, Oceans\n",
    "    \"Red Panda\",                      # Mammal, Asia\n",
    "    \"Snow Leopard\",                   # Mammal, Asia\n",
    "    \"Cheetah\",                        # Mammal, Africa\n",
    "    \"Humpback Whale\",                 # Mammal, Oceans\n",
    "    \"Orangutan\",                      # Mammal, Southeast Asia\n",
    "    \"Penguin\",                        # Bird, Antarctica\n",
    "    \"Zebra\",                          # Mammal, Africa\n",
    "    \"Tiger\",                          # Mammal, Asia\n",
    "    \"Giraffe\",                        # Mammal, Africa\n",
    "] + [\n",
    "    \"Jaguar\",                         # Mammal, South America\n",
    "    \"Panda\",                          # Mammal, China\n",
    "    \"Gorilla\",                        # Mammal, Africa\n",
    "    \"Crocodile\",                      # Reptile, Global\n",
    "    \"Vulture\",                        # Bird, Global\n",
    "    \"Rhinoceros\",                     # Mammal, Africa/Asia\n",
    "    \"Octopus\",                        # Marine, Global Oceans\n",
    "    \"Chameleon\",                      # Reptile, Africa/Asia\n",
    "    \"Wolf\",                           # Mammal, North America/Europe\n",
    "    \"Moose\",                          # Mammal, North America\n",
    "    \"Hippopotamus\",                   # Mammal, Africa\n",
    "    \"Caiman\",                         # Reptile, South America\n",
    "    \"Whale Shark\",                    # Fish, Oceans\n",
    "    \"Albatross\",                      # Bird, Oceans\n",
    "    \"Sloth\",                          # Mammal, South America\n",
    "    \"Hedgehog\",                       # Mammal, Europe/Asia\n",
    "    \"Peacock\",                        # Bird, Asia\n",
    "    \"Bison\",                          # Mammal, North America\n",
    "    \"Pufferfish\",                     # Fish, Oceans\n",
    "    \"Gibbon\",                         # Mammal, Southeast Asia\n",
    "] + [\n",
    "    \"Elephant Seal\",                  # Mammal, Oceans\n",
    "    \"Red Fox\",                        # Mammal, Global\n",
    "    \"Puma\",                           # Mammal, Americas\n",
    "    \"Cheetah\",                        # Mammal, Africa\n",
    "    \"Emperor Penguin\",                # Bird, Antarctica\n",
    "    \"Mountain Gorilla\",               # Mammal, Africa\n",
    "    \"Mantis Shrimp\",                  # Marine, Oceans\n",
    "    \"Cuttlefish\",                     # Marine, Oceans\n",
    "    \"Dolphin\",                        # Marine Mammal, Global Oceans\n",
    "    \"Snowy Owl\",                      # Bird, North America/Europe\n",
    "    \"Axolotl\",                        # Amphibian, Mexico\n",
    "    \"Lynx\",                           # Mammal, North America/Europe\n",
    "    \"Wolverine\",                      # Mammal, North America/Asia\n",
    "    \"Caiman Lizard\",                  # Reptile, South America\n",
    "    \"Andean Condor\",                  # Bird, South America\n",
    "    \"Siberian Tiger\",                 # Mammal, Asia\n",
    "    \"Great Horned Owl\",               # Bird, Americas\n",
    "    \"Raccoon\",                         # Mammal, North America\n",
    "    \"Praying Mantis\",                 # Insect, Global\n",
    "    \"Giant Clam\",                     # Marine, Oceans\n",
    "] + [\n",
    "    \"Arctic Fox\",                    # Mammal, Arctic\n",
    "    \"Siberian Husky\",                 # Mammal, North America/Asia\n",
    "    \"Mandrill\",                       # Mammal, Africa\n",
    "    \"Spotted Hyena\",                  # Mammal, Africa\n",
    "    \"American Alligator\",             # Reptile, North America\n",
    "    \"Harpy Eagle\",                    # Bird, Central/South America\n",
    "    \"Great Barrier Reef Clownfish\",   # Fish, Australia\n",
    "    \"Tasmanian Devil\",                # Mammal, Australia\n",
    "    \"Pangolin\",                       # Mammal, Africa/Asia\n",
    "    \"Komodo Dragon\",                  # Reptile, Indonesia\n",
    "    \"Bald Ibis\",                      # Bird, North Africa/Middle East\n",
    "    \"Okapi\",                          # Mammal, Central Africa\n",
    "    \"Kea\",                            # Bird, New Zealand\n",
    "    \"Wolverine\",                      # Mammal, North America/Asia\n",
    "    \"Nile Crocodile\",                 # Reptile, Africa\n",
    "    \"Saiga Antelope\",                 # Mammal, Central Asia\n",
    "    \"Platypus\",                       # Mammal, Australia\n",
    "    \"Pygmy Hippo\",                    # Mammal, West Africa\n",
    "    \"Vervet Monkey\",                  # Mammal, Africa\n",
    "    \"Fossa\",                          # Mammal, Madagascar\n",
    "] + [\n",
    "    \"African Wild Dog\",              # Mammal, Africa\n",
    "    \"Bengal Tiger\",                  # Mammal, India/Bangladesh\n",
    "    \"Axolotl\",                       # Amphibian, Mexico\n",
    "    \"Giant Anteater\",                # Mammal, South America\n",
    "    \"Zebu\",                          # Mammal, South Asia/Africa\n",
    "    \"Wildebeest\",                    # Mammal, Africa\n",
    "    \"Red-shouldered Hawk\",           # Bird, North America\n",
    "    \"Cuttlefish\",                    # Marine, Oceans\n",
    "    \"Seahorse\",                      # Marine, Oceans\n",
    "    \"Snow Leopard\",                  # Mammal, Asia\n",
    "    \"Pygmy Marmoset\",                # Mammal, South America\n",
    "    \"Swan\",                          # Bird, Global\n",
    "    \"Marmot\",                        # Mammal, North America/Europe\n",
    "    \"African Grey Parrot\",           # Bird, Central Africa\n",
    "    \"Quokka\",                        # Mammal, Australia\n",
    "    \"Indian Star Tortoise\",          # Reptile, India/Sri Lanka\n",
    "    \"California Condor\",             # Bird, North America\n",
    "    \"Orca\",                          # Marine Mammal, Global Oceans\n",
    "    \"Mandrill\",                      # Mammal, Central Africa\n",
    "    \"Red-Eyed Tree Frog\"             # Amphibian, Central America\n",
    "]\n",
    "species = list(set(species))\n",
    "species = [s.lower() for s in species]\n",
    "len(species)"
   ]
  },
  {
   "cell_type": "code",
   "execution_count": 12,
   "id": "b2063f65",
   "metadata": {},
   "outputs": [
    {
     "data": {
      "text/plain": [
       "97"
      ]
     },
     "execution_count": 12,
     "metadata": {},
     "output_type": "execute_result"
    }
   ],
   "source": [
    "historical_figures = [\n",
    "    \"Albert Einstein\",             # Physicist, Germany/USA\n",
    "    \"Mahatma Gandhi\",              # Leader, India\n",
    "    \"Leonardo da Vinci\",           # Artist/Inventor, Italy\n",
    "    \"Nelson Mandela\",              # Political Leader, South Africa\n",
    "    \"Marie Curie\",                 # Scientist, Poland/France\n",
    "    \"Winston Churchill\",           # Politician, UK\n",
    "    \"Cleopatra\",                   # Queen, Egypt\n",
    "    \"Martin Luther King Jr.\",      # Civil Rights Leader, USA\n",
    "    \"Socrates\",                    # Philosopher, Greece\n",
    "    \"William Shakespeare\",         # Playwright, England\n",
    "    \"Abraham Lincoln\",             # Politician, USA\n",
    "    \"Rosa Parks\",                  # Civil Rights Activist, USA\n",
    "    \"Charles Darwin\",              # Scientist, UK\n",
    "    \"Alexander the Great\",         # Conqueror, Ancient Macedonia\n",
    "    \"Frida Kahlo\",                 # Artist, Mexico\n",
    "    \"Julius Caesar\",               # Military Leader, Ancient Rome\n",
    "    \"Cleopatra VII\",               # Queen, Egypt\n",
    "    \"Mao Zedong\",                  # Political Leader, China\n",
    "    \"Queen Victoria\",              # Monarch, UK\n",
    "    \"Isaac Newton\",                # Scientist, UK\n",
    "] + [\n",
    "    \"JFK (John F. Kennedy)\",           # Politician, USA\n",
    "    \"Joan of Arc\",                    # Military Leader, France\n",
    "    \"Pablo Picasso\",                  # Artist, Spain\n",
    "    \"Genghis Khan\",                   # Conqueror, Mongolia\n",
    "    \"Moses\",                          # Religious Leader, Ancient Israel\n",
    "    \"Nelson Mandela\",                 # Political Leader, South Africa\n",
    "    \"Thomas Edison\",                  # Inventor, USA\n",
    "    \"Cleopatra VII\",                  # Queen, Egypt\n",
    "    \"Vladimir Lenin\",                 # Political Leader, Russia\n",
    "    \"Florence Nightingale\",           # Nurse, UK\n",
    "    \"Ada Lovelace\",                   # Mathematician, UK\n",
    "    \"Buddha (Siddhartha Gautama)\",    # Religious Leader, India\n",
    "    \"Alexander Hamilton\",             # Founding Father, USA\n",
    "    \"Vera Wang\",                      # Fashion Designer, USA\n",
    "    \"Marie Antoinette\",               # Queen, France\n",
    "    \"Napoleon Bonaparte\",             # Military Leader, France\n",
    "    \"Emmeline Pankhurst\",             # Suffragette, UK\n",
    "    \"Albert Schweitzer\",              # Philosopher/Physician, France/Germany\n",
    "    \"Hannibal Barca\",                 # Military Commander, Carthage\n",
    "    \"Wright Brothers\",                # Inventors, USA\n",
    "] + [\n",
    "    \"Confucius\",                     # Philosopher, China\n",
    "    \"Theodore Roosevelt\",             # Politician, USA\n",
    "    \"Che Guevara\",                   # Revolutionary, Argentina/Cuba\n",
    "    \"Guglielmo Marconi\",              # Inventor, Italy\n",
    "    \"Charles Dickens\",                # Writer, UK\n",
    "    \"Hedy Lamarr\",                    # Actress/Inventor, Austria/USA\n",
    "    \"Benjamin Franklin\",              # Founding Father, USA\n",
    "    \"Sigmund Freud\",                  # Psychoanalyst, Austria\n",
    "    \"Mahatma Gandhi\",                 # Political Leader, India\n",
    "    \"Henry VIII\",                     # Monarch, England\n",
    "    \"Marco Polo\",                     # Explorer, Italy\n",
    "    \"Susan B. Anthony\",               # Women's Rights Activist, USA\n",
    "    \"Malala Yousafzai\",               # Education Activist, Pakistan\n",
    "    \"Simón Bolívar\",                  # Revolutionary Leader, South America\n",
    "    \"Catherine the Great\",            # Monarch, Russia\n",
    "    \"Vincent van Gogh\",               # Artist, Netherlands\n",
    "    \"William Wallace\",                # Military Leader, Scotland\n",
    "    \"Sally Ride\",                     # Astronaut, USA\n",
    "    \"Langston Hughes\",                # Poet, USA\n",
    "    \"Ramses II\",                      # Pharaoh, Egypt\n",
    "] + [\n",
    "    \"Leonardo da Vinci\",              # Renaissance polymath, Italy\n",
    "    \"Wright Brothers\",                # Inventors, USA\n",
    "    \"Laozi (Lao Tzu)\",                # Philosopher, China\n",
    "    \"John Locke\",                     # Philosopher, England\n",
    "    \"Pablo Neruda\",                   # Poet, Chile\n",
    "    \"Mikhail Gorbachev\",              # Political Leader, USSR\n",
    "    \"Florence Nightingale\",           # Nurse, UK\n",
    "    \"Indira Gandhi\",                  # Political Leader, India\n",
    "    \"Karl Marx\",                      # Philosopher, Germany\n",
    "    \"Sun Tzu\",                        # Military Strategist, China\n",
    "    \"Mark Twain\",                     # Writer, USA\n",
    "    \"Albert Einstein\",                # Physicist, Germany/USA\n",
    "    \"Nelson Mandela\",                 # Political Leader, South Africa\n",
    "    \"Helen Keller\",                   # Activist, USA\n",
    "    \"Coco Chanel\",                    # Fashion Designer, France\n",
    "    \"Tupac Shakur\",                   # Musician, USA\n",
    "    \"Michael Jackson\",                # Musician, USA\n",
    "    \"Jackie Robinson\",                # Athlete, USA\n",
    "    \"Rosa Parks\",                     # Civil Rights Activist, USA\n",
    "    \"Elvis Presley\",                  # Musician, USA\n",
    "] + [\n",
    "    \"Isaac Newton\",\n",
    "    \"Cleopatra\",\n",
    "    \"George Washington\",\n",
    "    \"Socrates\",\n",
    "    \"Catherine the Great\",\n",
    "    \"William Shakespeare\",\n",
    "    \"Confucius\",\n",
    "    \"Marie Antoinette\",\n",
    "    \"Nelson Mandela\",\n",
    "    \"Homer\",\n",
    "    \"Machiavelli\",\n",
    "    \"Franklin D. Roosevelt\",\n",
    "    \"Genghis Khan\",\n",
    "    \"William the Conqueror\",\n",
    "    \"Vladimir Lenin\",\n",
    "    \"Pablo Picasso\",\n",
    "    \"Moses\",\n",
    "    \"Charles de Gaulle\",\n",
    "    \"Queen Victoria\",\n",
    "    \"Vincent van Gogh\"\n",
    "] + [\n",
    "    \"Plato\",\n",
    "    \"Benjamin Franklin\",\n",
    "    \"Alexander Hamilton\",\n",
    "    \"Marco Polo\",\n",
    "    \"Mother Teresa\",\n",
    "    \"Gandhi\",\n",
    "    \"Louis Pasteur\",\n",
    "    \"Mahatma Gandhi\",\n",
    "    \"Florence Nightingale\",\n",
    "    \"Abraham Lincoln\",\n",
    "    \"Nelson Mandela\",\n",
    "    \"Fidel Castro\",\n",
    "    \"Che Guevara\",\n",
    "    \"Aristotle\",\n",
    "    \"Napoleon Bonaparte\",\n",
    "    \"Henry VIII\",\n",
    "    \"Thomas Jefferson\",\n",
    "    \"JFK (John F. Kennedy)\",\n",
    "    \"Tudors\",\n",
    "    \"Helen Keller\"\n",
    "] + [\n",
    "    \"Guglielmo Marconi\",\n",
    "    \"Harriet Tubman\",\n",
    "    \"John Locke\",\n",
    "    \"Vasco da Gama\",\n",
    "    \"Emmeline Pankhurst\",\n",
    "    \"Karl Marx\",\n",
    "    \"William Wordsworth\",\n",
    "    \"King Tutankhamun\",\n",
    "    \"Thomas Paine\",\n",
    "    \"Sun Tzu\",\n",
    "    \"Michael Faraday\",\n",
    "    \"King Henry IV\",\n",
    "    \"Geronimo\",\n",
    "    \"Buddha\",\n",
    "    \"Ramses II\",\n",
    "    \"Sitting Bull\",\n",
    "    \"Eleanor Roosevelt\",\n",
    "    \"Mikhail Gorbachev\",\n",
    "    \"Franz Kafka\",\n",
    "    \"Marie Curie\"\n",
    "]\n",
    "historical_figures = list(set(historical_figures))\n",
    "len(historical_figures)"
   ]
  },
  {
   "cell_type": "code",
   "execution_count": 13,
   "id": "ebd70935",
   "metadata": {},
   "outputs": [
    {
     "data": {
      "text/plain": [
       "58"
      ]
     },
     "execution_count": 13,
     "metadata": {},
     "output_type": "execute_result"
    }
   ],
   "source": [
    "softwares = [\n",
    "    \"Microsoft Windows\",        # Operating System\n",
    "    \"MacOS\",                    # Operating System\n",
    "    \"Linux\",                    # Operating System\n",
    "    \"Adobe Photoshop\",          # Image Editing\n",
    "    \"Google Chrome\",            # Web Browser\n",
    "    \"Mozilla Firefox\",          # Web Browser\n",
    "    \"Microsoft Office\",         # Productivity Suite\n",
    "    \"Slack\",                    # Communication/Collaboration\n",
    "    \"Zoom\",                     # Video Conferencing\n",
    "    \"Spotify\",                  # Music Streaming\n",
    "    \"IntelliJ IDEA\",            # Integrated Development Environment (IDE)\n",
    "    \"Visual Studio Code\",       # Integrated Development Environment (IDE)\n",
    "    \"Git\",                      # Version Control\n",
    "    \"AutoCAD\",                  # CAD Software\n",
    "    \"Blender\",                  # 3D Modeling/Animation\n",
    "    \"WordPress\",                # Content Management System (CMS)\n",
    "    \"QuickBooks\",               # Accounting Software\n",
    "    \"Python\",                   # Programming Language\n",
    "    \"Oracle Database\",          # Database Management System\n",
    "    \"Final Cut Pro\",            # Video Editing Software\n",
    "] + [\n",
    "    \"Adobe Illustrator\",          # Graphic Design Software\n",
    "    \"Skype\",                      # Communication Software\n",
    "    \"Dropbox\",                    # Cloud Storage\n",
    "    \"Trello\",                     # Project Management\n",
    "    \"Notepad++\",                  # Text Editor\n",
    "    \"GitHub\",                     # Version Control/Collaboration Platform\n",
    "    \"Salesforce\",                 # Customer Relationship Management (CRM)\n",
    "    \"Amazon Web Services (AWS)\",  # Cloud Computing\n",
    "    \"VMware\",                     # Virtualization Software\n",
    "    \"Figma\",                      # Design and Prototyping Tool\n",
    "    \"Unity\",                      # Game Development Engine\n",
    "    \"Unreal Engine\",              # Game Development Engine\n",
    "    \"Adobe Premiere Pro\",         # Video Editing Software\n",
    "    \"Sketch\",                     # UI/UX Design Tool\n",
    "    \"MATLAB\",                     # Numerical Computing\n",
    "    \"Sublime Text\",               # Code Editor\n",
    "    \"Tableau\",                    # Data Visualization Software\n",
    "    \"VLC Media Player\",           # Media Player\n",
    "    \"Eclipse\",                    # Integrated Development Environment (IDE)\n",
    "    \"Windows Media Player\",       # Media Player\n",
    "] + [\n",
    "    \"Microsoft Excel\",            # Spreadsheet Software\n",
    "    \"Adobe Lightroom\",            # Photo Editing Software\n",
    "    \"Pro Tools\",                  # Audio Editing Software\n",
    "    \"Krita\",                      # Digital Painting Software\n",
    "    \"Inkscape\",                   # Vector Graphic Design Software\n",
    "    \"WordPress\",                  # Content Management System (CMS)\n",
    "    \"RStudio\",                    # Statistical Computing and Graphics\n",
    "    \"PostgreSQL\",                 # Database Management System\n",
    "    \"Docker\",                     # Containerization Platform\n",
    "    \"Jenkins\",                    # Continuous Integration/Delivery Tool\n",
    "    \"Atlassian Jira\",             # Project and Issue Tracking Software\n",
    "    \"Final Draft\",                # Screenwriting Software\n",
    "    \"Ableton Live\",               # Music Production Software\n",
    "    \"Android Studio\",             # Mobile App Development (Android)\n",
    "    \"Xcode\",                      # Mobile App Development (iOS)\n",
    "    \"Microsoft Teams\",            # Collaboration/Communication Platform\n",
    "    \"Sequel Pro\",                 # MySQL Database Management\n",
    "    \"Autodesk Revit\",             # Building Information Modeling (BIM)\n",
    "    \"Blender\",                    # 3D Modeling/Animation\n",
    "    \"Google Drive\",               # Cloud Storage/Collaboration\n",
    "]\n",
    "softwares = list(set(softwares))\n",
    "len(softwares)"
   ]
  },
  {
   "cell_type": "code",
   "execution_count": 14,
   "id": "2d123f88",
   "metadata": {},
   "outputs": [
    {
     "data": {
      "text/plain": [
       "58"
      ]
     },
     "execution_count": 14,
     "metadata": {},
     "output_type": "execute_result"
    }
   ],
   "source": [
    "inventions = [\n",
    "    \"Telephone\",                   # Invented by Alexander Graham Bell\n",
    "    \"Light Bulb\",                  # Invented by Thomas Edison\n",
    "    \"Airplane\",                    # Invented by Wright Brothers\n",
    "    \"Printing Press\",              # Invented by Johannes Gutenberg\n",
    "    \"Wheel\",                       # Ancient invention, Mesopotamia\n",
    "    \"Internet\",                    # Developed by multiple inventors\n",
    "    \"Penicillin\",                  # Discovered by Alexander Fleming\n",
    "    \"Computer\",                    # Developed by Charles Babbage, Alan Turing\n",
    "    \"Steam Engine\",                # Developed by James Watt\n",
    "    \"Refrigerator\",                # Invented by Carl von Linde\n",
    "    \"Radio\",                       # Invented by Guglielmo Marconi\n",
    "    \"Television\",                  # Invented by John Logie Baird\n",
    "    \"Vaccination\",                 # Pioneered by Edward Jenner\n",
    "    \"Camera\",                      # Invented by Joseph Nicéphore Niépce\n",
    "    \"Electric Motor\",              # Developed by Michael Faraday\n",
    "    \"Computer Mouse\",              # Invented by Douglas Engelbart\n",
    "    \"Bicycle\",                     # Invented by Karl Drais\n",
    "    \"Helicopter\",                  # Invented by Igor Sikorsky\n",
    "    \"Automobile\",                  # Invented by Karl Benz\n",
    "] + [\n",
    "    \"Solar Panel\",                # Developed by Charles Fritts\n",
    "    \"Microscope\",                 # Invented by Zacharias Janssen\n",
    "    \"Printing Press\",             # Invented by Johannes Gutenberg\n",
    "    \"Steam Locomotive\",           # Developed by George Stephenson\n",
    "    \"Typewriter\",                 # Invented by Christopher Latham Sholes\n",
    "    \"Battery\",                    # Invented by Alessandro Volta\n",
    "    \"Compass\",                    # Ancient invention, China\n",
    "    \"X-ray\",                      # Discovered by Wilhelm Röntgen\n",
    "    \"Calculator\",                 # Developed by Blaise Pascal\n",
    "    \"Eyeglasses\",                 # Invented by Salvino D'Armate\n",
    "    \"AC Power\",                   # Developed by Nikola Tesla\n",
    "    \"Antibiotics\",                # Discovered by Alexander Fleming\n",
    "    \"Telegraph\",                  # Invented by Samuel Morse\n",
    "    \"Hot Air Balloon\",            # Invented by Montgolfier brothers\n",
    "    \"Radiosurgery\",               # Developed by Sir Charles Beadnell\n",
    "    \"Jet Engine\",                 # Invented by Frank Whittle\n",
    "    \"Contact Lenses\",             # Invented by Otto Wichterle\n",
    "    \"Electric Fan\",               # Invented by Schuyler Skaats Wheeler\n",
    "    \"Vacuum Cleaner\",             # Invented by Hubert Cecil Booth\n",
    "    \"Paper\",                      # Ancient invention, China\n",
    "] + [\n",
    "    \"Barometer\",                   # Invented by Evangelista Torricelli\n",
    "    \"Aluminum Foil\",               # Invented by L. H. L. Dumas\n",
    "    \"Electric Guitar\",             # Invented by Les Paul\n",
    "    \"Lighthouse\",                  # Ancient invention, Greece\n",
    "    \"Fountain Pen\",                # Invented by Lewis Waterman\n",
    "    \"Refrigerated Truck\",          # Invented by Frederick McKinley Jones\n",
    "    \"Steamship\",                   # Developed by Robert Fulton\n",
    "    \"Telescope\",                   # Invented by Hans Lippershey\n",
    "    \"Match\",                       # Invented by John Walker\n",
    "    \"Windmill\",                    # Ancient invention, Persia\n",
    "    \"Hot Dog\",                     # Invented by Charles Feltman\n",
    "    \"Parachute\",                   # Invented by Leonardo da Vinci\n",
    "    \"Piano\",                       # Invented by Bartolomeo Cristofori\n",
    "    \"Thermometer\",                 # Developed by Galileo Galilei\n",
    "    \"Dynamite\",                    # Invented by Alfred Nobel\n",
    "    \"Safety Pin\",                  # Invented by Walter Hunt\n",
    "    \"Shampoo\",                     # Developed by Hans Schwarzkopf\n",
    "    \"Ice Cream Cone\",              # Invented by Italo Marchiony\n",
    "    \"Zipper\",                      # Invented by Whitcomb Judson\n",
    "    \"Laser\",                       # Invented by Theodore Maiman\n",
    "]\n",
    "inventions = list(set(inventions))\n",
    "inventions = [i.lower() for i in inventions]\n",
    "len(inventions)"
   ]
  },
  {
   "cell_type": "code",
   "execution_count": 16,
   "id": "d9fdf1d0",
   "metadata": {},
   "outputs": [],
   "source": [
    "entity_type2entity_names = {\n",
    "    \"Person\": historical_figures,\n",
    "    \"Organization\": non_profit_organizations + companies + universities,\n",
    "    \"Product\": softwares + inventions,\n",
    "    \"Creative Work\": songs + films + books, # + artworks,\n",
    "    \"Species\": species,\n",
    "    \"Language\": languages,\n",
    "    \"Event\": historical_events,\n",
    "    \"Country\": countries,\n",
    "}"
   ]
  },
  {
   "cell_type": "code",
   "execution_count": 17,
   "id": "e77c02da",
   "metadata": {},
   "outputs": [],
   "source": [
    "person_templates = [\n",
    "    \"How many children did {person} have?\",\n",
    "    \"What is the religion of {person}?\",\n",
    "    \"What language was primarily spoken by {person}?\",\n",
    "    \"What occupation is {person} most well-known for?\",\n",
    "    \"What year did {person} pass away?\",\n",
    "    \"What year was {person} born?\",\n",
    "    \"Where did {person} die?\",\n",
    "    \"Where was the birthplace of {person}?\",\n",
    "]"
   ]
  },
  {
   "cell_type": "code",
   "execution_count": 18,
   "id": "708a0373",
   "metadata": {},
   "outputs": [],
   "source": [
    "historical_event_templates = [\n",
    "    \"What year did {event} end?\",\n",
    "    \"When did {event} take place?\",\n",
    "    \"In which country did {event} happen?\",\n",
    "    \"Who was the most important leader or figure involved in {event}?\"\n",
    "]"
   ]
  },
  {
   "cell_type": "code",
   "execution_count": 19,
   "id": "b4de3e0f",
   "metadata": {},
   "outputs": [],
   "source": [
    "species_templates = [\n",
    "    \"What is the diet of {species}?\",\n",
    "    \"What is the social structure of {species}?\",\n",
    "    \"What type of organism is {species}?\",\n",
    "    \"Where is {species} primarily native to?\",\n",
    "]"
   ]
  },
  {
   "cell_type": "code",
   "execution_count": 20,
   "id": "c768d2b5",
   "metadata": {},
   "outputs": [],
   "source": [
    "language_templates = [\n",
    "    \"What is the ISO 639‑1 code for {language}?\",\n",
    "    \"What is the name of the alphabet or script of {language}?\",\n",
    "    \"What is the primary word order in {language}?\",\n",
    "    \"What language family does {language} belong to?\",\n",
    "    \"What region is {language} native to?\",\n",
    "    \"What writing system is used by {language}?\",\n",
    "]"
   ]
  },
  {
   "cell_type": "code",
   "execution_count": 21,
   "id": "f5574135",
   "metadata": {},
   "outputs": [],
   "source": [
    "product_templates = [\n",
    "    \"What is the primary function of {product}?\",\n",
    "    \"Who are the primary users of {product}?\",\n",
    "    \"Who was the main inventor of {product}?\",\n",
    "    \"When was {product} first introduced?\",\n",
    "    \"Where was {product} developed?\",\n",
    "]"
   ]
  },
  {
   "cell_type": "code",
   "execution_count": 22,
   "id": "58116248",
   "metadata": {},
   "outputs": [],
   "source": [
    "organization_templates = [\n",
    "    \"In what year was {organization} established?\",\n",
    "    \"Where is the headquarters of {organization} located?\",\n",
    "    \"Where was {organization} established?\",\n",
    "    \"Who established {organization}?\",\n",
    "    \"What is the primary field or industry of {organization}?\",\n",
    "    \"What primary service or product does {organization} provide?\"\n",
    "]\n",
    "    "
   ]
  },
  {
   "cell_type": "code",
   "execution_count": 23,
   "id": "1e764b40",
   "metadata": {},
   "outputs": [],
   "source": [
    "creative_work_templates = [\n",
    "    \"What is the original language of {creative_work}?\",\n",
    "    \"What is the genre or style of {creative_work}?\",\n",
    "    \"When was {creative_work} released or published?\",\n",
    "    # \"What is the medium or format of {artwork}?\", # this is more for painting, sculpture, etc.\n",
    "    \"Who is the creator of {creative_work}?\",\n",
    "    \"Where was {creative_work} produced or created?\",\n",
    "    \"In which country was {creative_work} first released or published?\",\n",
    "    \"Who was the original distributor or publisher of {creative_work}?\",\n",
    "]"
   ]
  },
  {
   "cell_type": "code",
   "execution_count": 24,
   "id": "f214f91a",
   "metadata": {},
   "outputs": [
    {
     "data": {
      "text/plain": [
       "8"
      ]
     },
     "execution_count": 24,
     "metadata": {},
     "output_type": "execute_result"
    }
   ],
   "source": [
    "len(entity_type2entity_names)"
   ]
  },
  {
   "cell_type": "code",
   "execution_count": 25,
   "id": "f02bd03e",
   "metadata": {},
   "outputs": [],
   "source": [
    "country_templates = [\n",
    "    \"What is the capital of {country}?\",\n",
    "    \"What language in {country} has the most speakers?\",\n",
    "    \"What is the currency of {country}?\",\n",
    "    \"Which ethnic group is the largest in {country}?\",\n",
    "    \"Which religion has the most followers in {country}?\",\n",
    "    \"What is the top-level internet domain for {country}?\",\n",
    "    \"What is the calling code for {country}?\",\n",
    "    \"What is the ISO alpha-2 code for {country}?\",\n",
    "]"
   ]
  },
  {
   "cell_type": "code",
   "execution_count": 26,
   "id": "ab668b0f",
   "metadata": {},
   "outputs": [],
   "source": [
    "entity_type2templates = {\n",
    "    \"Person\": person_templates,\n",
    "    \"Event\": historical_event_templates,\n",
    "    \"Species\": species_templates,\n",
    "    \"Language\": language_templates,\n",
    "    \"Product\": product_templates,\n",
    "    \"Organization\": organization_templates,\n",
    "    \"Creative Work\": creative_work_templates,\n",
    "    \"Country\": country_templates,\n",
    "}"
   ]
  },
  {
   "cell_type": "code",
   "execution_count": 27,
   "id": "073bffbd",
   "metadata": {},
   "outputs": [],
   "source": [
    "entity_type2tag = {\n",
    "    \"Person\": \"person\",\n",
    "    \"Event\": \"event\",\n",
    "    \"Species\": \"species\",\n",
    "    \"Language\": \"language\",\n",
    "    \"Product\": \"product\",\n",
    "    \"Organization\": \"organization\",\n",
    "    \"Creative Work\": \"creative_work\",\n",
    "    \"Country\": \"country\",\n",
    "}"
   ]
  },
  {
   "cell_type": "code",
   "execution_count": 28,
   "id": "4e9d4a35",
   "metadata": {},
   "outputs": [
    {
     "data": {
      "text/plain": [
       "8"
      ]
     },
     "execution_count": 28,
     "metadata": {},
     "output_type": "execute_result"
    }
   ],
   "source": [
    "len(entity_type2templates)"
   ]
  },
  {
   "cell_type": "markdown",
   "id": "aae47787",
   "metadata": {},
   "source": [
    "# generating questions for GPT-4o"
   ]
  },
  {
   "cell_type": "code",
   "execution_count": 29,
   "id": "fdb5adf2",
   "metadata": {},
   "outputs": [
    {
     "data": {
      "text/plain": [
       "8"
      ]
     },
     "execution_count": 29,
     "metadata": {},
     "output_type": "execute_result"
    }
   ],
   "source": [
    "len(entity_type2entity_names)"
   ]
  },
  {
   "cell_type": "code",
   "execution_count": 30,
   "id": "a97449ed",
   "metadata": {},
   "outputs": [],
   "source": [
    "df_content = []\n",
    "\n",
    "for entity_type, entity_names in entity_type2entity_names.items():\n",
    "    tag = entity_type2tag[entity_type]\n",
    "    templates = entity_type2templates[entity_type]\n",
    "    for template in templates:\n",
    "        for entity_name in entity_names:\n",
    "            question = template.format(**{tag: entity_name})\n",
    "            df_content.append({\n",
    "                \"entity_type\": entity_type,\n",
    "                \"entity_type_tag\": tag,\n",
    "                \"entity_name\": entity_name,\n",
    "                \"template\": template,\n",
    "                \"question\": question,\n",
    "            })\n",
    "            # if len(question) > 0:\n",
    "                # print(question)\n",
    "df = pd.DataFrame(df_content)"
   ]
  },
  {
   "cell_type": "code",
   "execution_count": 31,
   "id": "83570d1e",
   "metadata": {},
   "outputs": [
    {
     "data": {
      "text/plain": [
       "4523"
      ]
     },
     "execution_count": 31,
     "metadata": {},
     "output_type": "execute_result"
    }
   ],
   "source": [
    "len(df)"
   ]
  },
  {
   "cell_type": "code",
   "execution_count": 32,
   "id": "8a52307a",
   "metadata": {},
   "outputs": [
    {
     "data": {
      "text/plain": [
       "{'Person': ['How many children did {person} have?',\n",
       "  'What is the religion of {person}?',\n",
       "  'What language was primarily spoken by {person}?',\n",
       "  'What occupation is {person} most well-known for?',\n",
       "  'What year did {person} pass away?',\n",
       "  'What year was {person} born?',\n",
       "  'Where did {person} die?',\n",
       "  'Where was the birthplace of {person}?'],\n",
       " 'Event': ['What year did {event} end?',\n",
       "  'When did {event} take place?',\n",
       "  'In which country did {event} happen?',\n",
       "  'Who was the most important leader or figure involved in {event}?'],\n",
       " 'Species': ['What is the diet of {species}?',\n",
       "  'What is the social structure of {species}?',\n",
       "  'What type of organism is {species}?',\n",
       "  'Where is {species} primarily native to?'],\n",
       " 'Language': ['What is the ISO 639‑1 code for {language}?',\n",
       "  'What is the name of the alphabet or script of {language}?',\n",
       "  'What is the primary word order in {language}?',\n",
       "  'What language family does {language} belong to?',\n",
       "  'What region is {language} native to?',\n",
       "  'What writing system is used by {language}?'],\n",
       " 'Product': ['What is the primary function of {product}?',\n",
       "  'Who are the primary users of {product}?',\n",
       "  'Who was the main inventor of {product}?',\n",
       "  'When was {product} first introduced?',\n",
       "  'Where was {product} developed?'],\n",
       " 'Organization': ['In what year was {organization} established?',\n",
       "  'Where is the headquarters of {organization} located?',\n",
       "  'Where was {organization} established?',\n",
       "  'Who established {organization}?',\n",
       "  'What is the primary field or industry of {organization}?',\n",
       "  'What primary service or product does {organization} provide?'],\n",
       " 'Creative Work': ['What is the original language of {creative_work}?',\n",
       "  'What is the genre or style of {creative_work}?',\n",
       "  'When was {creative_work} released or published?',\n",
       "  'Who is the creator of {creative_work}?',\n",
       "  'Where was {creative_work} produced or created?',\n",
       "  'In which country was {creative_work} first released or published?',\n",
       "  'Who was the original distributor or publisher of {creative_work}?'],\n",
       " 'Country': ['What is the capital of {country}?',\n",
       "  'What language in {country} has the most speakers?',\n",
       "  'What is the currency of {country}?',\n",
       "  'Which ethnic group is the largest in {country}?',\n",
       "  'Which religion has the most followers in {country}?',\n",
       "  'What is the top-level internet domain for {country}?',\n",
       "  'What is the calling code for {country}?',\n",
       "  'What is the ISO alpha-2 code for {country}?']}"
      ]
     },
     "execution_count": 32,
     "metadata": {},
     "output_type": "execute_result"
    }
   ],
   "source": [
    "entity_type2templates"
   ]
  },
  {
   "cell_type": "code",
   "execution_count": 33,
   "id": "98cb4c06",
   "metadata": {},
   "outputs": [],
   "source": [
    "# df.to_csv(f\"{vars.DATA_DIR}/debug_meta_train/syn_data_neurips/data_gen/entity_type_name_template_curated_v1.csv\", index=False)"
   ]
  },
  {
   "cell_type": "markdown",
   "id": "0e8cc3e4",
   "metadata": {},
   "source": [
    "# Call llm to create gold label"
   ]
  },
  {
   "cell_type": "code",
   "execution_count": 34,
   "id": "cc6a0b7b",
   "metadata": {},
   "outputs": [],
   "source": [
    "# entity_type_name_template_v1_answered_dataset = datasets.load_from_disk(f\"{vars.DATA_DIR}/debug_meta_train/syn_data_neurips/data_gen/entity_type_name_template_curated_v1_answered.hf\")"
   ]
  },
  {
   "cell_type": "code",
   "execution_count": 35,
   "id": "04d3ba57",
   "metadata": {},
   "outputs": [],
   "source": [
    "# len(entity_type_name_template_v2_answered_dataset)"
   ]
  },
  {
   "cell_type": "code",
   "execution_count": 36,
   "id": "89a04787",
   "metadata": {},
   "outputs": [],
   "source": [
    "entity_type_name_template_v1_answered_df = entity_type_name_template_v1_answered_dataset.to_pandas()\n",
    "# entity_type_name_template_v2_answered_df = entity_type_name_template_v2_answered_dataset.to_pandas()\n",
    "# entity_type_name_template_makeup_answered_df = entity_type_name_template_makeup_answered_dataset.to_pandas()\n",
    "# entity_type_name_template_answered_df = pd.concat([entity_type_name_template_v1_answered_df, entity_type_name_template_v2_answered_df], axis=0)\n",
    "# entity_type_name_template_answered_dataset = datasets.Dataset.from_pandas(entity_type_name_template_answered_df)\n",
    "# entity_type_name_template_answered_df_prefinal = entity_type_name_template_answered_dataset_prefinal.to_pandas()"
   ]
  },
  {
   "cell_type": "code",
   "execution_count": 37,
   "id": "995e899a",
   "metadata": {},
   "outputs": [
    {
     "data": {
      "text/plain": [
       "array(['What is the original language of {creative_work}?',\n",
       "       'What is the genre or style of {creative_work}?',\n",
       "       'When was {creative_work} released or published?',\n",
       "       'Who is the creator of {creative_work}?',\n",
       "       'Where was {creative_work} produced or created?',\n",
       "       'In which country was {creative_work} first released or published?',\n",
       "       'Who was the original distributor or publisher of {creative_work}?'],\n",
       "      dtype=object)"
      ]
     },
     "execution_count": 37,
     "metadata": {},
     "output_type": "execute_result"
    }
   ],
   "source": [
    "entity_type_name_template_v1_answered_df[entity_type_name_template_v1_answered_df[\"entity_type\"] == \"Creative Work\"][\"template\"].unique()"
   ]
  },
  {
   "cell_type": "code",
   "execution_count": 39,
   "id": "e7f33f2a",
   "metadata": {},
   "outputs": [
    {
     "data": {
      "text/plain": [
       "4523"
      ]
     },
     "execution_count": 39,
     "metadata": {},
     "output_type": "execute_result"
    }
   ],
   "source": [
    "\n",
    "len(entity_type_name_template_v1_answered_df)"
   ]
  },
  {
   "cell_type": "code",
   "execution_count": 40,
   "id": "b18b406c",
   "metadata": {},
   "outputs": [],
   "source": [
    "entity_type2count = {}\n",
    "entity_type2idk = {}\n",
    "\n",
    "for i in range(len(entity_type_name_template_v1_answered_df)):\n",
    "    d = entity_type_name_template_v1_answered_df.iloc[i]\n",
    "    if d[\"entity_type\"] not in entity_type2count:\n",
    "        entity_type2count[d[\"entity_type\"]] = defaultdict(int)\n",
    "    if d[\"entity_type\"] not in entity_type2idk:\n",
    "        entity_type2idk[d[\"entity_type\"]] = defaultdict(int)\n",
    "        \n",
    "    entity_type2count[d[\"entity_type\"]][d[\"template\"]] += 1\n",
    "    if \"I don't know\" in d[\"answer\"]:\n",
    "        entity_type2idk[d[\"entity_type\"]][d[\"template\"]] += 1\n",
    "        "
   ]
  },
  {
   "cell_type": "code",
   "execution_count": 41,
   "id": "ab8c17ff",
   "metadata": {},
   "outputs": [
    {
     "name": "stdout",
     "output_type": "stream",
     "text": [
      "'I don't know' rate\n",
      "Person\n",
      "How many children did {person} have? : 9 / 97 (9.28%)\n",
      "What is the religion of {person}? : 10 / 97 (10.31%)\n",
      "What language was primarily spoken by {person}? : 0 / 97 (0.0%)\n",
      "What occupation is {person} most well-known for? : 0 / 97 (0.0%)\n",
      "What year did {person} pass away? : 7 / 97 (7.22%)\n",
      "What year was {person} born? : 5 / 97 (5.15%)\n",
      "Where did {person} die? : 4 / 97 (4.12%)\n",
      "Where was the birthplace of {person}? : 0 / 97 (0.0%)\n",
      "============================================================\n",
      "Organization\n",
      "In what year was {organization} established? : 1 / 117 (0.85%)\n",
      "Where is the headquarters of {organization} located? : 1 / 117 (0.85%)\n",
      "Where was {organization} established? : 0 / 117 (0.0%)\n",
      "Who established {organization}? : 3 / 117 (2.56%)\n",
      "What is the primary field or industry of {organization}? : 0 / 117 (0.0%)\n",
      "What primary service or product does {organization} provide? : 0 / 117 (0.0%)\n",
      "============================================================\n",
      "Product\n",
      "What is the primary function of {product}? : 0 / 116 (0.0%)\n",
      "Who are the primary users of {product}? : 0 / 116 (0.0%)\n",
      "Who was the main inventor of {product}? : 12 / 116 (10.34%)\n",
      "When was {product} first introduced? : 0 / 116 (0.0%)\n",
      "Where was {product} developed? : 0 / 116 (0.0%)\n",
      "============================================================\n",
      "Creative Work\n",
      "What is the original language of {creative_work}? : 1 / 117 (0.85%)\n",
      "What is the genre or style of {creative_work}? : 0 / 117 (0.0%)\n",
      "When was {creative_work} released or published? : 1 / 117 (0.85%)\n",
      "Who is the creator of {creative_work}? : 1 / 117 (0.85%)\n",
      "Where was {creative_work} produced or created? : 1 / 117 (0.85%)\n",
      "In which country was {creative_work} first released or published? : 1 / 117 (0.85%)\n",
      "Who was the original distributor or publisher of {creative_work}? : 4 / 117 (3.42%)\n",
      "============================================================\n",
      "Species\n",
      "What is the diet of {species}? : 0 / 93 (0.0%)\n",
      "What is the social structure of {species}? : 0 / 93 (0.0%)\n",
      "What type of organism is {species}? : 0 / 93 (0.0%)\n",
      "Where is {species} primarily native to? : 0 / 93 (0.0%)\n",
      "============================================================\n",
      "Language\n",
      "What is the ISO 639‑1 code for {language}? : 1 / 39 (2.56%)\n",
      "What is the name of the alphabet or script of {language}? : 0 / 39 (0.0%)\n",
      "What is the primary word order in {language}? : 0 / 39 (0.0%)\n",
      "What language family does {language} belong to? : 0 / 39 (0.0%)\n",
      "What region is {language} native to? : 0 / 39 (0.0%)\n",
      "What writing system is used by {language}? : 0 / 39 (0.0%)\n",
      "============================================================\n",
      "Event\n",
      "What year did {event} end? : 6 / 106 (5.66%)\n",
      "When did {event} take place? : 0 / 106 (0.0%)\n",
      "In which country did {event} happen? : 2 / 106 (1.89%)\n",
      "Who was the most important leader or figure involved in {event}? : 3 / 106 (2.83%)\n",
      "============================================================\n",
      "Country\n",
      "What is the capital of {country}? : 0 / 77 (0.0%)\n",
      "What language in {country} has the most speakers? : 0 / 77 (0.0%)\n",
      "What is the currency of {country}? : 0 / 77 (0.0%)\n",
      "Which ethnic group is the largest in {country}? : 0 / 77 (0.0%)\n",
      "Which religion has the most followers in {country}? : 0 / 77 (0.0%)\n",
      "What is the top-level internet domain for {country}? : 0 / 77 (0.0%)\n",
      "What is the calling code for {country}? : 0 / 77 (0.0%)\n",
      "What is the ISO alpha-2 code for {country}? : 0 / 77 (0.0%)\n",
      "============================================================\n"
     ]
    }
   ],
   "source": [
    "low_knowledge_templates_count = 0\n",
    "low_knowledge_threshold = 0.8\n",
    "print(\"'I don't know' rate\")\n",
    "for entity_type in entity_type2count.keys():\n",
    "    print(entity_type)\n",
    "    for template in entity_type2count[entity_type].keys():\n",
    "        idk = entity_type2idk[entity_type][template]\n",
    "        count = entity_type2count[entity_type][template]\n",
    "        \n",
    "        print(template, \":\", idk, \"/\", count, f\"({round(idk / count * 100, 2)}%)\")\n",
    "        if idk / count > low_knowledge_threshold:\n",
    "            low_knowledge_templates_count += 1\n",
    "    print(\"===\" * 20)"
   ]
  },
  {
   "cell_type": "code",
   "execution_count": null,
   "id": "8fcc197b",
   "metadata": {},
   "outputs": [],
   "source": [
    "# bad_templates = [\"What is the religion of {person}?\"]"
   ]
  },
  {
   "cell_type": "code",
   "execution_count": 42,
   "id": "ec9f8fab",
   "metadata": {},
   "outputs": [
    {
     "data": {
      "text/plain": [
       "0"
      ]
     },
     "execution_count": 42,
     "metadata": {},
     "output_type": "execute_result"
    }
   ],
   "source": [
    "sum([len(str(a).strip()) == 0 for a in entity_type_name_template_v1_answered_df[\"answer\"].to_list()])"
   ]
  },
  {
   "cell_type": "code",
   "execution_count": 43,
   "id": "987a5e96",
   "metadata": {},
   "outputs": [],
   "source": [
    "# [a for a in entity_type_name_template_v1_answered_df[\"answer\"].to_list() if 30 > len(str(a)) > 20]"
   ]
  },
  {
   "cell_type": "code",
   "execution_count": 44,
   "id": "1609b1ca",
   "metadata": {},
   "outputs": [],
   "source": [
    "# gold_answer_df_filtered = entity_type_name_template_v1_answered_df[~entity_type_name_template_v1_answered_df[\"template\"].isin(bad_templates)]"
   ]
  },
  {
   "cell_type": "code",
   "execution_count": null,
   "id": "299e3ce5",
   "metadata": {},
   "outputs": [],
   "source": []
  },
  {
   "cell_type": "markdown",
   "id": "534ecf7d",
   "metadata": {},
   "source": [
    "# Prepare sub_df whose answer is too long for shortening"
   ]
  },
  {
   "cell_type": "code",
   "execution_count": 45,
   "id": "015b537a",
   "metadata": {},
   "outputs": [],
   "source": [
    "long_answer_threshold = 30\n",
    "\n",
    "entity_type_name_template_v1_answered_df_long = entity_type_name_template_v1_answered_df[entity_type_name_template_v1_answered_df.apply(lambda row: len(str(row[\"answer\"]).strip()) > 30 , axis=1)]"
   ]
  },
  {
   "cell_type": "code",
   "execution_count": 48,
   "id": "d11216d8",
   "metadata": {},
   "outputs": [
    {
     "data": {
      "text/plain": [
       "Counter({'Who are the primary users of {product}?': 94,\n",
       "         'What is the primary function of {product}?': 83,\n",
       "         'What is the social structure of {species}?': 81,\n",
       "         'What is the diet of {species}?': 79,\n",
       "         'What primary service or product does {organization} provide?': 63,\n",
       "         'Who established {organization}?': 32,\n",
       "         'Where is {species} primarily native to?': 27,\n",
       "         'What is the primary field or industry of {organization}?': 20,\n",
       "         'What is the genre or style of {creative_work}?': 18,\n",
       "         'Where was {creative_work} produced or created?': 16,\n",
       "         'What occupation is {person} most well-known for?': 15,\n",
       "         'Where was the birthplace of {person}?': 10,\n",
       "         'Where was {product} developed?': 9,\n",
       "         'What region is {language} native to?': 9,\n",
       "         'What is the religion of {person}?': 8,\n",
       "         'Which religion has the most followers in {country}?': 6,\n",
       "         'Where did {person} die?': 5,\n",
       "         'When did {event} take place?': 5,\n",
       "         'Who is the creator of {creative_work}?': 4,\n",
       "         'Who was the original distributor or publisher of {creative_work}?': 3,\n",
       "         'Where is the headquarters of {organization} located?': 2,\n",
       "         'In which country did {event} happen?': 2,\n",
       "         'Which ethnic group is the largest in {country}?': 2,\n",
       "         'What year did {person} pass away?': 1,\n",
       "         'What year was {person} born?': 1,\n",
       "         'When was {product} first introduced?': 1,\n",
       "         'What type of organism is {species}?': 1,\n",
       "         'What is the name of the alphabet or script of {language}?': 1,\n",
       "         'What is the primary word order in {language}?': 1,\n",
       "         'What writing system is used by {language}?': 1})"
      ]
     },
     "execution_count": 48,
     "metadata": {},
     "output_type": "execute_result"
    }
   ],
   "source": [
    "Counter(entity_type_name_template_v1_answered_df_long[\"template\"])"
   ]
  },
  {
   "cell_type": "code",
   "execution_count": 49,
   "id": "2194368e",
   "metadata": {},
   "outputs": [],
   "source": [
    "entity_type_name_template_v1_answered_df_long.to_csv(f\"{vars.DATA_DIR}/debug_meta_train/syn_data_neurips/data_gen/entity_type_name_template_curated_v1_answered_long.csv\", index=False)"
   ]
  },
  {
   "cell_type": "markdown",
   "id": "1e92c841",
   "metadata": {},
   "source": [
    "### (call llm to shorten)"
   ]
  },
  {
   "cell_type": "code",
   "execution_count": 51,
   "id": "6631ac71",
   "metadata": {},
   "outputs": [],
   "source": [
    "entity_type_name_template_answered_ds_filtered_long_shortened = datasets.load_from_disk(\"/u/zliu/datastor1/KE-by-CP/data/debug_meta_train/syn_data_neurips/data_gen/entity_type_name_template_curated_v1_answered_long_shortened.hf\")"
   ]
  },
  {
   "cell_type": "code",
   "execution_count": 52,
   "id": "87bab47b",
   "metadata": {},
   "outputs": [],
   "source": [
    "entity_type_name_template_answered_df_filtered_long_shortened = entity_type_name_template_answered_ds_filtered_long_shortened.to_pandas()"
   ]
  },
  {
   "cell_type": "code",
   "execution_count": 53,
   "id": "6d203b3e",
   "metadata": {},
   "outputs": [],
   "source": [
    "# [a for a in entity_type_name_template_answered_df_filtered_long_shortened[\"shortened_answer\"].to_list() if len(str(a)) > 30]"
   ]
  },
  {
   "cell_type": "code",
   "execution_count": 54,
   "id": "f1f8ddc4",
   "metadata": {},
   "outputs": [
    {
     "data": {
      "text/plain": [
       "4523"
      ]
     },
     "execution_count": 54,
     "metadata": {},
     "output_type": "execute_result"
    }
   ],
   "source": [
    "entity_type_name_template_answered_df_filtered_fixed_content = []\n",
    "\n",
    "\n",
    "# for i, r in entity_type_name_template_answered_df_filtered_long_shortened.iterrows():\n",
    "#     r_with_shortened_answer = entity_type_name_template_answered_df_filtered[entity_type_name_template_answered_df_filtered[\"question\"] == r[\"question\"]]\n",
    "#     assert len(r_with_shortened_answer) == 1, r\n",
    "\n",
    "for i, r in entity_type_name_template_v1_answered_df.iterrows():\n",
    "    r_with_shortened_answer = entity_type_name_template_answered_df_filtered_long_shortened[entity_type_name_template_answered_df_filtered_long_shortened[\"question\"] == r[\"question\"]]\n",
    "    \n",
    "    if len(r_with_shortened_answer) == 0:\n",
    "        if r[\"answer\"].endswith(\".\"):\n",
    "            r[\"answer\"] = r[\"answer\"][:-1]\n",
    "        entity_type_name_template_answered_df_filtered_fixed_content.append(r)\n",
    "        continue\n",
    "    assert len(r_with_shortened_answer) == 1, r\n",
    "    new_r = deepcopy(r)\n",
    "    new_r[\"answer\"] = r_with_shortened_answer.iloc[0][\"shortened_answer\"]\n",
    "    if new_r[\"answer\"].endswith(\".\"):\n",
    "        new_r[\"answer\"] = new_r[\"answer\"][:-1]\n",
    "    entity_type_name_template_answered_df_filtered_fixed_content.append(new_r)\n",
    "entity_type_name_template_answered_df_filtered_shorten = pd.DataFrame(entity_type_name_template_answered_df_filtered_fixed_content)\n",
    "len(entity_type_name_template_answered_df_filtered_shorten)"
   ]
  },
  {
   "cell_type": "code",
   "execution_count": 55,
   "id": "7234918f",
   "metadata": {},
   "outputs": [
    {
     "data": {
      "text/plain": [
       "4523"
      ]
     },
     "execution_count": 55,
     "metadata": {},
     "output_type": "execute_result"
    }
   ],
   "source": [
    "len(entity_type_name_template_answered_df_filtered_shorten)"
   ]
  },
  {
   "cell_type": "code",
   "execution_count": 56,
   "id": "fad398cb",
   "metadata": {},
   "outputs": [],
   "source": [
    "# entity_type_name_template_answered_ds_filtered_long_shortened[entity_type_name_template_answered_df_filtered_long_shortened[\"question\"] == r[\"question\"]]"
   ]
  },
  {
   "cell_type": "code",
   "execution_count": 57,
   "id": "d8336fb8",
   "metadata": {},
   "outputs": [],
   "source": [
    "answered_df_prefilter = entity_type_name_template_answered_df_filtered_shorten[entity_type_name_template_answered_df_filtered_shorten.apply(lambda row: \"I don't know\" not in str(row[\"answer\"]), axis=1)]"
   ]
  },
  {
   "cell_type": "code",
   "execution_count": 58,
   "id": "66b8a3e5",
   "metadata": {},
   "outputs": [
    {
     "data": {
      "text/plain": [
       "4450"
      ]
     },
     "execution_count": 58,
     "metadata": {},
     "output_type": "execute_result"
    }
   ],
   "source": [
    "len(answered_df_prefilter)"
   ]
  },
  {
   "cell_type": "code",
   "execution_count": 59,
   "id": "fd501580",
   "metadata": {},
   "outputs": [
    {
     "data": {
      "text/plain": [
       "48"
      ]
     },
     "execution_count": 59,
     "metadata": {},
     "output_type": "execute_result"
    }
   ],
   "source": [
    "len(answered_df_prefilter[\"template\"].unique())"
   ]
  },
  {
   "cell_type": "code",
   "execution_count": 60,
   "id": "14dfcb8c",
   "metadata": {},
   "outputs": [
    {
     "data": {
      "text/plain": [
       "Text(0.5, 1.0, 'Answer Length Distribution (without filtering)')"
      ]
     },
     "execution_count": 60,
     "metadata": {},
     "output_type": "execute_result"
    },
    {
     "data": {
      "image/png": "[encoded data removed]",
      "text/plain": [
       "<Figure size 640x480 with 1 Axes>"
      ]
     },
     "metadata": {},
     "output_type": "display_data"
    }
   ],
   "source": [
    "plt.hist([float(len(vars.GPT_4_TOKENIZER(str(a)))) for a in answered_df_prefilter[\"answer\"].to_list()])\n",
    "plt.xlabel(\"Answer Length\")\n",
    "plt.ylabel(\"# question\")\n",
    "plt.title(\"Answer Length Distribution (without filtering)\")"
   ]
  },
  {
   "cell_type": "code",
   "execution_count": 61,
   "id": "bcecc92b",
   "metadata": {},
   "outputs": [],
   "source": [
    "dump_jsonlines(\n",
    "     answered_df_prefilter.to_dict(\"records\"), \n",
    "     f\"{vars.DATA_DIR}/debug_meta_train/syn_data_neurips/data_gen/entity_type_name_template_v1_curated_answered_prefiltered.jsonl\"\n",
    ")"
   ]
  },
  {
   "cell_type": "code",
   "execution_count": 81,
   "id": "b6393e1f",
   "metadata": {},
   "outputs": [],
   "source": [
    "# len(answered_df_prefilter)"
   ]
  },
  {
   "cell_type": "code",
   "execution_count": null,
   "id": "0e41311f",
   "metadata": {},
   "outputs": [],
   "source": [
    "# # change answer in generation files from model and see if llm_acc change\n",
    "# eos_sft_df = pd.read_excel(\"/datastor1/zliu/mend/debug_exp_output/llama3.2-1B-eos-sft-template-format-v2-lr2e-6-sample-10/syn_data_neurips_prefilter_v2/base_n=19945_prompt=no_w-gen_wo-icl_ice=False.xlsx\")\n"
   ]
  },
  {
   "cell_type": "code",
   "execution_count": null,
   "id": "e9f69ff2",
   "metadata": {},
   "outputs": [],
   "source": [
    "# assert all([q1==q2 for q1, q2 in zip(entity_type_name_template_answered_df_filtered_shorten[\"question\"].to_list(), eos_sft_df[\"question\"].to_list())])"
   ]
  },
  {
   "cell_type": "code",
   "execution_count": null,
   "id": "332593a6",
   "metadata": {},
   "outputs": [],
   "source": [
    "# new_eos_sft_df = []\n",
    "# for i in range(len(entity_type_name_template_answered_df_filtered_shorten)):\n",
    "#     shortend_r = entity_type_name_template_answered_df_filtered_shorten.iloc[i]\n",
    "#     eos_sft_r = eos_sft_df.iloc[i]\n",
    "#     assert shortend_r[\"question\"] == eos_sft_r[\"question\"]\n",
    "#     new_eos_sft_r = deepcopy(eos_sft_r)\n",
    "#     new_eos_sft_r[\"answer\"] = shortend_r[\"answer\"]\n",
    "#     new_eos_sft_df.append(new_eos_sft_r)\n",
    "# new_eos_sft_df = pd.DataFrame(new_eos_sft_df)"
   ]
  },
  {
   "cell_type": "code",
   "execution_count": null,
   "id": "d95eadfd",
   "metadata": {},
   "outputs": [],
   "source": [
    "# new_eos_sft_df.drop(columns=[\"llm_accuracy\"], inplace=True)"
   ]
  },
  {
   "cell_type": "code",
   "execution_count": null,
   "id": "fc4c85f3",
   "metadata": {},
   "outputs": [],
   "source": []
  },
  {
   "cell_type": "markdown",
   "id": "00afe2f1",
   "metadata": {},
   "source": [
    "# Prepare a light-weight data for format alignment"
   ]
  },
  {
   "cell_type": "code",
   "execution_count": 62,
   "id": "417224cc",
   "metadata": {},
   "outputs": [
    {
     "data": {
      "text/plain": [
       "480"
      ]
     },
     "execution_count": 62,
     "metadata": {},
     "output_type": "execute_result"
    }
   ],
   "source": [
    "sample_size = 10\n",
    "light_weight_sft_content = []\n",
    "for template, template_df in answered_df_prefilter.groupby(\"template\"):\n",
    "    light_weight_sft_content.extend(template_df.sample(sample_size).to_dict(orient=\"records\"))\n",
    "len(light_weight_sft_content)"
   ]
  },
  {
   "cell_type": "code",
   "execution_count": null,
   "id": "f4406221",
   "metadata": {},
   "outputs": [],
   "source": []
  },
  {
   "cell_type": "code",
   "execution_count": null,
   "id": "3a532028",
   "metadata": {},
   "outputs": [],
   "source": [
    "dump_jsonlines(light_weight_sft_content, f\"{vars.DATA_DIR}/debug_meta_train/syn_data_neurips/model_prep/light_weight_sft_content_curated_v1_sample={sample_size}.jsonl\",)"
   ]
  },
  {
   "cell_type": "code",
   "execution_count": null,
   "id": "6c6fe875",
   "metadata": {},
   "outputs": [],
   "source": [
    "# len(entity_type_name_template_answered_df_filtered_shorten.iloc[20145][\"answer\"])"
   ]
  },
  {
   "cell_type": "code",
   "execution_count": null,
   "id": "11490345",
   "metadata": {},
   "outputs": [],
   "source": []
  },
  {
   "cell_type": "markdown",
   "id": "ec79cfa2",
   "metadata": {},
   "source": [
    "# measure llama3.2-1B-base model performance"
   ]
  },
  {
   "cell_type": "code",
   "execution_count": 178,
   "id": "5522fe01",
   "metadata": {},
   "outputs": [],
   "source": [
    "# eos_sft_df = pd.read_excel(\"/u/zliu/datastor1/mend/debug_exp_output/llama3.2-1B-eos-sft/syn_data_neurips_prefilter/base_n=17461_prompt=no_w-gen_wo-icl_ice=False.xlsx\")\n",
    "# eos_sft_df = pd.read_excel(\"/datastor1/zliu/mend/debug_exp_output/llama3.2-1B-eos-sft-template-format-lr2e-6-sample-5/syn_data_neurips_prefilter/base_n=17461_prompt=no_w-gen_wo-icl_ice=False.xlsx\")\n",
    "# eos_sft_df = pd.read_excel(\"/datastor1/zliu/mend/debug_exp_output/llama3.2-1B-eos-sft-template-format-lr2e-6-sample-10/syn_data_neurips_prefilter/base_n=17461_prompt=no_w-gen_wo-icl_ice=False.xlsx\")\n",
    "eos_sft_df = pd.read_excel(\"/datastor1/zliu/mend/debug_exp_output/llama3.2-1B-qa-sft-qa-additional/syn_data_neurips_curated_prefilter/base_n=4450_prompt=no_w-gen_wo-icl_ice=False.xlsx\")\n",
    "# eos_sft_df = pd.read_excel(\"/datastor1/zliu/mend/debug_exp_output/llama3.2-1B-eos-sft/syn_data_neurips_curated_prefilter/base_n=4452_prompt=no_w-gen_wo-icl_ice=False.xlsx\")"
   ]
  },
  {
   "cell_type": "code",
   "execution_count": 179,
   "id": "c9fd8307",
   "metadata": {},
   "outputs": [],
   "source": [
    "# pd.read_excel(\"/datastor1/zliu/mend/debug_exp_output/llama3.2-1B-eos-sft-template-format-v2-lr2e-6-sample-10/syn_data_neurips_prefilter_v2/base_n=19945_prompt=no_w-gen_wo-icl_ice=False.xlsx.bak\").describe()"
   ]
  },
  {
   "cell_type": "code",
   "execution_count": 180,
   "id": "438fb569",
   "metadata": {},
   "outputs": [],
   "source": [
    "llm_threshold = 0.4"
   ]
  },
  {
   "cell_type": "code",
   "execution_count": 181,
   "id": "5a46a781",
   "metadata": {},
   "outputs": [
    {
     "data": {
      "text/html": [
       "<div>\n",
       "<style scoped>\n",
       "    .dataframe tbody tr th:only-of-type {\n",
       "        vertical-align: middle;\n",
       "    }\n",
       "\n",
       "    .dataframe tbody tr th {\n",
       "        vertical-align: top;\n",
       "    }\n",
       "\n",
       "    .dataframe thead th {\n",
       "        text-align: right;\n",
       "    }\n",
       "</style>\n",
       "<table border=\"1\" class=\"dataframe\">\n",
       "  <thead>\n",
       "    <tr style=\"text-align: right;\">\n",
       "      <th></th>\n",
       "      <th>id</th>\n",
       "      <th>predicted_answer_idx</th>\n",
       "      <th>exact_match</th>\n",
       "      <th>llm_accuracy</th>\n",
       "    </tr>\n",
       "  </thead>\n",
       "  <tbody>\n",
       "    <tr>\n",
       "      <th>count</th>\n",
       "      <td>4450.000000</td>\n",
       "      <td>4450.0</td>\n",
       "      <td>4450.000000</td>\n",
       "      <td>4450.000000</td>\n",
       "    </tr>\n",
       "    <tr>\n",
       "      <th>mean</th>\n",
       "      <td>2224.500000</td>\n",
       "      <td>0.0</td>\n",
       "      <td>0.478427</td>\n",
       "      <td>0.700090</td>\n",
       "    </tr>\n",
       "    <tr>\n",
       "      <th>std</th>\n",
       "      <td>1284.748678</td>\n",
       "      <td>0.0</td>\n",
       "      <td>0.499591</td>\n",
       "      <td>0.398829</td>\n",
       "    </tr>\n",
       "    <tr>\n",
       "      <th>min</th>\n",
       "      <td>0.000000</td>\n",
       "      <td>0.0</td>\n",
       "      <td>0.000000</td>\n",
       "      <td>0.000000</td>\n",
       "    </tr>\n",
       "    <tr>\n",
       "      <th>25%</th>\n",
       "      <td>1112.250000</td>\n",
       "      <td>0.0</td>\n",
       "      <td>0.000000</td>\n",
       "      <td>0.300000</td>\n",
       "    </tr>\n",
       "    <tr>\n",
       "      <th>50%</th>\n",
       "      <td>2224.500000</td>\n",
       "      <td>0.0</td>\n",
       "      <td>0.000000</td>\n",
       "      <td>1.000000</td>\n",
       "    </tr>\n",
       "    <tr>\n",
       "      <th>75%</th>\n",
       "      <td>3336.750000</td>\n",
       "      <td>0.0</td>\n",
       "      <td>1.000000</td>\n",
       "      <td>1.000000</td>\n",
       "    </tr>\n",
       "    <tr>\n",
       "      <th>max</th>\n",
       "      <td>4449.000000</td>\n",
       "      <td>0.0</td>\n",
       "      <td>1.000000</td>\n",
       "      <td>1.000000</td>\n",
       "    </tr>\n",
       "  </tbody>\n",
       "</table>\n",
       "</div>"
      ],
      "text/plain": [
       "                id  predicted_answer_idx  exact_match  llm_accuracy\n",
       "count  4450.000000                4450.0  4450.000000   4450.000000\n",
       "mean   2224.500000                   0.0     0.478427      0.700090\n",
       "std    1284.748678                   0.0     0.499591      0.398829\n",
       "min       0.000000                   0.0     0.000000      0.000000\n",
       "25%    1112.250000                   0.0     0.000000      0.300000\n",
       "50%    2224.500000                   0.0     0.000000      1.000000\n",
       "75%    3336.750000                   0.0     1.000000      1.000000\n",
       "max    4449.000000                   0.0     1.000000      1.000000"
      ]
     },
     "execution_count": 181,
     "metadata": {},
     "output_type": "execute_result"
    }
   ],
   "source": [
    "eos_sft_df.describe()"
   ]
  },
  {
   "cell_type": "code",
   "execution_count": 182,
   "id": "2d3ec0fe",
   "metadata": {},
   "outputs": [
    {
     "data": {
      "text/plain": [
       "3174"
      ]
     },
     "execution_count": 182,
     "metadata": {},
     "output_type": "execute_result"
    }
   ],
   "source": [
    "len(eos_sft_df[eos_sft_df[\"llm_accuracy\"] > llm_threshold])"
   ]
  },
  {
   "cell_type": "code",
   "execution_count": 183,
   "id": "72744f64",
   "metadata": {},
   "outputs": [],
   "source": [
    "eos_sft_df_filtered = eos_sft_df[eos_sft_df[\"llm_accuracy\"] > llm_threshold]"
   ]
  },
  {
   "cell_type": "code",
   "execution_count": 184,
   "id": "fa8f8e17",
   "metadata": {},
   "outputs": [],
   "source": [
    "# Counter(eos_sft_df[eos_sft_df[\"template\"] == \"Where was {invention} created?\"][\"answer\"])"
   ]
  },
  {
   "cell_type": "code",
   "execution_count": 185,
   "id": "7daecb3f",
   "metadata": {},
   "outputs": [
    {
     "data": {
      "text/html": [
       "<div>\n",
       "<style scoped>\n",
       "    .dataframe tbody tr th:only-of-type {\n",
       "        vertical-align: middle;\n",
       "    }\n",
       "\n",
       "    .dataframe tbody tr th {\n",
       "        vertical-align: top;\n",
       "    }\n",
       "\n",
       "    .dataframe thead th {\n",
       "        text-align: right;\n",
       "    }\n",
       "</style>\n",
       "<table border=\"1\" class=\"dataframe\">\n",
       "  <thead>\n",
       "    <tr style=\"text-align: right;\">\n",
       "      <th></th>\n",
       "      <th>id</th>\n",
       "      <th>predicted_answer_idx</th>\n",
       "      <th>exact_match</th>\n",
       "      <th>llm_accuracy</th>\n",
       "    </tr>\n",
       "  </thead>\n",
       "  <tbody>\n",
       "    <tr>\n",
       "      <th>count</th>\n",
       "      <td>3174.000000</td>\n",
       "      <td>3174.0</td>\n",
       "      <td>3174.000000</td>\n",
       "      <td>3174.000000</td>\n",
       "    </tr>\n",
       "    <tr>\n",
       "      <th>mean</th>\n",
       "      <td>2312.447070</td>\n",
       "      <td>0.0</td>\n",
       "      <td>0.670762</td>\n",
       "      <td>0.937650</td>\n",
       "    </tr>\n",
       "    <tr>\n",
       "      <th>std</th>\n",
       "      <td>1328.471861</td>\n",
       "      <td>0.0</td>\n",
       "      <td>0.470010</td>\n",
       "      <td>0.133359</td>\n",
       "    </tr>\n",
       "    <tr>\n",
       "      <th>min</th>\n",
       "      <td>2.000000</td>\n",
       "      <td>0.0</td>\n",
       "      <td>0.000000</td>\n",
       "      <td>0.500000</td>\n",
       "    </tr>\n",
       "    <tr>\n",
       "      <th>25%</th>\n",
       "      <td>1135.000000</td>\n",
       "      <td>0.0</td>\n",
       "      <td>0.000000</td>\n",
       "      <td>1.000000</td>\n",
       "    </tr>\n",
       "    <tr>\n",
       "      <th>50%</th>\n",
       "      <td>2368.500000</td>\n",
       "      <td>0.0</td>\n",
       "      <td>1.000000</td>\n",
       "      <td>1.000000</td>\n",
       "    </tr>\n",
       "    <tr>\n",
       "      <th>75%</th>\n",
       "      <td>3504.000000</td>\n",
       "      <td>0.0</td>\n",
       "      <td>1.000000</td>\n",
       "      <td>1.000000</td>\n",
       "    </tr>\n",
       "    <tr>\n",
       "      <th>max</th>\n",
       "      <td>4448.000000</td>\n",
       "      <td>0.0</td>\n",
       "      <td>1.000000</td>\n",
       "      <td>1.000000</td>\n",
       "    </tr>\n",
       "  </tbody>\n",
       "</table>\n",
       "</div>"
      ],
      "text/plain": [
       "                id  predicted_answer_idx  exact_match  llm_accuracy\n",
       "count  3174.000000                3174.0  3174.000000   3174.000000\n",
       "mean   2312.447070                   0.0     0.670762      0.937650\n",
       "std    1328.471861                   0.0     0.470010      0.133359\n",
       "min       2.000000                   0.0     0.000000      0.500000\n",
       "25%    1135.000000                   0.0     0.000000      1.000000\n",
       "50%    2368.500000                   0.0     1.000000      1.000000\n",
       "75%    3504.000000                   0.0     1.000000      1.000000\n",
       "max    4448.000000                   0.0     1.000000      1.000000"
      ]
     },
     "execution_count": 185,
     "metadata": {},
     "output_type": "execute_result"
    }
   ],
   "source": [
    "eos_sft_df_filtered.describe()"
   ]
  },
  {
   "cell_type": "code",
   "execution_count": 186,
   "id": "1833018a",
   "metadata": {},
   "outputs": [
    {
     "data": {
      "text/plain": [
       "Text(0.5, 1.0, 'LLM Accuracy Distribution (without filtering)')"
      ]
     },
     "execution_count": 186,
     "metadata": {},
     "output_type": "execute_result"
    },
    {
     "data": {
      "image/png": "[encoded data removed]",
      "text/plain": [
       "<Figure size 640x480 with 1 Axes>"
      ]
     },
     "metadata": {},
     "output_type": "display_data"
    }
   ],
   "source": [
    "plt.hist(eos_sft_df[\"llm_accuracy\"])\n",
    "plt.xlabel(\"LLM Accuracy\")\n",
    "plt.ylabel(\"# question\")\n",
    "plt.title(\"LLM Accuracy Distribution (without filtering)\")"
   ]
  },
  {
   "cell_type": "code",
   "execution_count": 148,
   "id": "9477cecd",
   "metadata": {},
   "outputs": [
    {
     "data": {
      "text/plain": [
       "4450"
      ]
     },
     "execution_count": 148,
     "metadata": {},
     "output_type": "execute_result"
    }
   ],
   "source": [
    "len(eos_sft_df[\"answer\"].to_list())"
   ]
  },
  {
   "cell_type": "code",
   "execution_count": 149,
   "id": "95f08a6b",
   "metadata": {},
   "outputs": [
    {
     "data": {
      "text/plain": [
       "[54, 32929, 11, 1650, 54967, 388, 11, 43448, 11, 15749]"
      ]
     },
     "execution_count": 149,
     "metadata": {},
     "output_type": "execute_result"
    }
   ],
   "source": [
    "vars.GPT_4_TOKENIZER(\"Writers, calligraphers, enthusiasts, professionals\")"
   ]
  },
  {
   "cell_type": "code",
   "execution_count": 150,
   "id": "35334487",
   "metadata": {},
   "outputs": [],
   "source": [
    "# [a for a in eos_sft_df_filtered[\"answer\"].to_list() if len(a) == 96]"
   ]
  },
  {
   "cell_type": "code",
   "execution_count": 151,
   "id": "06e42394",
   "metadata": {},
   "outputs": [],
   "source": [
    "# [a for a in eos_sft_df_filtered[\"answer\"].to_list() if len(vars.GPT_4_TOKENIZER(str(a))) >= 10]"
   ]
  },
  {
   "cell_type": "code",
   "execution_count": null,
   "id": "4900cfd8",
   "metadata": {},
   "outputs": [],
   "source": []
  },
  {
   "cell_type": "code",
   "execution_count": 152,
   "id": "1a773b73",
   "metadata": {},
   "outputs": [],
   "source": [
    "# Counter(eos_sft_df_filtered[eos_sft_df_filtered[\"answer\"].apply(lambda x: len(str(x)) > 30)][\"template\"])"
   ]
  },
  {
   "cell_type": "code",
   "execution_count": 153,
   "id": "8819c9b1",
   "metadata": {},
   "outputs": [],
   "source": [
    "# [a for a in eos_sft_df[\"answer\"].to_list() if len(str(a)) == 30]"
   ]
  },
  {
   "cell_type": "code",
   "execution_count": 154,
   "id": "27ce933a",
   "metadata": {},
   "outputs": [
    {
     "data": {
      "text/plain": [
       "Text(0.5, 1.0, 'Answer Length Distribution (without filtering)')"
      ]
     },
     "execution_count": 154,
     "metadata": {},
     "output_type": "execute_result"
    },
    {
     "data": {
      "image/png": "[encoded data removed]",
      "text/plain": [
       "<Figure size 640x480 with 1 Axes>"
      ]
     },
     "metadata": {},
     "output_type": "display_data"
    }
   ],
   "source": [
    "plt.hist([float(len(str(a))) for a in eos_sft_df[\"answer\"].to_list()])\n",
    "plt.xlabel(\"Answer Length\")\n",
    "plt.ylabel(\"# question\")\n",
    "plt.title(\"Answer Length Distribution (without filtering)\")"
   ]
  },
  {
   "cell_type": "code",
   "execution_count": 155,
   "id": "5198c8dd",
   "metadata": {},
   "outputs": [],
   "source": [
    "eos_entity_type2count = {}\n",
    "eos_entity_type2acc = {}\n",
    "eos_entity_type2length = {}\n",
    "eos_template2entity_names = defaultdict(list)\n",
    "\n",
    "for i, d in eos_sft_df_filtered.iterrows():\n",
    "    if d[\"entity_type\"] not in eos_entity_type2count:\n",
    "        eos_entity_type2count[d[\"entity_type\"]] = defaultdict(int)\n",
    "        eos_entity_type2acc[d[\"entity_type\"]] = defaultdict(int)\n",
    "        eos_entity_type2length[d[\"entity_type\"]] = defaultdict(int)\n",
    "        \n",
    "    eos_entity_type2count[d[\"entity_type\"]][d[\"template\"]] += 1\n",
    "    eos_template2entity_names[d[\"template\"]].append(d[\"entity_name\"])\n",
    "    eos_entity_type2acc[d[\"entity_type\"]][d[\"template\"]] += d[\"llm_accuracy\"]\n",
    "    eos_entity_type2length[d[\"entity_type\"]][d[\"template\"]] += len(vars.GPT_4_TOKENIZER(str(d[\"answer\"]).strip()))\n",
    "        "
   ]
  },
  {
   "cell_type": "code",
   "execution_count": 156,
   "id": "adfcfaf4",
   "metadata": {},
   "outputs": [],
   "source": [
    "# bad_question_templates = [\"How many children did {person} have?\", \"What language family does {language} belong to?\", \"What is the national flower of {country}?\", \"When did {country} join the United Nations?\", \"What triggered {event}?\", \"What is the national anthem of {country} called?\", \"What is the date of {country}’s national day or independence day?\", \"What is the founding year of {country}?\", \"What legal system does {country} use?\", \"Which side is considered to have \\\"won\\\" {event}?\", \"What is the diet of {species}?\"]\n",
    "bad_question_templates = []\n",
    "bad_entity_types = []"
   ]
  },
  {
   "cell_type": "code",
   "execution_count": 157,
   "id": "6111d4e6",
   "metadata": {},
   "outputs": [],
   "source": [
    "# eos_template2entity_names"
   ]
  },
  {
   "cell_type": "code",
   "execution_count": 158,
   "id": "cfd70840",
   "metadata": {},
   "outputs": [
    {
     "name": "stdout",
     "output_type": "stream",
     "text": [
      "Person\n",
      "How many children did {person} have? : 0.9705882352941176 (count=17)\n",
      "What is the religion of {person}? : 0.9126984126984131 (count=63)\n",
      "What language was primarily spoken by {person}? : 0.9759036144578315 (count=83)\n",
      "What occupation is {person} most well-known for? : 0.9269230769230773 (count=78)\n",
      "What year did {person} pass away? : 1.0 (count=79)\n",
      "What year was {person} born? : 1.0 (count=81)\n",
      "Where did {person} die? : 0.9607843137254903 (count=51)\n",
      "Where was the birthplace of {person}? : 0.9522388059701493 (count=67)\n",
      "============================================================\n",
      "Organization\n",
      "In what year was {organization} established? : 1.0 (count=78)\n",
      "Where is the headquarters of {organization} located? : 0.9966292134831461 (count=89)\n",
      "Where was {organization} established? : 0.9860465116279071 (count=86)\n",
      "Who established {organization}? : 0.8999999999999999 (count=41)\n",
      "What is the primary field or industry of {organization}? : 0.9093457943925236 (count=107)\n",
      "What primary service or product does {organization} provide? : 0.8314814814814822 (count=108)\n",
      "============================================================\n",
      "Product\n",
      "What is the primary function of {product}? : 0.8767676767676773 (count=99)\n",
      "Who are the primary users of {product}? : 0.7600000000000007 (count=75)\n",
      "Who was the main inventor of {product}? : 0.9590909090909091 (count=44)\n",
      "When was {product} first introduced? : 0.8854166666666666 (count=48)\n",
      "Where was {product} developed? : 0.9580000000000001 (count=50)\n",
      "============================================================\n",
      "Creative Work\n",
      "What is the original language of {creative_work}? : 1.0 (count=105)\n",
      "What is the genre or style of {creative_work}? : 0.8242424242424246 (count=66)\n",
      "When was {creative_work} released or published? : 0.9396226415094339 (count=53)\n",
      "Who is the creator of {creative_work}? : 0.9965116279069768 (count=86)\n",
      "Where was {creative_work} produced or created? : 0.9558823529411765 (count=68)\n",
      "In which country was {creative_work} first released or published? : 1.0 (count=92)\n",
      "Who was the original distributor or publisher of {creative_work}? : 0.990909090909091 (count=33)\n",
      "============================================================\n",
      "Species\n",
      "What is the diet of {species}? : 0.6483870967741935 (count=62)\n",
      "What is the social structure of {species}? : 0.7142857142857147 (count=63)\n",
      "What type of organism is {species}? : 0.9538461538461541 (count=78)\n",
      "Where is {species} primarily native to? : 0.7590163934426233 (count=61)\n",
      "============================================================\n",
      "Language\n",
      "What is the ISO 639‑1 code for {language}? : 1.0 (count=38)\n",
      "What is the name of the alphabet or script of {language}? : 0.9611111111111114 (count=36)\n",
      "What is the primary word order in {language}? : 0.9874999999999999 (count=24)\n",
      "What language family does {language} belong to? : 0.9863636363636363 (count=22)\n",
      "What region is {language} native to? : 0.91875 (count=32)\n",
      "What writing system is used by {language}? : 0.9599999999999999 (count=35)\n",
      "============================================================\n",
      "Event\n",
      "What year did {event} end? : 1.0 (count=76)\n",
      "When did {event} take place? : 0.8988764044943823 (count=89)\n",
      "In which country did {event} happen? : 0.9887500000000001 (count=80)\n",
      "Who was the most important leader or figure involved in {event}? : 0.9894736842105264 (count=57)\n",
      "============================================================\n",
      "Country\n",
      "What is the capital of {country}? : 0.9933333333333333 (count=75)\n",
      "What language in {country} has the most speakers? : 0.9955882352941177 (count=68)\n",
      "What is the currency of {country}? : 0.9958333333333333 (count=72)\n",
      "Which ethnic group is the largest in {country}? : 0.9823529411764707 (count=51)\n",
      "Which religion has the most followers in {country}? : 0.9471428571428573 (count=70)\n",
      "What is the top-level internet domain for {country}? : 1.0 (count=71)\n",
      "What is the calling code for {country}? : 1.0 (count=75)\n",
      "What is the ISO alpha-2 code for {country}? : 1.0 (count=75)\n",
      "============================================================\n"
     ]
    }
   ],
   "source": [
    "counts = []\n",
    "spotcheck_df_content = []\n",
    "count_threshold = 0\n",
    "entity_type2template_count = defaultdict(int)\n",
    "\n",
    "\n",
    "for entity_type in eos_entity_type2count.keys():\n",
    "    if entity_type in bad_entity_types:\n",
    "        continue\n",
    "    print(entity_type)\n",
    "    for template in eos_entity_type2count[entity_type].keys():\n",
    "        if template in bad_question_templates:\n",
    "            continue\n",
    "    \n",
    "        acc_sum = eos_entity_type2acc[entity_type][template]\n",
    "        count = eos_entity_type2count[entity_type][template]\n",
    "        counts.append(count)\n",
    "        \n",
    "        acc = acc_sum / count\n",
    "        spotcheck_df_content.append({\n",
    "            \"entity_type\": entity_type,\n",
    "            \"template\": template,\n",
    "            \"count\": count,\n",
    "            \"accuracy\": acc,\n",
    "        })\n",
    "        if count > count_threshold:\n",
    "            entity_type2template_count[entity_type] += 1\n",
    "            print(template, \":\", acc, f\"(count={count})\")\n",
    "    print(\"===\" * 20)"
   ]
  },
  {
   "cell_type": "code",
   "execution_count": 159,
   "id": "da235ad5",
   "metadata": {},
   "outputs": [],
   "source": [
    "from itertools import combinations\n",
    "\n",
    "def find_largest_intersection_at_least_m_sets(sets, m):\n",
    "    \"\"\"\n",
    "    Find the largest intersection set using at least m sets from the given list of K sets.\n",
    "    \n",
    "    Args:\n",
    "        sets: A list of sets, each containing elements\n",
    "        m: Minimum number of sets to use for the intersection\n",
    "    \n",
    "    Returns:\n",
    "        A tuple containing:\n",
    "        - The largest intersection set\n",
    "        - A list of indices of the sets that produce this largest intersection\n",
    "    \"\"\"\n",
    "    if not sets or m <= 0 or m > len(sets):\n",
    "        return set(), []  # Invalid input\n",
    "    \n",
    "    max_intersection_size = -1\n",
    "    max_intersection_set = set()\n",
    "    max_intersection_indices = []\n",
    "    \n",
    "    # Try finding the largest intersection with exactly j sets where j ranges from m to K\n",
    "    for j in range(m, len(sets) + 1):\n",
    "        # Try all combinations of j sets from the K sets\n",
    "        for indices in combinations(range(len(sets)), j):\n",
    "            # Calculate the intersection of the selected j sets\n",
    "            selected_sets = [sets[i] for i in indices]\n",
    "            intersection = set.intersection(*selected_sets)\n",
    "            \n",
    "            # Update maximum if this intersection is larger\n",
    "            if len(intersection) > max_intersection_size:\n",
    "                max_intersection_size = len(intersection)\n",
    "                max_intersection_set = intersection\n",
    "                max_intersection_indices = list(indices)\n",
    "    \n",
    "    return max_intersection_set, max_intersection_indices"
   ]
  },
  {
   "cell_type": "code",
   "execution_count": null,
   "id": "cb2a57fd",
   "metadata": {},
   "outputs": [],
   "source": []
  },
  {
   "cell_type": "code",
   "execution_count": null,
   "id": "7c2b6db9",
   "metadata": {},
   "outputs": [],
   "source": []
  },
  {
   "cell_type": "code",
   "execution_count": null,
   "id": "1c4efb0b",
   "metadata": {},
   "outputs": [],
   "source": []
  },
  {
   "cell_type": "code",
   "execution_count": 160,
   "id": "f75d781d",
   "metadata": {},
   "outputs": [
    {
     "name": "stdout",
     "output_type": "stream",
     "text": [
      "25 4\n"
     ]
    }
   ],
   "source": [
    "set_list = [set(eos_template2entity_names[template]) for template in entity_type2templates[\"Species\"]]\n",
    "\n",
    "largest_overlap, set_ids = find_largest_intersection_at_least_m_sets(set_list, 4)\n",
    "print(len(largest_overlap), len(set_ids), )"
   ]
  },
  {
   "cell_type": "code",
   "execution_count": 161,
   "id": "9bd75960",
   "metadata": {},
   "outputs": [],
   "source": [
    "# [set(eos_template2entity_names[template]) for template in entity_type2templates[\"Species\"]]"
   ]
  },
  {
   "cell_type": "code",
   "execution_count": 162,
   "id": "c888411d",
   "metadata": {},
   "outputs": [
    {
     "data": {
      "text/plain": [
       "25"
      ]
     },
     "execution_count": 162,
     "metadata": {},
     "output_type": "execute_result"
    }
   ],
   "source": [
    "sanity_check_set = set_list[set_ids[0]]\n",
    "for i in range(1, len(set_ids)):\n",
    "    sanity_check_set = sanity_check_set.intersection(set_list[set_ids[i]])\n",
    "len(sanity_check_set)"
   ]
  },
  {
   "cell_type": "code",
   "execution_count": 163,
   "id": "bd34e673",
   "metadata": {},
   "outputs": [],
   "source": [
    "max_rel_config = dict([\n",
    "    (\"Person\", 6),\n",
    "    (\"Event\", 4),\n",
    "    (\"Species\", 4),\n",
    "    (\"Language\", 4),\n",
    "    (\"Organization\", 6),\n",
    "    (\"Creative Work\", 6),\n",
    "    (\"Country\", 8),]\n",
    ")"
   ]
  },
  {
   "cell_type": "code",
   "execution_count": 164,
   "id": "c7a57ecc",
   "metadata": {},
   "outputs": [],
   "source": [
    "max_entity_config = [\n",
    "    (\"Person\", 4),\n",
    "    (\"Event\", 4),\n",
    "    (\"Species\", 4),\n",
    "    (\"Language\", 4),\n",
    "    (\"Organization\", 4),\n",
    "    (\"Creative Work\", 4),\n",
    "    (\"Country\", 4),\n",
    "]"
   ]
  },
  {
   "cell_type": "code",
   "execution_count": 165,
   "id": "9e047143",
   "metadata": {},
   "outputs": [
    {
     "data": {
      "text/plain": [
       "Index(['id', 'question_type', 'template', 'entity_name', 'entity_type',\n",
       "       'input', 'stage', 'question', 'answer', 'predicted_answer_idx',\n",
       "       'predicted_answer', 'exact_match', 'llm_accuracy'],\n",
       "      dtype='object')"
      ]
     },
     "execution_count": 165,
     "metadata": {},
     "output_type": "execute_result"
    }
   ],
   "source": [
    "eos_sft_df_filtered.columns"
   ]
  },
  {
   "cell_type": "code",
   "execution_count": 176,
   "id": "f9c1731f",
   "metadata": {},
   "outputs": [
    {
     "name": "stdout",
     "output_type": "stream",
     "text": [
      "Person\n",
      "# entity: 24\n",
      "# templates: 6\n",
      "Event\n",
      "# entity: 33\n",
      "# templates: 4\n",
      "Species\n",
      "# entity: 25\n",
      "# templates: 4\n",
      "Language\n",
      "# entity: 29\n",
      "# templates: 4\n",
      "Organization\n",
      "# entity: 20\n",
      "# templates: 6\n",
      "Creative Work\n",
      "# entity: 20\n",
      "# templates: 6\n",
      "Country\n",
      "# entity: 38\n",
      "# templates: 8\n",
      "============================================================\n",
      "# total entity: 189\n",
      "# total relation: 38\n"
     ]
    }
   ],
   "source": [
    "entity2nrel = max_rel_config\n",
    "n_entity = 0\n",
    "n_rel = 0\n",
    "entity_type2filtered_entities = {}\n",
    "entity_type2filtered_templates = {}\n",
    "prefinalized_df_content = []\n",
    "\n",
    "for entity_type, entity_templates in entity_type2templates.items():\n",
    "    if entity_type not in entity2nrel:\n",
    "        continue\n",
    "    print(entity_type)\n",
    "    entity_set_list = [set(eos_template2entity_names[template]) for template in entity_templates]\n",
    "    largest_entity_overlap, largest_entity_set_ids = find_largest_intersection_at_least_m_sets(entity_set_list, entity2nrel[entity_type])\n",
    "    entity_type2filtered_entities[entity_type] = largest_entity_overlap\n",
    "    entity_type2filtered_templates[entity_type] = [entity_templates[i] for i in largest_entity_set_ids]\n",
    "    prefinalized_df_content.append(\n",
    "        eos_sft_df_filtered[(eos_sft_df_filtered[\"entity_type\"] == entity_type) & (eos_sft_df_filtered[\"entity_name\"].isin(largest_entity_overlap)) & (eos_sft_df_filtered[\"template\"].isin(entity_type2filtered_templates[entity_type]))]\n",
    "    )\n",
    "    \n",
    "    n_entity += len(largest_entity_overlap)\n",
    "    n_rel += len(largest_entity_set_ids)\n",
    "    print(\"# entity:\", len(largest_entity_overlap))\n",
    "    print(\"# templates:\", len(largest_entity_set_ids))\n",
    "print(\"===\" * 20)\n",
    "\n",
    "print(\"# total entity:\", n_entity)\n",
    "print(\"# total relation:\", n_rel)\n",
    "prefinalized_df = pd.concat(prefinalized_df_content)"
   ]
  },
  {
   "cell_type": "code",
   "execution_count": 103,
   "id": "7b36856f",
   "metadata": {},
   "outputs": [],
   "source": [
    "# a_df = prefinalized_df[prefinalized_df[\"template\"] == \"What is the primary field or industry of {organization}?\"]"
   ]
  },
  {
   "cell_type": "code",
   "execution_count": 104,
   "id": "5112b635",
   "metadata": {},
   "outputs": [],
   "source": [
    "# list(zip(a_df[\"answer\"].to_list(), a_df[\"predicted_answer\"].to_list()))"
   ]
  },
  {
   "cell_type": "code",
   "execution_count": 105,
   "id": "dfe5daeb",
   "metadata": {},
   "outputs": [],
   "source": [
    "# prefinalized_df[\"template\"].unique()"
   ]
  },
  {
   "cell_type": "code",
   "execution_count": null,
   "id": "06cf4857",
   "metadata": {},
   "outputs": [],
   "source": [
    "# "
   ]
  },
  {
   "cell_type": "code",
   "execution_count": 107,
   "id": "a925131f",
   "metadata": {},
   "outputs": [
    {
     "data": {
      "text/plain": [
       "Text(0.5, 1.0, 'Answer Length Distribution (after filtering)')"
      ]
     },
     "execution_count": 107,
     "metadata": {},
     "output_type": "execute_result"
    },
    {
     "data": {
      "image/png": "[encoded data removed]",
      "text/plain": [
       "<Figure size 640x480 with 1 Axes>"
      ]
     },
     "metadata": {},
     "output_type": "display_data"
    }
   ],
   "source": [
    "plt.hist([float(len(vars.GPT_4_TOKENIZER(str(a)))) for a in prefinalized_df[\"answer\"].to_list()])\n",
    "plt.xlabel(\"Answer Length (in GPT-4 tokenizer)\")\n",
    "plt.ylabel(\"# question\")\n",
    "plt.title(\"Answer Length Distribution (after filtering)\")"
   ]
  },
  {
   "cell_type": "markdown",
   "id": "762b08be",
   "metadata": {},
   "source": []
  },
  {
   "cell_type": "code",
   "execution_count": 108,
   "id": "6612035c",
   "metadata": {},
   "outputs": [
    {
     "data": {
      "text/plain": [
       "0.0"
      ]
     },
     "execution_count": 108,
     "metadata": {},
     "output_type": "execute_result"
    }
   ],
   "source": [
    "float()"
   ]
  },
  {
   "cell_type": "code",
   "execution_count": 134,
   "id": "dea16c96",
   "metadata": {},
   "outputs": [],
   "source": [
    "spotcheck_df_content = []\n",
    "entity_spotcheck_df_content = []\n",
    "\n",
    "question2answer = {}\n",
    "\n",
    "for (entity_type, template), sub_df in prefinalized_df.groupby([\"entity_type\", \"template\"]):\n",
    "    # pass\n",
    "    acc = np.mean(sub_df[\"llm_accuracy\"].to_list())\n",
    "    length = float(np.mean([len(vars.GPT_4_TOKENIZER(str(a))) for a in sub_df[\"answer\"].to_list()]))\n",
    "    count = len(sub_df)\n",
    "    # counts.append(count)\n",
    "    rand_idx = np.random.randint(len(sub_df))\n",
    "    for i, r in sub_df.iterrows():\n",
    "        entity_spotcheck_df_content.append({\n",
    "            \"entity_type\": entity_type,\n",
    "            \"entity_name\": r[\"entity_name\"],\n",
    "        })\n",
    "        # entity_type2entity_names_final[entity_type].append(r[\"entity_name\"])\n",
    "        # entity_type2templates_final[entity_type].append(r[\"template\"])\n",
    "        question2answer[r[\"question\"]] = r[\"answer\"]\n",
    "    \n",
    "    spotcheck_df_content.append({\n",
    "        \"entity_type\": entity_type,\n",
    "        \"template\": template,\n",
    "        \"# entity\": count,\n",
    "        \"avg_llm_accuracy\": acc,\n",
    "        \"avg_answer_len (in GPT4 tokens)\": length,\n",
    "        \"example_question\": sub_df.iloc[rand_idx][\"question\"],\n",
    "        \"example_answer\": sub_df.iloc[rand_idx][\"answer\"],\n",
    "        \"example_prediction\": sub_df.iloc[rand_idx][\"predicted_answer\"],\n",
    "    })"
   ]
  },
  {
   "cell_type": "code",
   "execution_count": 111,
   "id": "3545da33",
   "metadata": {},
   "outputs": [],
   "source": [
    "# entity_type2templates_final = {et: list(set(ts)) for et, ts in entity_type2templates_final.items()}"
   ]
  },
  {
   "cell_type": "code",
   "execution_count": 173,
   "id": "2ffe052a",
   "metadata": {},
   "outputs": [
    {
     "data": {
      "text/plain": [
       "1036"
      ]
     },
     "execution_count": 173,
     "metadata": {},
     "output_type": "execute_result"
    }
   ],
   "source": [
    "len(question2answer)"
   ]
  },
  {
   "cell_type": "code",
   "execution_count": 174,
   "id": "e30da2ec",
   "metadata": {},
   "outputs": [
    {
     "data": {
      "text/html": [
       "<div>\n",
       "<style scoped>\n",
       "    .dataframe tbody tr th:only-of-type {\n",
       "        vertical-align: middle;\n",
       "    }\n",
       "\n",
       "    .dataframe tbody tr th {\n",
       "        vertical-align: top;\n",
       "    }\n",
       "\n",
       "    .dataframe thead th {\n",
       "        text-align: right;\n",
       "    }\n",
       "</style>\n",
       "<table border=\"1\" class=\"dataframe\">\n",
       "  <thead>\n",
       "    <tr style=\"text-align: right;\">\n",
       "      <th></th>\n",
       "      <th>id</th>\n",
       "      <th>question_type</th>\n",
       "      <th>template</th>\n",
       "      <th>entity_name</th>\n",
       "      <th>entity_type</th>\n",
       "      <th>input</th>\n",
       "      <th>stage</th>\n",
       "      <th>question</th>\n",
       "      <th>answer</th>\n",
       "      <th>predicted_answer_idx</th>\n",
       "      <th>predicted_answer</th>\n",
       "      <th>exact_match</th>\n",
       "      <th>llm_accuracy</th>\n",
       "    </tr>\n",
       "  </thead>\n",
       "  <tbody>\n",
       "    <tr>\n",
       "      <th>93</th>\n",
       "      <td>93</td>\n",
       "      <td>ood_specificity</td>\n",
       "      <td>What is the religion of {person}?</td>\n",
       "      <td>Napoleon Bonaparte</td>\n",
       "      <td>Person</td>\n",
       "      <td>[[What is the religion of Napoleon Bonaparte?]]</td>\n",
       "      <td>pre-edit</td>\n",
       "      <td>What is the religion of Napoleon Bonaparte?</td>\n",
       "      <td>Roman Catholicism</td>\n",
       "      <td>0</td>\n",
       "      <td>Roman Catholicism</td>\n",
       "      <td>1</td>\n",
       "      <td>1.0</td>\n",
       "    </tr>\n",
       "    <tr>\n",
       "      <th>95</th>\n",
       "      <td>95</td>\n",
       "      <td>ood_specificity</td>\n",
       "      <td>What is the religion of {person}?</td>\n",
       "      <td>Vincent van Gogh</td>\n",
       "      <td>Person</td>\n",
       "      <td>[[What is the religion of Vincent van Gogh?]]</td>\n",
       "      <td>pre-edit</td>\n",
       "      <td>What is the religion of Vincent van Gogh?</td>\n",
       "      <td>Christian (Protestant)</td>\n",
       "      <td>0</td>\n",
       "      <td>Christianity</td>\n",
       "      <td>0</td>\n",
       "      <td>0.7</td>\n",
       "    </tr>\n",
       "    <tr>\n",
       "      <th>97</th>\n",
       "      <td>97</td>\n",
       "      <td>ood_specificity</td>\n",
       "      <td>What is the religion of {person}?</td>\n",
       "      <td>Henry VIII</td>\n",
       "      <td>Person</td>\n",
       "      <td>[[What is the religion of Henry VIII?]]</td>\n",
       "      <td>pre-edit</td>\n",
       "      <td>What is the religion of Henry VIII?</td>\n",
       "      <td>Christianity (Anglicanism)</td>\n",
       "      <td>0</td>\n",
       "      <td>Christianity</td>\n",
       "      <td>0</td>\n",
       "      <td>0.5</td>\n",
       "    </tr>\n",
       "    <tr>\n",
       "      <th>104</th>\n",
       "      <td>104</td>\n",
       "      <td>ood_specificity</td>\n",
       "      <td>What is the religion of {person}?</td>\n",
       "      <td>Eleanor Roosevelt</td>\n",
       "      <td>Person</td>\n",
       "      <td>[[What is the religion of Eleanor Roosevelt?]]</td>\n",
       "      <td>pre-edit</td>\n",
       "      <td>What is the religion of Eleanor Roosevelt?</td>\n",
       "      <td>Episcopalian Christianity</td>\n",
       "      <td>0</td>\n",
       "      <td>Episcopalian</td>\n",
       "      <td>0</td>\n",
       "      <td>1.0</td>\n",
       "    </tr>\n",
       "    <tr>\n",
       "      <th>105</th>\n",
       "      <td>105</td>\n",
       "      <td>ood_specificity</td>\n",
       "      <td>What is the religion of {person}?</td>\n",
       "      <td>Mother Teresa</td>\n",
       "      <td>Person</td>\n",
       "      <td>[[What is the religion of Mother Teresa?]]</td>\n",
       "      <td>pre-edit</td>\n",
       "      <td>What is the religion of Mother Teresa?</td>\n",
       "      <td>Roman Catholic Christianity</td>\n",
       "      <td>0</td>\n",
       "      <td>Roman Catholicism</td>\n",
       "      <td>0</td>\n",
       "      <td>1.0</td>\n",
       "    </tr>\n",
       "    <tr>\n",
       "      <th>...</th>\n",
       "      <td>...</td>\n",
       "      <td>...</td>\n",
       "      <td>...</td>\n",
       "      <td>...</td>\n",
       "      <td>...</td>\n",
       "      <td>...</td>\n",
       "      <td>...</td>\n",
       "      <td>...</td>\n",
       "      <td>...</td>\n",
       "      <td>...</td>\n",
       "      <td>...</td>\n",
       "      <td>...</td>\n",
       "      <td>...</td>\n",
       "    </tr>\n",
       "    <tr>\n",
       "      <th>4440</th>\n",
       "      <td>4440</td>\n",
       "      <td>ood_specificity</td>\n",
       "      <td>What is the ISO alpha-2 code for {country}?</td>\n",
       "      <td>Azerbaijan</td>\n",
       "      <td>Country</td>\n",
       "      <td>[[What is the ISO alpha-2 code for Azerbaijan?]]</td>\n",
       "      <td>pre-edit</td>\n",
       "      <td>What is the ISO alpha-2 code for Azerbaijan?</td>\n",
       "      <td>AZ</td>\n",
       "      <td>0</td>\n",
       "      <td>AZ</td>\n",
       "      <td>1</td>\n",
       "      <td>1.0</td>\n",
       "    </tr>\n",
       "    <tr>\n",
       "      <th>4441</th>\n",
       "      <td>4441</td>\n",
       "      <td>ood_specificity</td>\n",
       "      <td>What is the ISO alpha-2 code for {country}?</td>\n",
       "      <td>Germany</td>\n",
       "      <td>Country</td>\n",
       "      <td>[[What is the ISO alpha-2 code for Germany?]]</td>\n",
       "      <td>pre-edit</td>\n",
       "      <td>What is the ISO alpha-2 code for Germany?</td>\n",
       "      <td>DE</td>\n",
       "      <td>0</td>\n",
       "      <td>DE</td>\n",
       "      <td>1</td>\n",
       "      <td>1.0</td>\n",
       "    </tr>\n",
       "    <tr>\n",
       "      <th>4442</th>\n",
       "      <td>4442</td>\n",
       "      <td>ood_specificity</td>\n",
       "      <td>What is the ISO alpha-2 code for {country}?</td>\n",
       "      <td>Greece</td>\n",
       "      <td>Country</td>\n",
       "      <td>[[What is the ISO alpha-2 code for Greece?]]</td>\n",
       "      <td>pre-edit</td>\n",
       "      <td>What is the ISO alpha-2 code for Greece?</td>\n",
       "      <td>GR</td>\n",
       "      <td>0</td>\n",
       "      <td>GR</td>\n",
       "      <td>1</td>\n",
       "      <td>1.0</td>\n",
       "    </tr>\n",
       "    <tr>\n",
       "      <th>4445</th>\n",
       "      <td>4445</td>\n",
       "      <td>ood_specificity</td>\n",
       "      <td>What is the ISO alpha-2 code for {country}?</td>\n",
       "      <td>Maldives</td>\n",
       "      <td>Country</td>\n",
       "      <td>[[What is the ISO alpha-2 code for Maldives?]]</td>\n",
       "      <td>pre-edit</td>\n",
       "      <td>What is the ISO alpha-2 code for Maldives?</td>\n",
       "      <td>MV</td>\n",
       "      <td>0</td>\n",
       "      <td>MV</td>\n",
       "      <td>1</td>\n",
       "      <td>1.0</td>\n",
       "    </tr>\n",
       "    <tr>\n",
       "      <th>4446</th>\n",
       "      <td>4446</td>\n",
       "      <td>ood_specificity</td>\n",
       "      <td>What is the ISO alpha-2 code for {country}?</td>\n",
       "      <td>Iceland</td>\n",
       "      <td>Country</td>\n",
       "      <td>[[What is the ISO alpha-2 code for Iceland?]]</td>\n",
       "      <td>pre-edit</td>\n",
       "      <td>What is the ISO alpha-2 code for Iceland?</td>\n",
       "      <td>IS</td>\n",
       "      <td>0</td>\n",
       "      <td>IS</td>\n",
       "      <td>1</td>\n",
       "      <td>1.0</td>\n",
       "    </tr>\n",
       "  </tbody>\n",
       "</table>\n",
       "<p>1036 rows × 13 columns</p>\n",
       "</div>"
      ],
      "text/plain": [
       "        id    question_type                                     template  \\\n",
       "93      93  ood_specificity            What is the religion of {person}?   \n",
       "95      95  ood_specificity            What is the religion of {person}?   \n",
       "97      97  ood_specificity            What is the religion of {person}?   \n",
       "104    104  ood_specificity            What is the religion of {person}?   \n",
       "105    105  ood_specificity            What is the religion of {person}?   \n",
       "...    ...              ...                                          ...   \n",
       "4440  4440  ood_specificity  What is the ISO alpha-2 code for {country}?   \n",
       "4441  4441  ood_specificity  What is the ISO alpha-2 code for {country}?   \n",
       "4442  4442  ood_specificity  What is the ISO alpha-2 code for {country}?   \n",
       "4445  4445  ood_specificity  What is the ISO alpha-2 code for {country}?   \n",
       "4446  4446  ood_specificity  What is the ISO alpha-2 code for {country}?   \n",
       "\n",
       "             entity_name entity_type  \\\n",
       "93    Napoleon Bonaparte      Person   \n",
       "95      Vincent van Gogh      Person   \n",
       "97            Henry VIII      Person   \n",
       "104    Eleanor Roosevelt      Person   \n",
       "105        Mother Teresa      Person   \n",
       "...                  ...         ...   \n",
       "4440          Azerbaijan     Country   \n",
       "4441             Germany     Country   \n",
       "4442              Greece     Country   \n",
       "4445            Maldives     Country   \n",
       "4446             Iceland     Country   \n",
       "\n",
       "                                                 input     stage  \\\n",
       "93     [[What is the religion of Napoleon Bonaparte?]]  pre-edit   \n",
       "95       [[What is the religion of Vincent van Gogh?]]  pre-edit   \n",
       "97             [[What is the religion of Henry VIII?]]  pre-edit   \n",
       "104     [[What is the religion of Eleanor Roosevelt?]]  pre-edit   \n",
       "105         [[What is the religion of Mother Teresa?]]  pre-edit   \n",
       "...                                                ...       ...   \n",
       "4440  [[What is the ISO alpha-2 code for Azerbaijan?]]  pre-edit   \n",
       "4441     [[What is the ISO alpha-2 code for Germany?]]  pre-edit   \n",
       "4442      [[What is the ISO alpha-2 code for Greece?]]  pre-edit   \n",
       "4445    [[What is the ISO alpha-2 code for Maldives?]]  pre-edit   \n",
       "4446     [[What is the ISO alpha-2 code for Iceland?]]  pre-edit   \n",
       "\n",
       "                                          question  \\\n",
       "93     What is the religion of Napoleon Bonaparte?   \n",
       "95       What is the religion of Vincent van Gogh?   \n",
       "97             What is the religion of Henry VIII?   \n",
       "104     What is the religion of Eleanor Roosevelt?   \n",
       "105         What is the religion of Mother Teresa?   \n",
       "...                                            ...   \n",
       "4440  What is the ISO alpha-2 code for Azerbaijan?   \n",
       "4441     What is the ISO alpha-2 code for Germany?   \n",
       "4442      What is the ISO alpha-2 code for Greece?   \n",
       "4445    What is the ISO alpha-2 code for Maldives?   \n",
       "4446     What is the ISO alpha-2 code for Iceland?   \n",
       "\n",
       "                           answer  predicted_answer_idx   predicted_answer  \\\n",
       "93              Roman Catholicism                     0  Roman Catholicism   \n",
       "95         Christian (Protestant)                     0       Christianity   \n",
       "97     Christianity (Anglicanism)                     0       Christianity   \n",
       "104     Episcopalian Christianity                     0       Episcopalian   \n",
       "105   Roman Catholic Christianity                     0  Roman Catholicism   \n",
       "...                           ...                   ...                ...   \n",
       "4440                           AZ                     0                 AZ   \n",
       "4441                           DE                     0                 DE   \n",
       "4442                           GR                     0                 GR   \n",
       "4445                           MV                     0                 MV   \n",
       "4446                           IS                     0                 IS   \n",
       "\n",
       "      exact_match  llm_accuracy  \n",
       "93              1           1.0  \n",
       "95              0           0.7  \n",
       "97              0           0.5  \n",
       "104             0           1.0  \n",
       "105             0           1.0  \n",
       "...           ...           ...  \n",
       "4440            1           1.0  \n",
       "4441            1           1.0  \n",
       "4442            1           1.0  \n",
       "4445            1           1.0  \n",
       "4446            1           1.0  \n",
       "\n",
       "[1036 rows x 13 columns]"
      ]
     },
     "execution_count": 174,
     "metadata": {},
     "output_type": "execute_result"
    }
   ],
   "source": [
    "prefinalized_df"
   ]
  },
  {
   "cell_type": "code",
   "execution_count": 175,
   "id": "2d3c46bf",
   "metadata": {},
   "outputs": [],
   "source": [
    "prefinalized_df.to_excel(\n",
    "    f\"{vars.DATA_DIR}/debug_meta_train/syn_data_neurips/data_gen/entity_type_name_template_v1_curated_answered_postfiltered.xlsx\",\n",
    "    index=False,\n",
    ")"
   ]
  },
  {
   "cell_type": "code",
   "execution_count": null,
   "id": "21d096d6",
   "metadata": {},
   "outputs": [],
   "source": [
    "spotcheck_df = pd.DataFrame(spotcheck_df_content)\n",
    "entity_spotcheck_df = pd.DataFrame(entity_spotcheck_df_content).drop_duplicates()\n",
    "spotcheck_df = spotcheck_df.set_index([\"entity_type\", \"template\"], drop=True)\n",
    "entity_spotcheck_df = entity_spotcheck_df.set_index([\"entity_type\",], drop=True)"
   ]
  },
  {
   "cell_type": "code",
   "execution_count": null,
   "id": "2ea8097e",
   "metadata": {},
   "outputs": [
    {
     "data": {
      "text/html": [
       "<div>\n",
       "<style scoped>\n",
       "    .dataframe tbody tr th:only-of-type {\n",
       "        vertical-align: middle;\n",
       "    }\n",
       "\n",
       "    .dataframe tbody tr th {\n",
       "        vertical-align: top;\n",
       "    }\n",
       "\n",
       "    .dataframe thead th {\n",
       "        text-align: right;\n",
       "    }\n",
       "</style>\n",
       "<table border=\"1\" class=\"dataframe\">\n",
       "  <thead>\n",
       "    <tr style=\"text-align: right;\">\n",
       "      <th></th>\n",
       "      <th></th>\n",
       "      <th># entity</th>\n",
       "      <th>avg_llm_accuracy</th>\n",
       "      <th>avg_answer_len (in GPT4 tokens)</th>\n",
       "      <th>example_question</th>\n",
       "      <th>example_answer</th>\n",
       "      <th>example_prediction</th>\n",
       "    </tr>\n",
       "    <tr>\n",
       "      <th>entity_type</th>\n",
       "      <th>template</th>\n",
       "      <th></th>\n",
       "      <th></th>\n",
       "      <th></th>\n",
       "      <th></th>\n",
       "      <th></th>\n",
       "      <th></th>\n",
       "    </tr>\n",
       "  </thead>\n",
       "  <tbody>\n",
       "    <tr>\n",
       "      <th rowspan=\"8\" valign=\"top\">Country</th>\n",
       "      <th>What is the ISO alpha-2 code for {country}?</th>\n",
       "      <td>36</td>\n",
       "      <td>1.000000</td>\n",
       "      <td>1.027778</td>\n",
       "      <td>What is the ISO alpha-2 code for Nigeria?</td>\n",
       "      <td>NG</td>\n",
       "      <td>NG</td>\n",
       "    </tr>\n",
       "    <tr>\n",
       "      <th>What is the calling code for {country}?</th>\n",
       "      <td>36</td>\n",
       "      <td>1.000000</td>\n",
       "      <td>2.000000</td>\n",
       "      <td>What is the calling code for Armenia?</td>\n",
       "      <td>+374</td>\n",
       "      <td>+374</td>\n",
       "    </tr>\n",
       "    <tr>\n",
       "      <th>What is the capital of {country}?</th>\n",
       "      <td>36</td>\n",
       "      <td>1.000000</td>\n",
       "      <td>2.277778</td>\n",
       "      <td>What is the capital of Turkey?</td>\n",
       "      <td>Ankara</td>\n",
       "      <td>Ankara</td>\n",
       "    </tr>\n",
       "    <tr>\n",
       "      <th>What is the currency of {country}?</th>\n",
       "      <td>36</td>\n",
       "      <td>0.983333</td>\n",
       "      <td>3.611111</td>\n",
       "      <td>What is the currency of Vietnam?</td>\n",
       "      <td>Vietnamese dong</td>\n",
       "      <td>Dong</td>\n",
       "    </tr>\n",
       "    <tr>\n",
       "      <th>What is the top-level internet domain for {country}?</th>\n",
       "      <td>36</td>\n",
       "      <td>1.000000</td>\n",
       "      <td>1.138889</td>\n",
       "      <td>What is the top-level internet domain for Spain?</td>\n",
       "      <td>.es</td>\n",
       "      <td>.es</td>\n",
       "    </tr>\n",
       "    <tr>\n",
       "      <th>What language in {country} has the most speakers?</th>\n",
       "      <td>36</td>\n",
       "      <td>0.991667</td>\n",
       "      <td>2.250000</td>\n",
       "      <td>What language in Kenya has the most speakers?</td>\n",
       "      <td>Swahili</td>\n",
       "      <td>Swahili</td>\n",
       "    </tr>\n",
       "    <tr>\n",
       "      <th>Which ethnic group is the largest in {country}?</th>\n",
       "      <td>36</td>\n",
       "      <td>0.975000</td>\n",
       "      <td>2.694444</td>\n",
       "      <td>Which ethnic group is the largest in Thailand?</td>\n",
       "      <td>Thai</td>\n",
       "      <td>Thai</td>\n",
       "    </tr>\n",
       "    <tr>\n",
       "      <th>Which religion has the most followers in {country}?</th>\n",
       "      <td>36</td>\n",
       "      <td>0.975000</td>\n",
       "      <td>2.388889</td>\n",
       "      <td>Which religion has the most followers in Norway?</td>\n",
       "      <td>Christianity</td>\n",
       "      <td>Christianity</td>\n",
       "    </tr>\n",
       "    <tr>\n",
       "      <th rowspan=\"6\" valign=\"top\">Creative Work</th>\n",
       "      <th>In which country was {creative_work} first released or published?</th>\n",
       "      <td>21</td>\n",
       "      <td>1.000000</td>\n",
       "      <td>1.619048</td>\n",
       "      <td>In which country was Amélie first released or ...</td>\n",
       "      <td>France</td>\n",
       "      <td>France</td>\n",
       "    </tr>\n",
       "    <tr>\n",
       "      <th>What is the genre or style of {creative_work}?</th>\n",
       "      <td>21</td>\n",
       "      <td>0.790476</td>\n",
       "      <td>4.761905</td>\n",
       "      <td>What is the genre or style of The Brothers Kar...</td>\n",
       "      <td>Philosophical, psychological fiction</td>\n",
       "      <td>Psychological drama</td>\n",
       "    </tr>\n",
       "    <tr>\n",
       "      <th>What is the original language of {creative_work}?</th>\n",
       "      <td>21</td>\n",
       "      <td>1.000000</td>\n",
       "      <td>1.047619</td>\n",
       "      <td>What is the original language of The Grapes of...</td>\n",
       "      <td>English</td>\n",
       "      <td>English</td>\n",
       "    </tr>\n",
       "    <tr>\n",
       "      <th>When was {creative_work} released or published?</th>\n",
       "      <td>21</td>\n",
       "      <td>0.976190</td>\n",
       "      <td>2.476190</td>\n",
       "      <td>When was A Separation released or published?</td>\n",
       "      <td>2011</td>\n",
       "      <td>2011</td>\n",
       "    </tr>\n",
       "    <tr>\n",
       "      <th>Where was {creative_work} produced or created?</th>\n",
       "      <td>21</td>\n",
       "      <td>0.957143</td>\n",
       "      <td>1.952381</td>\n",
       "      <td>Where was War and Peace produced or created?</td>\n",
       "      <td>Russia</td>\n",
       "      <td>Russia</td>\n",
       "    </tr>\n",
       "    <tr>\n",
       "      <th>Who is the creator of {creative_work}?</th>\n",
       "      <td>21</td>\n",
       "      <td>0.985714</td>\n",
       "      <td>3.952381</td>\n",
       "      <td>Who is the creator of Run Lola Run?</td>\n",
       "      <td>Tom Tykwer</td>\n",
       "      <td>Tom Tykwer</td>\n",
       "    </tr>\n",
       "    <tr>\n",
       "      <th rowspan=\"4\" valign=\"top\">Event</th>\n",
       "      <th>In which country did {event} happen?</th>\n",
       "      <td>35</td>\n",
       "      <td>0.985714</td>\n",
       "      <td>1.485714</td>\n",
       "      <td>In which country did French Revolution happen?</td>\n",
       "      <td>France</td>\n",
       "      <td>France</td>\n",
       "    </tr>\n",
       "    <tr>\n",
       "      <th>What year did {event} end?</th>\n",
       "      <td>35</td>\n",
       "      <td>0.985714</td>\n",
       "      <td>2.114286</td>\n",
       "      <td>What year did American Civil War end?</td>\n",
       "      <td>1865</td>\n",
       "      <td>1865</td>\n",
       "    </tr>\n",
       "    <tr>\n",
       "      <th>When did {event} take place?</th>\n",
       "      <td>35</td>\n",
       "      <td>0.934286</td>\n",
       "      <td>4.914286</td>\n",
       "      <td>When did The Surrender of Japan in WWII take p...</td>\n",
       "      <td>September 2, 1945</td>\n",
       "      <td>September 2, 1945</td>\n",
       "    </tr>\n",
       "    <tr>\n",
       "      <th>Who was the most important leader or figure involved in {event}?</th>\n",
       "      <td>35</td>\n",
       "      <td>0.991429</td>\n",
       "      <td>4.371429</td>\n",
       "      <td>Who was the most important leader or figure in...</td>\n",
       "      <td>Maximilien Robespierre</td>\n",
       "      <td>Robespierre</td>\n",
       "    </tr>\n",
       "    <tr>\n",
       "      <th rowspan=\"5\" valign=\"top\">Language</th>\n",
       "      <th>What is the ISO 639‑1 code for {language}?</th>\n",
       "      <td>21</td>\n",
       "      <td>1.000000</td>\n",
       "      <td>1.000000</td>\n",
       "      <td>What is the ISO 639‑1 code for Kazakh?</td>\n",
       "      <td>kk</td>\n",
       "      <td>kk</td>\n",
       "    </tr>\n",
       "    <tr>\n",
       "      <th>What is the name of the alphabet or script of {language}?</th>\n",
       "      <td>21</td>\n",
       "      <td>1.000000</td>\n",
       "      <td>2.619048</td>\n",
       "      <td>What is the name of the alphabet or script of ...</td>\n",
       "      <td>Greek alphabet</td>\n",
       "      <td>Greek alphabet</td>\n",
       "    </tr>\n",
       "    <tr>\n",
       "      <th>What is the primary word order in {language}?</th>\n",
       "      <td>21</td>\n",
       "      <td>1.000000</td>\n",
       "      <td>8.619048</td>\n",
       "      <td>What is the primary word order in Haitian Creole?</td>\n",
       "      <td>SVO (Subject-Verb-Object)</td>\n",
       "      <td>SVO (Subject-Verb-Object)</td>\n",
       "    </tr>\n",
       "    <tr>\n",
       "      <th>What region is {language} native to?</th>\n",
       "      <td>21</td>\n",
       "      <td>0.861905</td>\n",
       "      <td>3.666667</td>\n",
       "      <td>What region is Kazakh native to?</td>\n",
       "      <td>Central Asia</td>\n",
       "      <td>Central Asia</td>\n",
       "    </tr>\n",
       "    <tr>\n",
       "      <th>What writing system is used by {language}?</th>\n",
       "      <td>21</td>\n",
       "      <td>1.000000</td>\n",
       "      <td>2.761905</td>\n",
       "      <td>What writing system is used by Haitian Creole?</td>\n",
       "      <td>Latin alphabet</td>\n",
       "      <td>Latin alphabet</td>\n",
       "    </tr>\n",
       "    <tr>\n",
       "      <th rowspan=\"6\" valign=\"top\">Organization</th>\n",
       "      <th>In what year was {organization} established?</th>\n",
       "      <td>22</td>\n",
       "      <td>1.000000</td>\n",
       "      <td>2.000000</td>\n",
       "      <td>In what year was Alibaba established?</td>\n",
       "      <td>1999</td>\n",
       "      <td>1999</td>\n",
       "    </tr>\n",
       "    <tr>\n",
       "      <th>What is the primary field or industry of {organization}?</th>\n",
       "      <td>22</td>\n",
       "      <td>0.890909</td>\n",
       "      <td>2.772727</td>\n",
       "      <td>What is the primary field or industry of Airbnb?</td>\n",
       "      <td>Hospitality</td>\n",
       "      <td>Short-term rentals</td>\n",
       "    </tr>\n",
       "    <tr>\n",
       "      <th>What primary service or product does {organization} provide?</th>\n",
       "      <td>22</td>\n",
       "      <td>0.868182</td>\n",
       "      <td>3.727273</td>\n",
       "      <td>What primary service or product does Red Cross...</td>\n",
       "      <td>Emergency humanitarian aid</td>\n",
       "      <td>Disaster relief and humanitarian aid</td>\n",
       "    </tr>\n",
       "    <tr>\n",
       "      <th>Where is the headquarters of {organization} located?</th>\n",
       "      <td>22</td>\n",
       "      <td>1.000000</td>\n",
       "      <td>5.136364</td>\n",
       "      <td>Where is the headquarters of Alibaba located?</td>\n",
       "      <td>Hangzhou, China</td>\n",
       "      <td>Hangzhou, China</td>\n",
       "    </tr>\n",
       "    <tr>\n",
       "      <th>Where was {organization} established?</th>\n",
       "      <td>22</td>\n",
       "      <td>0.959091</td>\n",
       "      <td>4.272727</td>\n",
       "      <td>Where was Johnson &amp; Johnson established?</td>\n",
       "      <td>New Brunswick, New Jersey, USA</td>\n",
       "      <td>New Brunswick, New Jersey</td>\n",
       "    </tr>\n",
       "    <tr>\n",
       "      <th>Who established {organization}?</th>\n",
       "      <td>22</td>\n",
       "      <td>0.813636</td>\n",
       "      <td>5.363636</td>\n",
       "      <td>Who established Coca-Cola?</td>\n",
       "      <td>John Stith Pemberton</td>\n",
       "      <td>John Pemberton</td>\n",
       "    </tr>\n",
       "    <tr>\n",
       "      <th rowspan=\"6\" valign=\"top\">Person</th>\n",
       "      <th>What language was primarily spoken by {person}?</th>\n",
       "      <td>26</td>\n",
       "      <td>0.976923</td>\n",
       "      <td>1.423077</td>\n",
       "      <td>What language was primarily spoken by William ...</td>\n",
       "      <td>Early Modern English</td>\n",
       "      <td>English</td>\n",
       "    </tr>\n",
       "    <tr>\n",
       "      <th>What occupation is {person} most well-known for?</th>\n",
       "      <td>26</td>\n",
       "      <td>0.965385</td>\n",
       "      <td>3.153846</td>\n",
       "      <td>What occupation is Alexander the Great most we...</td>\n",
       "      <td>Military leader and king</td>\n",
       "      <td>Conqueror and military leader</td>\n",
       "    </tr>\n",
       "    <tr>\n",
       "      <th>What year did {person} pass away?</th>\n",
       "      <td>26</td>\n",
       "      <td>1.000000</td>\n",
       "      <td>2.000000</td>\n",
       "      <td>What year did Cleopatra VII pass away?</td>\n",
       "      <td>30 BC</td>\n",
       "      <td>30 BC</td>\n",
       "    </tr>\n",
       "    <tr>\n",
       "      <th>What year was {person} born?</th>\n",
       "      <td>26</td>\n",
       "      <td>1.000000</td>\n",
       "      <td>2.115385</td>\n",
       "      <td>What year was Alexander the Great born?</td>\n",
       "      <td>356 BC</td>\n",
       "      <td>356 BC</td>\n",
       "    </tr>\n",
       "    <tr>\n",
       "      <th>Where did {person} die?</th>\n",
       "      <td>26</td>\n",
       "      <td>0.930769</td>\n",
       "      <td>5.076923</td>\n",
       "      <td>Where did Vladimir Lenin die?</td>\n",
       "      <td>Gorki, Russia</td>\n",
       "      <td>Dacha at Gorky Park, Moscow, Russia</td>\n",
       "    </tr>\n",
       "    <tr>\n",
       "      <th>Where was the birthplace of {person}?</th>\n",
       "      <td>26</td>\n",
       "      <td>0.953846</td>\n",
       "      <td>5.153846</td>\n",
       "      <td>Where was the birthplace of Vincent van Gogh?</td>\n",
       "      <td>Zundert, Netherlands</td>\n",
       "      <td>Groot-Zundert, Netherlands</td>\n",
       "    </tr>\n",
       "    <tr>\n",
       "      <th rowspan=\"4\" valign=\"top\">Species</th>\n",
       "      <th>What is the diet of {species}?</th>\n",
       "      <td>25</td>\n",
       "      <td>0.768000</td>\n",
       "      <td>10.320000</td>\n",
       "      <td>What is the diet of wolverine?</td>\n",
       "      <td>Carnivorous; eats small animals, birds, carrio...</td>\n",
       "      <td>Carnivorous, eating small mammals, birds, and ...</td>\n",
       "    </tr>\n",
       "    <tr>\n",
       "      <th>What is the social structure of {species}?</th>\n",
       "      <td>25</td>\n",
       "      <td>0.772000</td>\n",
       "      <td>6.120000</td>\n",
       "      <td>What is the social structure of tiger?</td>\n",
       "      <td>Solitary, territorial</td>\n",
       "      <td>Solitary or small groups</td>\n",
       "    </tr>\n",
       "    <tr>\n",
       "      <th>What type of organism is this {species}?</th>\n",
       "      <td>25</td>\n",
       "      <td>0.968000</td>\n",
       "      <td>3.080000</td>\n",
       "      <td>What type of organism is this panda?</td>\n",
       "      <td>Mammal</td>\n",
       "      <td>Mammal</td>\n",
       "    </tr>\n",
       "    <tr>\n",
       "      <th>Where is {species} primarily native to?</th>\n",
       "      <td>25</td>\n",
       "      <td>0.848000</td>\n",
       "      <td>3.680000</td>\n",
       "      <td>Where is red-shouldered hawk primarily native to?</td>\n",
       "      <td>North America</td>\n",
       "      <td>North America</td>\n",
       "    </tr>\n",
       "  </tbody>\n",
       "</table>\n",
       "</div>"
      ],
      "text/plain": [
       "                                                                  # entity  \\\n",
       "entity_type   template                                                       \n",
       "Country       What is the ISO alpha-2 code for {country}?               36   \n",
       "              What is the calling code for {country}?                   36   \n",
       "              What is the capital of {country}?                         36   \n",
       "              What is the currency of {country}?                        36   \n",
       "              What is the top-level internet domain for {coun...        36   \n",
       "              What language in {country} has the most speakers?         36   \n",
       "              Which ethnic group is the largest in {country}?           36   \n",
       "              Which religion has the most followers in {count...        36   \n",
       "Creative Work In which country was {creative_work} first rele...        21   \n",
       "              What is the genre or style of {creative_work}?            21   \n",
       "              What is the original language of {creative_work}?         21   \n",
       "              When was {creative_work} released or published?           21   \n",
       "              Where was {creative_work} produced or created?            21   \n",
       "              Who is the creator of {creative_work}?                    21   \n",
       "Event         In which country did {event} happen?                      35   \n",
       "              What year did {event} end?                                35   \n",
       "              When did {event} take place?                              35   \n",
       "              Who was the most important leader or figure inv...        35   \n",
       "Language      What is the ISO 639‑1 code for {language}?                21   \n",
       "              What is the name of the alphabet or script of {...        21   \n",
       "              What is the primary word order in {language}?             21   \n",
       "              What region is {language} native to?                      21   \n",
       "              What writing system is used by {language}?                21   \n",
       "Organization  In what year was {organization} established?              22   \n",
       "              What is the primary field or industry of {organ...        22   \n",
       "              What primary service or product does {organizat...        22   \n",
       "              Where is the headquarters of {organization} loc...        22   \n",
       "              Where was {organization} established?                     22   \n",
       "              Who established {organization}?                           22   \n",
       "Person        What language was primarily spoken by {person}?           26   \n",
       "              What occupation is {person} most well-known for?          26   \n",
       "              What year did {person} pass away?                         26   \n",
       "              What year was {person} born?                              26   \n",
       "              Where did {person} die?                                   26   \n",
       "              Where was the birthplace of {person}?                     26   \n",
       "Species       What is the diet of {species}?                            25   \n",
       "              What is the social structure of {species}?                25   \n",
       "              What type of organism is this {species}?                  25   \n",
       "              Where is {species} primarily native to?                   25   \n",
       "\n",
       "                                                                  avg_llm_accuracy  \\\n",
       "entity_type   template                                                               \n",
       "Country       What is the ISO alpha-2 code for {country}?                 1.000000   \n",
       "              What is the calling code for {country}?                     1.000000   \n",
       "              What is the capital of {country}?                           1.000000   \n",
       "              What is the currency of {country}?                          0.983333   \n",
       "              What is the top-level internet domain for {coun...          1.000000   \n",
       "              What language in {country} has the most speakers?           0.991667   \n",
       "              Which ethnic group is the largest in {country}?             0.975000   \n",
       "              Which religion has the most followers in {count...          0.975000   \n",
       "Creative Work In which country was {creative_work} first rele...          1.000000   \n",
       "              What is the genre or style of {creative_work}?              0.790476   \n",
       "              What is the original language of {creative_work}?           1.000000   \n",
       "              When was {creative_work} released or published?             0.976190   \n",
       "              Where was {creative_work} produced or created?              0.957143   \n",
       "              Who is the creator of {creative_work}?                      0.985714   \n",
       "Event         In which country did {event} happen?                        0.985714   \n",
       "              What year did {event} end?                                  0.985714   \n",
       "              When did {event} take place?                                0.934286   \n",
       "              Who was the most important leader or figure inv...          0.991429   \n",
       "Language      What is the ISO 639‑1 code for {language}?                  1.000000   \n",
       "              What is the name of the alphabet or script of {...          1.000000   \n",
       "              What is the primary word order in {language}?               1.000000   \n",
       "              What region is {language} native to?                        0.861905   \n",
       "              What writing system is used by {language}?                  1.000000   \n",
       "Organization  In what year was {organization} established?                1.000000   \n",
       "              What is the primary field or industry of {organ...          0.890909   \n",
       "              What primary service or product does {organizat...          0.868182   \n",
       "              Where is the headquarters of {organization} loc...          1.000000   \n",
       "              Where was {organization} established?                       0.959091   \n",
       "              Who established {organization}?                             0.813636   \n",
       "Person        What language was primarily spoken by {person}?             0.976923   \n",
       "              What occupation is {person} most well-known for?            0.965385   \n",
       "              What year did {person} pass away?                           1.000000   \n",
       "              What year was {person} born?                                1.000000   \n",
       "              Where did {person} die?                                     0.930769   \n",
       "              Where was the birthplace of {person}?                       0.953846   \n",
       "Species       What is the diet of {species}?                              0.768000   \n",
       "              What is the social structure of {species}?                  0.772000   \n",
       "              What type of organism is this {species}?                    0.968000   \n",
       "              Where is {species} primarily native to?                     0.848000   \n",
       "\n",
       "                                                                  avg_answer_len (in GPT4 tokens)  \\\n",
       "entity_type   template                                                                              \n",
       "Country       What is the ISO alpha-2 code for {country}?                                1.027778   \n",
       "              What is the calling code for {country}?                                    2.000000   \n",
       "              What is the capital of {country}?                                          2.277778   \n",
       "              What is the currency of {country}?                                         3.611111   \n",
       "              What is the top-level internet domain for {coun...                         1.138889   \n",
       "              What language in {country} has the most speakers?                          2.250000   \n",
       "              Which ethnic group is the largest in {country}?                            2.694444   \n",
       "              Which religion has the most followers in {count...                         2.388889   \n",
       "Creative Work In which country was {creative_work} first rele...                         1.619048   \n",
       "              What is the genre or style of {creative_work}?                             4.761905   \n",
       "              What is the original language of {creative_work}?                          1.047619   \n",
       "              When was {creative_work} released or published?                            2.476190   \n",
       "              Where was {creative_work} produced or created?                             1.952381   \n",
       "              Who is the creator of {creative_work}?                                     3.952381   \n",
       "Event         In which country did {event} happen?                                       1.485714   \n",
       "              What year did {event} end?                                                 2.114286   \n",
       "              When did {event} take place?                                               4.914286   \n",
       "              Who was the most important leader or figure inv...                         4.371429   \n",
       "Language      What is the ISO 639‑1 code for {language}?                                 1.000000   \n",
       "              What is the name of the alphabet or script of {...                         2.619048   \n",
       "              What is the primary word order in {language}?                              8.619048   \n",
       "              What region is {language} native to?                                       3.666667   \n",
       "              What writing system is used by {language}?                                 2.761905   \n",
       "Organization  In what year was {organization} established?                               2.000000   \n",
       "              What is the primary field or industry of {organ...                         2.772727   \n",
       "              What primary service or product does {organizat...                         3.727273   \n",
       "              Where is the headquarters of {organization} loc...                         5.136364   \n",
       "              Where was {organization} established?                                      4.272727   \n",
       "              Who established {organization}?                                            5.363636   \n",
       "Person        What language was primarily spoken by {person}?                            1.423077   \n",
       "              What occupation is {person} most well-known for?                           3.153846   \n",
       "              What year did {person} pass away?                                          2.000000   \n",
       "              What year was {person} born?                                               2.115385   \n",
       "              Where did {person} die?                                                    5.076923   \n",
       "              Where was the birthplace of {person}?                                      5.153846   \n",
       "Species       What is the diet of {species}?                                            10.320000   \n",
       "              What is the social structure of {species}?                                 6.120000   \n",
       "              What type of organism is this {species}?                                   3.080000   \n",
       "              Where is {species} primarily native to?                                    3.680000   \n",
       "\n",
       "                                                                                                   example_question  \\\n",
       "entity_type   template                                                                                                \n",
       "Country       What is the ISO alpha-2 code for {country}?                 What is the ISO alpha-2 code for Nigeria?   \n",
       "              What is the calling code for {country}?                         What is the calling code for Armenia?   \n",
       "              What is the capital of {country}?                                      What is the capital of Turkey?   \n",
       "              What is the currency of {country}?                                   What is the currency of Vietnam?   \n",
       "              What is the top-level internet domain for {coun...   What is the top-level internet domain for Spain?   \n",
       "              What language in {country} has the most speakers?       What language in Kenya has the most speakers?   \n",
       "              Which ethnic group is the largest in {country}?        Which ethnic group is the largest in Thailand?   \n",
       "              Which religion has the most followers in {count...   Which religion has the most followers in Norway?   \n",
       "Creative Work In which country was {creative_work} first rele...  In which country was Amélie first released or ...   \n",
       "              What is the genre or style of {creative_work}?      What is the genre or style of The Brothers Kar...   \n",
       "              What is the original language of {creative_work}?   What is the original language of The Grapes of...   \n",
       "              When was {creative_work} released or published?          When was A Separation released or published?   \n",
       "              Where was {creative_work} produced or created?           Where was War and Peace produced or created?   \n",
       "              Who is the creator of {creative_work}?                            Who is the creator of Run Lola Run?   \n",
       "Event         In which country did {event} happen?                   In which country did French Revolution happen?   \n",
       "              What year did {event} end?                                      What year did American Civil War end?   \n",
       "              When did {event} take place?                        When did The Surrender of Japan in WWII take p...   \n",
       "              Who was the most important leader or figure inv...  Who was the most important leader or figure in...   \n",
       "Language      What is the ISO 639‑1 code for {language}?                     What is the ISO 639‑1 code for Kazakh?   \n",
       "              What is the name of the alphabet or script of {...  What is the name of the alphabet or script of ...   \n",
       "              What is the primary word order in {language}?       What is the primary word order in Haitian Creole?   \n",
       "              What region is {language} native to?                                 What region is Kazakh native to?   \n",
       "              What writing system is used by {language}?             What writing system is used by Haitian Creole?   \n",
       "Organization  In what year was {organization} established?                    In what year was Alibaba established?   \n",
       "              What is the primary field or industry of {organ...   What is the primary field or industry of Airbnb?   \n",
       "              What primary service or product does {organizat...  What primary service or product does Red Cross...   \n",
       "              Where is the headquarters of {organization} loc...      Where is the headquarters of Alibaba located?   \n",
       "              Where was {organization} established?                        Where was Johnson & Johnson established?   \n",
       "              Who established {organization}?                                            Who established Coca-Cola?   \n",
       "Person        What language was primarily spoken by {person}?     What language was primarily spoken by William ...   \n",
       "              What occupation is {person} most well-known for?    What occupation is Alexander the Great most we...   \n",
       "              What year did {person} pass away?                              What year did Cleopatra VII pass away?   \n",
       "              What year was {person} born?                                  What year was Alexander the Great born?   \n",
       "              Where did {person} die?                                                 Where did Vladimir Lenin die?   \n",
       "              Where was the birthplace of {person}?                   Where was the birthplace of Vincent van Gogh?   \n",
       "Species       What is the diet of {species}?                                         What is the diet of wolverine?   \n",
       "              What is the social structure of {species}?                     What is the social structure of tiger?   \n",
       "              What type of organism is this {species}?                         What type of organism is this panda?   \n",
       "              Where is {species} primarily native to?             Where is red-shouldered hawk primarily native to?   \n",
       "\n",
       "                                                                                                     example_answer  \\\n",
       "entity_type   template                                                                                                \n",
       "Country       What is the ISO alpha-2 code for {country}?                                                        NG   \n",
       "              What is the calling code for {country}?                                                          +374   \n",
       "              What is the capital of {country}?                                                              Ankara   \n",
       "              What is the currency of {country}?                                                    Vietnamese dong   \n",
       "              What is the top-level internet domain for {coun...                                                .es   \n",
       "              What language in {country} has the most speakers?                                             Swahili   \n",
       "              Which ethnic group is the largest in {country}?                                                  Thai   \n",
       "              Which religion has the most followers in {count...                                       Christianity   \n",
       "Creative Work In which country was {creative_work} first rele...                                             France   \n",
       "              What is the genre or style of {creative_work}?                   Philosophical, psychological fiction   \n",
       "              What is the original language of {creative_work}?                                             English   \n",
       "              When was {creative_work} released or published?                                                  2011   \n",
       "              Where was {creative_work} produced or created?                                                 Russia   \n",
       "              Who is the creator of {creative_work}?                                                     Tom Tykwer   \n",
       "Event         In which country did {event} happen?                                                           France   \n",
       "              What year did {event} end?                                                                       1865   \n",
       "              When did {event} take place?                                                        September 2, 1945   \n",
       "              Who was the most important leader or figure inv...                             Maximilien Robespierre   \n",
       "Language      What is the ISO 639‑1 code for {language}?                                                         kk   \n",
       "              What is the name of the alphabet or script of {...                                     Greek alphabet   \n",
       "              What is the primary word order in {language}?                               SVO (Subject-Verb-Object)   \n",
       "              What region is {language} native to?                                                     Central Asia   \n",
       "              What writing system is used by {language}?                                             Latin alphabet   \n",
       "Organization  In what year was {organization} established?                                                     1999   \n",
       "              What is the primary field or industry of {organ...                                        Hospitality   \n",
       "              What primary service or product does {organizat...                         Emergency humanitarian aid   \n",
       "              Where is the headquarters of {organization} loc...                                    Hangzhou, China   \n",
       "              Where was {organization} established?                                  New Brunswick, New Jersey, USA   \n",
       "              Who established {organization}?                                                  John Stith Pemberton   \n",
       "Person        What language was primarily spoken by {person}?                                  Early Modern English   \n",
       "              What occupation is {person} most well-known for?                             Military leader and king   \n",
       "              What year did {person} pass away?                                                               30 BC   \n",
       "              What year was {person} born?                                                                   356 BC   \n",
       "              Where did {person} die?                                                                 Gorki, Russia   \n",
       "              Where was the birthplace of {person}?                                            Zundert, Netherlands   \n",
       "Species       What is the diet of {species}?                      Carnivorous; eats small animals, birds, carrio...   \n",
       "              What is the social structure of {species}?                                      Solitary, territorial   \n",
       "              What type of organism is this {species}?                                                       Mammal   \n",
       "              Where is {species} primarily native to?                                                 North America   \n",
       "\n",
       "                                                                                                 example_prediction  \n",
       "entity_type   template                                                                                               \n",
       "Country       What is the ISO alpha-2 code for {country}?                                                        NG  \n",
       "              What is the calling code for {country}?                                                          +374  \n",
       "              What is the capital of {country}?                                                              Ankara  \n",
       "              What is the currency of {country}?                                                               Dong  \n",
       "              What is the top-level internet domain for {coun...                                                .es  \n",
       "              What language in {country} has the most speakers?                                             Swahili  \n",
       "              Which ethnic group is the largest in {country}?                                                  Thai  \n",
       "              Which religion has the most followers in {count...                                       Christianity  \n",
       "Creative Work In which country was {creative_work} first rele...                                             France  \n",
       "              What is the genre or style of {creative_work}?                                    Psychological drama  \n",
       "              What is the original language of {creative_work}?                                             English  \n",
       "              When was {creative_work} released or published?                                                  2011  \n",
       "              Where was {creative_work} produced or created?                                                 Russia  \n",
       "              Who is the creator of {creative_work}?                                                     Tom Tykwer  \n",
       "Event         In which country did {event} happen?                                                           France  \n",
       "              What year did {event} end?                                                                       1865  \n",
       "              When did {event} take place?                                                        September 2, 1945  \n",
       "              Who was the most important leader or figure inv...                                        Robespierre  \n",
       "Language      What is the ISO 639‑1 code for {language}?                                                         kk  \n",
       "              What is the name of the alphabet or script of {...                                     Greek alphabet  \n",
       "              What is the primary word order in {language}?                               SVO (Subject-Verb-Object)  \n",
       "              What region is {language} native to?                                                     Central Asia  \n",
       "              What writing system is used by {language}?                                             Latin alphabet  \n",
       "Organization  In what year was {organization} established?                                                     1999  \n",
       "              What is the primary field or industry of {organ...                                 Short-term rentals  \n",
       "              What primary service or product does {organizat...               Disaster relief and humanitarian aid  \n",
       "              Where is the headquarters of {organization} loc...                                    Hangzhou, China  \n",
       "              Where was {organization} established?                                       New Brunswick, New Jersey  \n",
       "              Who established {organization}?                                                        John Pemberton  \n",
       "Person        What language was primarily spoken by {person}?                                               English  \n",
       "              What occupation is {person} most well-known for?                        Conqueror and military leader  \n",
       "              What year did {person} pass away?                                                               30 BC  \n",
       "              What year was {person} born?                                                                   356 BC  \n",
       "              Where did {person} die?                                           Dacha at Gorky Park, Moscow, Russia  \n",
       "              Where was the birthplace of {person}?                                      Groot-Zundert, Netherlands  \n",
       "Species       What is the diet of {species}?                      Carnivorous, eating small mammals, birds, and ...  \n",
       "              What is the social structure of {species}?                                   Solitary or small groups  \n",
       "              What type of organism is this {species}?                                                       Mammal  \n",
       "              Where is {species} primarily native to?                                                 North America  "
      ]
     },
     "execution_count": 201,
     "metadata": {},
     "output_type": "execute_result"
    }
   ],
   "source": [
    "spotcheck_df"
   ]
  },
  {
   "cell_type": "code",
   "execution_count": null,
   "id": "a6e86f19",
   "metadata": {},
   "outputs": [],
   "source": []
  },
  {
   "cell_type": "code",
   "execution_count": null,
   "id": "900b4d5a",
   "metadata": {},
   "outputs": [],
   "source": [
    "spotcheck_df.to_excel(f\"/u/zliu/datastor1/mend/spotcheck/spotcheck_df_curated_v1_rel.xlsx\", index=True)"
   ]
  },
  {
   "cell_type": "code",
   "execution_count": null,
   "id": "76f724a8",
   "metadata": {},
   "outputs": [],
   "source": [
    "entity_spotcheck_df\n",
    "entity_spotcheck_df.to_excel(f\"/u/zliu/datastor1/mend/spotcheck/spotcheck_df_curated_v1_entity.xlsx\", index=True)"
   ]
  },
  {
   "cell_type": "code",
   "execution_count": null,
   "id": "a0a461ac",
   "metadata": {},
   "outputs": [],
   "source": [
    "# entity_type2filtered_templates"
   ]
  },
  {
   "cell_type": "code",
   "execution_count": null,
   "id": "18fa9193",
   "metadata": {},
   "outputs": [],
   "source": [
    "# len(question2answer)"
   ]
  },
  {
   "cell_type": "code",
   "execution_count": 122,
   "id": "d074f885",
   "metadata": {},
   "outputs": [
    {
     "name": "stdout",
     "output_type": "stream",
     "text": [
      "# templates: 38\n",
      "# entities: 189\n"
     ]
    }
   ],
   "source": [
    "all_templates = [(et, t) for et in entity_type2filtered_templates.keys() for t in entity_type2filtered_templates[et]]\n",
    "print(\"# templates:\", len(all_templates))\n",
    "all_entities = [(et, e) for et in entity_type2filtered_entities.keys() for e in entity_type2filtered_entities[et]]\n",
    "print(\"# entities:\", len(all_entities))\n",
    "dump_json(all_templates, f\"{vars.DATA_DIR}/debug_meta_train/syn_data_neurips/data_gen/all_relations.json\")\n",
    "dump_json(all_entities, f\"{vars.DATA_DIR}/debug_meta_train/syn_data_neurips/data_gen/all_entities.json\")"
   ]
  },
  {
   "cell_type": "code",
   "execution_count": 129,
   "id": "5b8547e7",
   "metadata": {},
   "outputs": [],
   "source": [
    "rand_template_ids = np.arange(len(all_templates))\n",
    "np.random.shuffle(rand_template_ids)\n",
    "rand_entity_ids = np.arange(len(all_entities))\n",
    "np.random.shuffle(rand_entity_ids)"
   ]
  },
  {
   "cell_type": "code",
   "execution_count": 136,
   "id": "6d53afe8",
   "metadata": {},
   "outputs": [
    {
     "name": "stdout",
     "output_type": "stream",
     "text": [
      "# ID templates: 31\n",
      "# ID entities: 152\n",
      "# OOD templates: 7\n",
      "# OOD entities: 37\n",
      "Entity Distribution of OOD templates\n",
      "Counter({'Event': 9, 'Country': 7, 'Species': 7, 'Language': 5, 'Creative Work': 5, 'Person': 3, 'Organization': 1})\n",
      "Relation Distribution of OOD templates\n",
      "Counter({'Event': 2, 'Organization': 1, 'Creative Work': 1, 'Country': 1, 'Species': 1, 'Language': 1})\n"
     ]
    }
   ],
   "source": [
    "ood_prop = 0.2\n",
    "ood_template_ids = rand_template_ids[:int(len(rand_template_ids) * ood_prop)]\n",
    "ood_entity_ids = rand_entity_ids[:int(len(rand_entity_ids) * ood_prop)]\n",
    "id_template_ids = rand_template_ids[int(len(rand_template_ids) * ood_prop):]\n",
    "id_entity_ids = rand_entity_ids[int(len(rand_entity_ids) * ood_prop):]\n",
    "\n",
    "id_templates = [\n",
    "    all_templates[i] for i in id_template_ids\n",
    "]\n",
    "id_entities = [\n",
    "    all_entities[i] for i in id_entity_ids\n",
    "]\n",
    "print(\"# ID templates:\", len(id_templates))\n",
    "print(\"# ID entities:\", len(id_entities))\n",
    "\n",
    "ood_templates = [\n",
    "    all_templates[i] for i in ood_template_ids\n",
    "]\n",
    "ood_entities = [\n",
    "    all_entities[i] for i in ood_entity_ids\n",
    "]\n",
    "print(\"# OOD templates:\", len(ood_templates))\n",
    "print(\"# OOD entities:\", len(ood_entities))\n",
    "\n",
    "print(\"Entity Distribution of OOD templates\")\n",
    "print(Counter([et for et, _ in ood_entities]))\n",
    "\n",
    "print(\"Relation Distribution of OOD templates\")\n",
    "print(Counter([et for et, _ in ood_templates]))"
   ]
  },
  {
   "cell_type": "code",
   "execution_count": 137,
   "id": "db680171",
   "metadata": {},
   "outputs": [],
   "source": [
    "# ood_templates = defaultdict(list)\n",
    "# for et, t in ood_templates:\n",
    "#     ood_templates[et].append(t)\n",
    "# ood_entities = defaultdict(list)\n",
    "# for et, e in ood_entities:\n",
    "#     ood_entities[et].append(e)\n",
    "# id_templates = defaultdict(list)\n",
    "# for et, t in id_templates:\n",
    "#     id_templates[et].append(t)\n",
    "# id_entities = defaultdict(list)\n",
    "# for et, e in id_entities:\n",
    "#     id_entities[et].append(e)"
   ]
  },
  {
   "cell_type": "code",
   "execution_count": 138,
   "id": "7d16ac37",
   "metadata": {},
   "outputs": [],
   "source": [
    "dump_json({\"id\": id_templates, \"ood\": ood_templates}, f\"{vars.DATA_DIR}/debug_meta_train/syn_data_neurips/data_gen/exp_relations.json\")\n",
    "dump_json({\"id\": id_entities, \"ood\": ood_entities}, f\"{vars.DATA_DIR}/debug_meta_train/syn_data_neurips/data_gen/exp_entities.json\")"
   ]
  },
  {
   "cell_type": "markdown",
   "id": "e94dea7d",
   "metadata": {},
   "source": [
    "# Sampling entity and template for data"
   ]
  },
  {
   "cell_type": "code",
   "execution_count": null,
   "id": "82255539",
   "metadata": {},
   "outputs": [],
   "source": []
  },
  {
   "cell_type": "code",
   "execution_count": null,
   "id": "275591c3",
   "metadata": {},
   "outputs": [],
   "source": []
  },
  {
   "cell_type": "code",
   "execution_count": null,
   "id": "f3119b49",
   "metadata": {},
   "outputs": [],
   "source": []
  },
  {
   "cell_type": "code",
   "execution_count": null,
   "id": "2b6310e4",
   "metadata": {},
   "outputs": [],
   "source": []
  },
  {
   "cell_type": "code",
   "execution_count": null,
   "id": "9b1396ee",
   "metadata": {},
   "outputs": [],
   "source": []
  },
  {
   "cell_type": "code",
   "execution_count": null,
   "id": "cc3ad0b0",
   "metadata": {},
   "outputs": [],
   "source": []
  }
 ],
 "metadata": {
  "kernelspec": {
   "display_name": "cpt",
   "language": "python",
   "name": "python3"
  },
  "language_info": {
   "codemirror_mode": {
    "name": "ipython",
    "version": 3
   },
   "file_extension": ".py",
   "mimetype": "text/x-python",
   "name": "python",
   "nbconvert_exporter": "python",
   "pygments_lexer": "ipython3",
   "version": "3.11.0"
  }
 },
 "nbformat": 4,
 "nbformat_minor": 5
}
